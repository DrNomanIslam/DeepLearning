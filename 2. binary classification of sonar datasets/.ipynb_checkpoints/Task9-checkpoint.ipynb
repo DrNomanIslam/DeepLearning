{
 "cells": [
  {
   "cell_type": "code",
   "execution_count": 4,
   "metadata": {
    "collapsed": false
   },
   "outputs": [],
   "source": [
    "import numpy\n",
    "import pandas\n",
    "from keras.models import Sequential\n",
    "from keras.layers import Dense\n",
    "from keras.layers import Dropout\n",
    "import keras.initializers\n",
    "from keras import Model\n",
    "from keras.utils import to_categorical"
   ]
  },
  {
   "cell_type": "code",
   "execution_count": 2,
   "metadata": {
    "collapsed": true
   },
   "outputs": [],
   "source": [
    "# fix random seed for reproducibility\n",
    "seed = 7\n",
    "numpy.random.seed(seed)"
   ]
  },
  {
   "cell_type": "code",
   "execution_count": 22,
   "metadata": {
    "collapsed": false
   },
   "outputs": [],
   "source": [
    "# load dataset\n",
    "dataframe = pandas.read_csv(\"sonar.csv\", header=None)\n",
    "data = dataframe.values\n",
    "data[:,60]=(data[:,60]=='R').astype('float32')"
   ]
  },
  {
   "cell_type": "code",
   "execution_count": 36,
   "metadata": {
    "collapsed": true
   },
   "outputs": [],
   "source": [
    "# Define the model\n",
    "def get_model():\n",
    "# create model, write code below\n",
    "    model = Sequential()\n",
    "    model.add(Dense(60, activation='relu', input_shape=(60,), kernel_initializer=keras.initializers.RandomNormal(mean=0.0, stddev=0.05, seed=None)))\n",
    "    model.add(Dense(30, activation='relu',kernel_initializer=keras.initializers.RandomNormal(mean=0.0, stddev=0.05, seed=None)))\n",
    "    model.add(Dense(1, activation='sigmoid',kernel_initializer=keras.initializers.RandomNormal(mean=0.0, stddev=0.05, seed=None)))\n",
    "    # Compile model, write code below\n",
    "    model.compile(loss='binary_crossentropy',optimizer='adam',metrics=['acc'])\n",
    "    return model"
   ]
  },
  {
   "cell_type": "code",
   "execution_count": 39,
   "metadata": {
    "collapsed": false
   },
   "outputs": [],
   "source": [
    "k=2\n",
    "num_validation_samples = len(data) // k\n",
    "numpy.random.shuffle(data)\n",
    "validation_scores = []\n",
    "for fold in range(k):\n",
    "    validation = data[num_validation_samples * fold:num_validation_samples * (fold + 1)]\n",
    "    training_data = numpy.vstack([data[:num_validation_samples * fold] , data[num_validation_samples * (fold + 1):]])\n",
    "    model = get_model()\n",
    "    model.fit(training_data[:,0:60], training_data[:,60],epochs=10, batch_size=50, verbose=0)\n",
    "    #validation_score = model.evaluate(validation_data)\n",
    "    #validation_scores.append(validation_score)\n",
    "\n",
    "#validation_score = numpy.average(validation_scores)\n",
    "#validation_scores"
   ]
  },
  {
   "cell_type": "code",
   "execution_count": null,
   "metadata": {
    "collapsed": true
   },
   "outputs": [],
   "source": []
  }
 ],
 "metadata": {
  "kernelspec": {
   "display_name": "Python [default]",
   "language": "python",
   "name": "python3"
  },
  "language_info": {
   "codemirror_mode": {
    "name": "ipython",
    "version": 3
   },
   "file_extension": ".py",
   "mimetype": "text/x-python",
   "name": "python",
   "nbconvert_exporter": "python",
   "pygments_lexer": "ipython3",
   "version": "3.5.4"
  }
 },
 "nbformat": 4,
 "nbformat_minor": 1
}
