{
 "cells": [
  {
   "cell_type": "code",
   "execution_count": 26,
   "metadata": {
    "collapsed": true
   },
   "outputs": [],
   "source": [
    "import numpy as np\n",
    "import random"
   ]
  },
  {
   "cell_type": "code",
   "execution_count": 43,
   "metadata": {
    "collapsed": false
   },
   "outputs": [],
   "source": [
    "def gen_sequence1():\n",
    "    d=np.empty((50,3))\n",
    "    for i in range(0,50):\n",
    "        d[i,0]=2*i + np.random.randint(-2,2)\n",
    "        d[i,1]=3*i + np.random.randint(-2,2)\n",
    "        d[i,2]=4*i + np.random.randint(-2,2)\n",
    "    return d\n",
    "\n",
    "def gen_sequence2():\n",
    "    d=np.empty((50,3))\n",
    "    for i in range(0,50):\n",
    "        d[i,0]=3*i + np.random.randint(-2,2)\n",
    "        d[i,1]=5*i + np.random.randint(-2,2)\n",
    "        d[i,2]=6*i + np.random.randint(-2,2)\n",
    "    return d\n"
   ]
  },
  {
   "cell_type": "code",
   "execution_count": 44,
   "metadata": {
    "collapsed": false
   },
   "outputs": [],
   "source": [
    "data = np.empty((100*50,4))\n",
    "for i in range(0,100):\n",
    "    if random.random() < 0.5:\n",
    "        data[i*50:(i+1)*50,0:3]=gen_sequence1()\n",
    "        data[i*50:(i+1)*50,3]=0\n",
    "    else:\n",
    "        data[i*50:(i+1)*50,0:3]=gen_sequence2()\n",
    "        data[i*50:(i+1)*50,3]=1"
   ]
  },
  {
   "cell_type": "code",
   "execution_count": 45,
   "metadata": {
    "collapsed": false
   },
   "outputs": [],
   "source": [
    "np.savetxt('data.csv',data, delimiter=',')"
   ]
  },
  {
   "cell_type": "code",
   "execution_count": null,
   "metadata": {
    "collapsed": true
   },
   "outputs": [],
   "source": []
  }
 ],
 "metadata": {
  "anaconda-cloud": {},
  "kernelspec": {
   "display_name": "Python [conda env:Anaconda3]",
   "language": "python",
   "name": "conda-env-Anaconda3-py"
  },
  "language_info": {
   "codemirror_mode": {
    "name": "ipython",
    "version": 3
   },
   "file_extension": ".py",
   "mimetype": "text/x-python",
   "name": "python",
   "nbconvert_exporter": "python",
   "pygments_lexer": "ipython3",
   "version": "3.5.4"
  }
 },
 "nbformat": 4,
 "nbformat_minor": 1
}
