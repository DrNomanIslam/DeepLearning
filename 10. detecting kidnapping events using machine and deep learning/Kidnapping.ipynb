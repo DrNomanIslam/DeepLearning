{
 "cells": [
  {
   "cell_type": "code",
   "execution_count": 1,
   "metadata": {
    "scrolled": true
   },
   "outputs": [],
   "source": [
    "import numpy as np\n",
    "import pandas as pd\n",
    "import keras\n",
    "from keras.models import Sequential\n",
    "from keras.layers import Dense, Dropout, Flatten, Reshape, Conv1D, LSTM, BatchNormalization, Dropout, GRU\n",
    "import random"
   ]
  },
  {
   "cell_type": "code",
   "execution_count": 2,
   "metadata": {},
   "outputs": [
    {
     "data": {
      "text/html": [
       "<div>\n",
       "<style scoped>\n",
       "    .dataframe tbody tr th:only-of-type {\n",
       "        vertical-align: middle;\n",
       "    }\n",
       "\n",
       "    .dataframe tbody tr th {\n",
       "        vertical-align: top;\n",
       "    }\n",
       "\n",
       "    .dataframe thead th {\n",
       "        text-align: right;\n",
       "    }\n",
       "</style>\n",
       "<table border=\"1\" class=\"dataframe\">\n",
       "  <thead>\n",
       "    <tr style=\"text-align: right;\">\n",
       "      <th></th>\n",
       "      <th>Seq No.</th>\n",
       "      <th>Location</th>\n",
       "      <th>AccX</th>\n",
       "      <th>AccY</th>\n",
       "      <th>AccZ</th>\n",
       "      <th>Classs</th>\n",
       "    </tr>\n",
       "  </thead>\n",
       "  <tbody>\n",
       "    <tr>\n",
       "      <th>0</th>\n",
       "      <td>1</td>\n",
       "      <td>Kidnapping</td>\n",
       "      <td>1.073</td>\n",
       "      <td>-1.992</td>\n",
       "      <td>10.420</td>\n",
       "      <td>1</td>\n",
       "    </tr>\n",
       "    <tr>\n",
       "      <th>1</th>\n",
       "      <td>2</td>\n",
       "      <td>Kidnapping</td>\n",
       "      <td>-0.459</td>\n",
       "      <td>-3.524</td>\n",
       "      <td>9.807</td>\n",
       "      <td>1</td>\n",
       "    </tr>\n",
       "    <tr>\n",
       "      <th>2</th>\n",
       "      <td>3</td>\n",
       "      <td>Kidnapping</td>\n",
       "      <td>-0.153</td>\n",
       "      <td>-2.911</td>\n",
       "      <td>8.581</td>\n",
       "      <td>1</td>\n",
       "    </tr>\n",
       "    <tr>\n",
       "      <th>3</th>\n",
       "      <td>4</td>\n",
       "      <td>Kidnapping</td>\n",
       "      <td>-1.072</td>\n",
       "      <td>-3.524</td>\n",
       "      <td>9.347</td>\n",
       "      <td>1</td>\n",
       "    </tr>\n",
       "    <tr>\n",
       "      <th>4</th>\n",
       "      <td>5</td>\n",
       "      <td>Kidnapping</td>\n",
       "      <td>-1.072</td>\n",
       "      <td>-2.758</td>\n",
       "      <td>8.887</td>\n",
       "      <td>1</td>\n",
       "    </tr>\n",
       "    <tr>\n",
       "      <th>...</th>\n",
       "      <td>...</td>\n",
       "      <td>...</td>\n",
       "      <td>...</td>\n",
       "      <td>...</td>\n",
       "      <td>...</td>\n",
       "      <td>...</td>\n",
       "    </tr>\n",
       "    <tr>\n",
       "      <th>1945</th>\n",
       "      <td>46</td>\n",
       "      <td>Stairs</td>\n",
       "      <td>-2.604</td>\n",
       "      <td>3.064</td>\n",
       "      <td>12.105</td>\n",
       "      <td>0</td>\n",
       "    </tr>\n",
       "    <tr>\n",
       "      <th>1946</th>\n",
       "      <td>47</td>\n",
       "      <td>Stairs</td>\n",
       "      <td>-4.749</td>\n",
       "      <td>3.064</td>\n",
       "      <td>13.484</td>\n",
       "      <td>0</td>\n",
       "    </tr>\n",
       "    <tr>\n",
       "      <th>1947</th>\n",
       "      <td>48</td>\n",
       "      <td>Stairs</td>\n",
       "      <td>-1.991</td>\n",
       "      <td>2.298</td>\n",
       "      <td>6.129</td>\n",
       "      <td>0</td>\n",
       "    </tr>\n",
       "    <tr>\n",
       "      <th>1948</th>\n",
       "      <td>49</td>\n",
       "      <td>Stairs</td>\n",
       "      <td>-1.838</td>\n",
       "      <td>1.685</td>\n",
       "      <td>6.895</td>\n",
       "      <td>0</td>\n",
       "    </tr>\n",
       "    <tr>\n",
       "      <th>1949</th>\n",
       "      <td>50</td>\n",
       "      <td>Stairs</td>\n",
       "      <td>-1.838</td>\n",
       "      <td>3.524</td>\n",
       "      <td>8.734</td>\n",
       "      <td>0</td>\n",
       "    </tr>\n",
       "  </tbody>\n",
       "</table>\n",
       "<p>1950 rows × 6 columns</p>\n",
       "</div>"
      ],
      "text/plain": [
       "      Seq No.    Location   AccX   AccY    AccZ  Classs\n",
       "0           1  Kidnapping  1.073 -1.992  10.420       1\n",
       "1           2  Kidnapping -0.459 -3.524   9.807       1\n",
       "2           3  Kidnapping -0.153 -2.911   8.581       1\n",
       "3           4  Kidnapping -1.072 -3.524   9.347       1\n",
       "4           5  Kidnapping -1.072 -2.758   8.887       1\n",
       "...       ...         ...    ...    ...     ...     ...\n",
       "1945       46      Stairs -2.604  3.064  12.105       0\n",
       "1946       47      Stairs -4.749  3.064  13.484       0\n",
       "1947       48      Stairs -1.991  2.298   6.129       0\n",
       "1948       49      Stairs -1.838  1.685   6.895       0\n",
       "1949       50      Stairs -1.838  3.524   8.734       0\n",
       "\n",
       "[1950 rows x 6 columns]"
      ]
     },
     "execution_count": 2,
     "metadata": {},
     "output_type": "execute_result"
    }
   ],
   "source": [
    "data = pd.read_csv('acc-data.csv')\n",
    "data"
   ]
  },
  {
   "cell_type": "code",
   "execution_count": 3,
   "metadata": {},
   "outputs": [
    {
     "data": {
      "text/plain": [
       "Index(['Seq No.', 'Location', 'AccX', 'AccY', 'AccZ', 'Classs'], dtype='object')"
      ]
     },
     "execution_count": 3,
     "metadata": {},
     "output_type": "execute_result"
    }
   ],
   "source": [
    "data.columns"
   ]
  },
  {
   "cell_type": "code",
   "execution_count": 5,
   "metadata": {},
   "outputs": [
    {
     "data": {
      "text/plain": [
       "10.0"
      ]
     },
     "execution_count": 5,
     "metadata": {},
     "output_type": "execute_result"
    }
   ],
   "source": [
    "len(data[data['Classs']==1])/50"
   ]
  },
  {
   "cell_type": "code",
   "execution_count": 6,
   "metadata": {},
   "outputs": [
    {
     "data": {
      "text/plain": [
       "(27, 150)"
      ]
     },
     "execution_count": 6,
     "metadata": {},
     "output_type": "execute_result"
    }
   ],
   "source": [
    "n = 39\n",
    "X = np.empty((n,50*3))\n",
    "Y = np.empty(n)\n",
    "for i in range(0,n):\n",
    "    for j in range(0,3):\n",
    "        X[i,j*50:(j+1)*50]=data.iloc[i*50:(i+1)*50,j+2]\n",
    "    Y[i]=data.iloc[i*50,5]\n",
    "    \n",
    "from sklearn.model_selection import train_test_split\n",
    "X_train, X_test,Y_train, Y_test = train_test_split(X,Y, test_size=0.3,random_state=8, shuffle=True)\n",
    "X_train.shape"
   ]
  },
  {
   "cell_type": "code",
   "execution_count": 7,
   "metadata": {},
   "outputs": [],
   "source": [
    "from sklearn.linear_model import LogisticRegression\n",
    "from sklearn.metrics import accuracy_score\n",
    "from sklearn.metrics import precision_score\n",
    "from sklearn.metrics import recall_score"
   ]
  },
  {
   "cell_type": "code",
   "execution_count": 8,
   "metadata": {},
   "outputs": [
    {
     "name": "stdout",
     "output_type": "stream",
     "text": [
      "0.5833333333333334\n",
      "0.0\n",
      "0.0\n"
     ]
    }
   ],
   "source": [
    "lr = LogisticRegression()\n",
    "lr.fit(X_train,Y_train)\n",
    "pred_y = lr.predict(X_test)\n",
    "print(accuracy_score(Y_test,pred_y))\n",
    "print(precision_score(Y_test,pred_y))\n",
    "print(recall_score(Y_test,pred_y))"
   ]
  },
  {
   "cell_type": "code",
   "execution_count": 9,
   "metadata": {},
   "outputs": [
    {
     "name": "stdout",
     "output_type": "stream",
     "text": [
      "0.75\n",
      "0.3333333333333333\n",
      "0.5\n"
     ]
    }
   ],
   "source": [
    "from sklearn.tree import DecisionTreeClassifier\n",
    "lr = DecisionTreeClassifier()\n",
    "lr.fit(X_train,Y_train)\n",
    "pred_y = lr.predict(X_test)\n",
    "print(accuracy_score(Y_test,pred_y))\n",
    "print(precision_score(Y_test,pred_y))\n",
    "print(recall_score(Y_test,pred_y))"
   ]
  },
  {
   "cell_type": "code",
   "execution_count": 10,
   "metadata": {},
   "outputs": [
    {
     "name": "stdout",
     "output_type": "stream",
     "text": [
      "0.6666666666666666\n",
      "0.0\n",
      "0.0\n"
     ]
    }
   ],
   "source": [
    "from sklearn.ensemble import RandomForestClassifier\n",
    "lr = RandomForestClassifier()\n",
    "lr.fit(X_train,Y_train)\n",
    "pred_y = lr.predict(X_test)\n",
    "print(accuracy_score(Y_test,pred_y))\n",
    "print(precision_score(Y_test,pred_y))\n",
    "print(recall_score(Y_test,pred_y))"
   ]
  },
  {
   "cell_type": "code",
   "execution_count": 11,
   "metadata": {},
   "outputs": [
    {
     "name": "stdout",
     "output_type": "stream",
     "text": [
      "0.6666666666666666\n",
      "0.0\n",
      "0.0\n"
     ]
    }
   ],
   "source": [
    "from sklearn.ensemble import GradientBoostingClassifier\n",
    "clf = GradientBoostingClassifier(n_estimators=100, learning_rate=1.0)\n",
    "clf.fit(X_train,Y_train)\n",
    "pred_y = lr.predict(X_test)\n",
    "print(accuracy_score(Y_test,pred_y))\n",
    "print(precision_score(Y_test,pred_y))\n",
    "print(recall_score(Y_test,pred_y))"
   ]
  },
  {
   "cell_type": "code",
   "execution_count": 12,
   "metadata": {},
   "outputs": [
    {
     "data": {
      "text/plain": [
       "(27, 50, 3)"
      ]
     },
     "execution_count": 12,
     "metadata": {},
     "output_type": "execute_result"
    }
   ],
   "source": [
    "n = 39\n",
    "X = np.empty((n,50,3))\n",
    "Y = np.empty(n)\n",
    "for i in range(0,n):\n",
    "    X[i]=data.iloc[i*50:(i+1)*50,2:5]\n",
    "    Y[i]=data.iloc[i*50,5]\n",
    "    \n",
    "from sklearn.model_selection import train_test_split\n",
    "X_train, X_test,Y_train, Y_test = train_test_split(X,Y, test_size=0.3,random_state=8, shuffle=True)\n",
    "X_train.shape"
   ]
  },
  {
   "cell_type": "code",
   "execution_count": 13,
   "metadata": {},
   "outputs": [],
   "source": [
    "import tensorflow as tf\n",
    "from tensorflow.keras.optimizers import Adam\n",
    "from tensorflow.random import set_seed\n",
    "\n",
    "def get_model():\n",
    "    set_seed(2)\n",
    "    model = Sequential([\n",
    "        Dense(50, activation='relu',input_shape=(50,3)),        \n",
    "        Flatten(),\n",
    "        Dense(1, activation='sigmoid')\n",
    "    ])\n",
    "    \n",
    "    model.compile(loss='binary_crossentropy',\n",
    "                optimizer=Adam(learning_rate=0.01),metrics=['accuracy',keras.metrics.Precision(),keras.metrics.Recall()])\n",
    "    return model"
   ]
  },
  {
   "cell_type": "code",
   "execution_count": 14,
   "metadata": {},
   "outputs": [],
   "source": [
    "from tensorflow.keras.callbacks import ReduceLROnPlateau"
   ]
  },
  {
   "cell_type": "code",
   "execution_count": 15,
   "metadata": {},
   "outputs": [
    {
     "data": {
      "text/plain": [
       "(27, 50, 3)"
      ]
     },
     "execution_count": 15,
     "metadata": {},
     "output_type": "execute_result"
    }
   ],
   "source": [
    "X_train.shape"
   ]
  },
  {
   "cell_type": "code",
   "execution_count": 16,
   "metadata": {},
   "outputs": [
    {
     "name": "stdout",
     "output_type": "stream",
     "text": [
      "fold :  0\n",
      "Epoch 1/12\n",
      "1/1 [==============================] - 2s 2s/step - loss: 1.2994 - accuracy: 0.3889 - precision_1: 0.2857 - recall_1: 0.8000\n",
      "Epoch 2/12\n",
      "1/1 [==============================] - 0s 7ms/step - loss: 2.9671 - accuracy: 0.7222 - precision_1: 0.0000e+00 - recall_1: 0.0000e+00\n",
      "Epoch 3/12\n",
      "1/1 [==============================] - 0s 7ms/step - loss: 1.0784 - accuracy: 0.7222 - precision_1: 0.5000 - recall_1: 0.2000\n",
      "Epoch 4/12\n",
      "1/1 [==============================] - 0s 5ms/step - loss: 1.0178 - accuracy: 0.8889 - precision_1: 0.7143 - recall_1: 1.0000\n",
      "Epoch 5/12\n",
      "1/1 [==============================] - 0s 5ms/step - loss: 1.2954 - accuracy: 0.8889 - precision_1: 0.7143 - recall_1: 1.0000\n",
      "Epoch 6/12\n",
      "1/1 [==============================] - 0s 7ms/step - loss: 1.0345 - accuracy: 0.8889 - precision_1: 0.7143 - recall_1: 1.0000\n",
      "Epoch 7/12\n",
      "1/1 [==============================] - 0s 5ms/step - loss: 0.6541 - accuracy: 0.9444 - precision_1: 0.8333 - recall_1: 1.0000\n",
      "Epoch 8/12\n",
      "1/1 [==============================] - 0s 7ms/step - loss: 0.3671 - accuracy: 0.9444 - precision_1: 0.8333 - recall_1: 1.0000\n",
      "Epoch 9/12\n",
      "1/1 [==============================] - 0s 5ms/step - loss: 0.0833 - accuracy: 0.9444 - precision_1: 0.8333 - recall_1: 1.0000\n",
      "Epoch 10/12\n",
      "1/1 [==============================] - 0s 4ms/step - loss: 0.2006 - accuracy: 0.8889 - precision_1: 1.0000 - recall_1: 0.6000\n",
      "Epoch 11/12\n",
      "1/1 [==============================] - 0s 5ms/step - loss: 0.3299 - accuracy: 0.8889 - precision_1: 1.0000 - recall_1: 0.6000\n",
      "Epoch 12/12\n",
      "1/1 [==============================] - 0s 4ms/step - loss: 0.1815 - accuracy: 0.8889 - precision_1: 1.0000 - recall_1: 0.6000\n",
      "1/1 [==============================] - 1s 688ms/step - loss: 3.2236 - accuracy: 0.7778 - precision_1: 1.0000 - recall_1: 0.3333\n",
      "fold :  1\n",
      "Epoch 1/12\n",
      "1/1 [==============================] - 1s 1s/step - loss: 0.9976 - accuracy: 0.6111 - precision_3: 0.4615 - recall_3: 1.0000\n",
      "Epoch 2/12\n",
      "1/1 [==============================] - 0s 5ms/step - loss: 4.5588 - accuracy: 0.6667 - precision_3: 0.0000e+00 - recall_3: 0.0000e+00\n",
      "Epoch 3/12\n",
      "1/1 [==============================] - 0s 7ms/step - loss: 1.6802 - accuracy: 0.7222 - precision_3: 1.0000 - recall_3: 0.1667\n",
      "Epoch 4/12\n",
      "1/1 [==============================] - 0s 5ms/step - loss: 0.7564 - accuracy: 0.8333 - precision_3: 0.7143 - recall_3: 0.8333\n",
      "Epoch 5/12\n",
      "1/1 [==============================] - 0s 4ms/step - loss: 1.2636 - accuracy: 0.8333 - precision_3: 0.6667 - recall_3: 1.0000\n",
      "Epoch 6/12\n",
      "1/1 [==============================] - 0s 4ms/step - loss: 1.0748 - accuracy: 0.8889 - precision_3: 0.7500 - recall_3: 1.0000\n",
      "Epoch 7/12\n",
      "1/1 [==============================] - 0s 3ms/step - loss: 0.6338 - accuracy: 0.9444 - precision_3: 0.8571 - recall_3: 1.0000\n",
      "Epoch 8/12\n",
      "1/1 [==============================] - 0s 3ms/step - loss: 0.2927 - accuracy: 0.9444 - precision_3: 0.8571 - recall_3: 1.0000\n",
      "Epoch 9/12\n",
      "1/1 [==============================] - 0s 4ms/step - loss: 0.0181 - accuracy: 1.0000 - precision_3: 1.0000 - recall_3: 1.0000\n",
      "Epoch 10/12\n",
      "1/1 [==============================] - 0s 3ms/step - loss: 0.0021 - accuracy: 1.0000 - precision_3: 1.0000 - recall_3: 1.0000\n",
      "Epoch 11/12\n",
      "1/1 [==============================] - 0s 2ms/step - loss: 0.0034 - accuracy: 1.0000 - precision_3: 1.0000 - recall_3: 1.0000\n",
      "Epoch 12/12\n",
      "1/1 [==============================] - 0s 5ms/step - loss: 0.0231 - accuracy: 1.0000 - precision_3: 1.0000 - recall_3: 1.0000\n",
      "1/1 [==============================] - 1s 602ms/step - loss: 3.6431 - accuracy: 0.8889 - precision_3: 1.0000 - recall_3: 0.5000\n",
      "fold :  2\n",
      "Epoch 1/12\n",
      "1/1 [==============================] - 1s 1s/step - loss: 1.0636 - accuracy: 0.5556 - precision_5: 0.3636 - recall_5: 0.8000\n",
      "Epoch 2/12\n",
      "1/1 [==============================] - 0s 5ms/step - loss: 4.7629 - accuracy: 0.7222 - precision_5: 0.0000e+00 - recall_5: 0.0000e+00\n",
      "Epoch 3/12\n",
      "1/1 [==============================] - 0s 4ms/step - loss: 3.1082 - accuracy: 0.7222 - precision_5: 0.0000e+00 - recall_5: 0.0000e+00\n",
      "Epoch 4/12\n",
      "1/1 [==============================] - 0s 2ms/step - loss: 0.4343 - accuracy: 0.7778 - precision_5: 1.0000 - recall_5: 0.2000\n",
      "Epoch 5/12\n",
      "1/1 [==============================] - 0s 4ms/step - loss: 0.2304 - accuracy: 0.8889 - precision_5: 0.7143 - recall_5: 1.0000\n",
      "Epoch 6/12\n",
      "1/1 [==============================] - 0s 4ms/step - loss: 0.8968 - accuracy: 0.7222 - precision_5: 0.5000 - recall_5: 1.0000\n",
      "Epoch 7/12\n",
      "1/1 [==============================] - 0s 4ms/step - loss: 0.5241 - accuracy: 0.7778 - precision_5: 0.5556 - recall_5: 1.0000\n",
      "Epoch 8/12\n",
      "1/1 [==============================] - 0s 4ms/step - loss: 0.0615 - accuracy: 1.0000 - precision_5: 1.0000 - recall_5: 1.0000\n",
      "Epoch 9/12\n",
      "1/1 [==============================] - 0s 3ms/step - loss: 0.0129 - accuracy: 1.0000 - precision_5: 1.0000 - recall_5: 1.0000\n",
      "Epoch 10/12\n",
      "1/1 [==============================] - 0s 3ms/step - loss: 0.0043 - accuracy: 1.0000 - precision_5: 1.0000 - recall_5: 1.0000\n",
      "Epoch 11/12\n",
      "1/1 [==============================] - 0s 3ms/step - loss: 0.0012 - accuracy: 1.0000 - precision_5: 1.0000 - recall_5: 1.0000\n",
      "Epoch 12/12\n",
      "1/1 [==============================] - 0s 3ms/step - loss: 5.6684e-04 - accuracy: 1.0000 - precision_5: 1.0000 - recall_5: 1.0000\n",
      "1/1 [==============================] - 1s 610ms/step - loss: 4.7962 - accuracy: 0.6667 - precision_5: 0.0000e+00 - recall_5: 0.0000e+00\n"
     ]
    },
    {
     "data": {
      "text/plain": [
       "array([3.88763261, 0.77777779, 0.66666667, 0.27777778])"
      ]
     },
     "execution_count": 16,
     "metadata": {},
     "output_type": "execute_result"
    }
   ],
   "source": [
    "k=3\n",
    "import numpy as np\n",
    "size = X_train.shape[0] // k\n",
    "avg_scores = []\n",
    "for i in range(k):\n",
    "    \n",
    "    print(\"fold : \", i)\n",
    "    model = get_model()\n",
    "    \n",
    "    X_train_ = np.concatenate([X_train[:i*size] , X_train[(i+1)*size:]],axis=0)\n",
    "    X_val = X_train[i*size: (i+1)*size]\n",
    "    \n",
    "    Y_train_ = np.concatenate([Y_train[:i*size] , Y_train[(i+1)*size:]])\n",
    "    Y_val = Y_train[i*size: (i+1)*size]\n",
    "    \n",
    "    model = get_model()\n",
    "    \n",
    "    model.fit(X_train_,Y_train_,epochs=12)\n",
    "    scores = model.evaluate(X_val, Y_val)\n",
    "    avg_scores.append(scores)\n",
    "\n",
    "np.average(avg_scores,axis=0)"
   ]
  },
  {
   "cell_type": "code",
   "execution_count": 17,
   "metadata": {},
   "outputs": [
    {
     "name": "stdout",
     "output_type": "stream",
     "text": [
      "Epoch 1/12\n",
      "1/1 [==============================] - 1s 1s/step - loss: 1.1202 - accuracy: 0.5185 - precision_6: 0.3684 - recall_6: 0.8750\n",
      "Epoch 2/12\n",
      "1/1 [==============================] - 0s 7ms/step - loss: 4.8196 - accuracy: 0.7037 - precision_6: 0.0000e+00 - recall_6: 0.0000e+00\n",
      "Epoch 3/12\n",
      "1/1 [==============================] - 0s 6ms/step - loss: 2.7724 - accuracy: 0.7037 - precision_6: 0.0000e+00 - recall_6: 0.0000e+00\n",
      "Epoch 4/12\n",
      "1/1 [==============================] - 0s 8ms/step - loss: 0.8377 - accuracy: 0.8148 - precision_6: 0.6667 - recall_6: 0.7500\n",
      "Epoch 5/12\n",
      "1/1 [==============================] - 0s 6ms/step - loss: 1.4236 - accuracy: 0.8148 - precision_6: 0.6154 - recall_6: 1.0000\n",
      "Epoch 6/12\n",
      "1/1 [==============================] - 0s 5ms/step - loss: 1.4054 - accuracy: 0.8148 - precision_6: 0.6154 - recall_6: 1.0000\n",
      "Epoch 7/12\n",
      "1/1 [==============================] - 0s 5ms/step - loss: 0.7836 - accuracy: 0.8889 - precision_6: 0.7273 - recall_6: 1.0000\n",
      "Epoch 8/12\n",
      "1/1 [==============================] - 0s 6ms/step - loss: 0.2441 - accuracy: 0.9259 - precision_6: 0.8000 - recall_6: 1.0000\n",
      "Epoch 9/12\n",
      "1/1 [==============================] - 0s 5ms/step - loss: 0.0513 - accuracy: 0.9630 - precision_6: 1.0000 - recall_6: 0.8750\n",
      "Epoch 10/12\n",
      "1/1 [==============================] - 0s 4ms/step - loss: 0.1719 - accuracy: 0.9259 - precision_6: 1.0000 - recall_6: 0.7500\n",
      "Epoch 11/12\n",
      "1/1 [==============================] - 0s 8ms/step - loss: 0.2573 - accuracy: 0.8889 - precision_6: 1.0000 - recall_6: 0.6250\n",
      "Epoch 12/12\n",
      "1/1 [==============================] - 0s 5ms/step - loss: 0.2320 - accuracy: 0.8889 - precision_6: 1.0000 - recall_6: 0.6250\n"
     ]
    },
    {
     "data": {
      "text/plain": [
       "<keras.callbacks.History at 0x133b3591dc0>"
      ]
     },
     "execution_count": 17,
     "metadata": {},
     "output_type": "execute_result"
    }
   ],
   "source": [
    "model = get_model()\n",
    "model.fit(X_train,Y_train,epochs=12)"
   ]
  },
  {
   "cell_type": "code",
   "execution_count": 18,
   "metadata": {},
   "outputs": [
    {
     "name": "stdout",
     "output_type": "stream",
     "text": [
      "1/1 [==============================] - 1s 811ms/step - loss: 2.0456 - accuracy: 0.7500 - precision_6: 0.3333 - recall_6: 0.5000\n",
      "accuracy\n"
     ]
    },
    {
     "data": {
      "text/plain": [
       "0.75"
      ]
     },
     "execution_count": 18,
     "metadata": {},
     "output_type": "execute_result"
    }
   ],
   "source": [
    "score=model.evaluate(X_test,Y_test)\n",
    "print(model.metrics_names[1])\n",
    "score[1]"
   ]
  },
  {
   "cell_type": "code",
   "execution_count": null,
   "metadata": {},
   "outputs": [],
   "source": []
  },
  {
   "cell_type": "code",
   "execution_count": null,
   "metadata": {},
   "outputs": [],
   "source": []
  }
 ],
 "metadata": {
  "anaconda-cloud": {},
  "kernelspec": {
   "display_name": "Python 3 (ipykernel)",
   "language": "python",
   "name": "python3"
  },
  "language_info": {
   "codemirror_mode": {
    "name": "ipython",
    "version": 3
   },
   "file_extension": ".py",
   "mimetype": "text/x-python",
   "name": "python",
   "nbconvert_exporter": "python",
   "pygments_lexer": "ipython3",
   "version": "3.9.7"
  }
 },
 "nbformat": 4,
 "nbformat_minor": 4
}
