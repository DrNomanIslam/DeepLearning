{
 "cells": [
  {
   "cell_type": "code",
   "execution_count": 4,
   "metadata": {
    "collapsed": false
   },
   "outputs": [],
   "source": [
    "import pandas as pd\n",
    "import numpy as np\n",
    "from PIL import Image\n",
    "from keras.utils import to_categorical\n",
    "from keras.models import *\n",
    "from keras.layers import *"
   ]
  },
  {
   "cell_type": "code",
   "execution_count": 3,
   "metadata": {
    "collapsed": false
   },
   "outputs": [],
   "source": [
    "data=np.loadtxt(open(\"sign_mnist_train.csv\", \"rb\"), delimiter=\",\", skiprows=1)"
   ]
  },
  {
   "cell_type": "code",
   "execution_count": 5,
   "metadata": {
    "collapsed": false
   },
   "outputs": [],
   "source": [
    "np.random.shuffle(data)"
   ]
  },
  {
   "cell_type": "code",
   "execution_count": 35,
   "metadata": {
    "collapsed": false
   },
   "outputs": [],
   "source": [
    "X=data[7000:,1:]/255\n",
    "Y=to_categorical(data[7000:,0])\n",
    "X_test=data[:7000,1:]/255\n",
    "Y_test=to_categorical(data[:7000,0])\n",
    "X=X.reshape((X.shape[0],28,28,1))\n",
    "X_test=X_test.reshape((X_test.shape[0],28,28,1))"
   ]
  },
  {
   "cell_type": "code",
   "execution_count": 36,
   "metadata": {
    "collapsed": false
   },
   "outputs": [],
   "source": [
    "from keras import layers\n",
    "from keras import models\n",
    "model = models.Sequential()"
   ]
  },
  {
   "cell_type": "code",
   "execution_count": 37,
   "metadata": {
    "collapsed": false
   },
   "outputs": [],
   "source": [
    "model.add(layers.Conv2D(28, (3, 3), activation='relu',input_shape=(28,28,1)))\n",
    "model.add(layers.MaxPooling2D((2, 2)))\n",
    "model.add(layers.Conv2D(28, (3, 3), activation='relu'))\n",
    "model.add(layers.MaxPooling2D((2, 2)))\n",
    "model.add(layers.Flatten())\n",
    "model.add(layers.Dense(512, activation='relu'))\n",
    "model.add(layers.Dense(25, activation='softmax'))"
   ]
  },
  {
   "cell_type": "code",
   "execution_count": 38,
   "metadata": {
    "collapsed": true
   },
   "outputs": [],
   "source": [
    "from keras import optimizers\n",
    "model.compile(loss='categorical_crossentropy',optimizer=optimizers.RMSprop(lr=1e-4),metrics=['acc'])"
   ]
  },
  {
   "cell_type": "code",
   "execution_count": 39,
   "metadata": {
    "collapsed": false
   },
   "outputs": [
    {
     "name": "stdout",
     "output_type": "stream",
     "text": [
      "Train on 20455 samples, validate on 7000 samples\n",
      "Epoch 1/10\n",
      "20455/20455 [==============================] - 18s 868us/step - loss: 3.0448 - acc: 0.1735 - val_loss: 2.8118 - val_acc: 0.3389\n",
      "Epoch 2/10\n",
      "20455/20455 [==============================] - 18s 860us/step - loss: 2.4290 - acc: 0.4188 - val_loss: 2.0185 - val_acc: 0.4879\n",
      "Epoch 3/10\n",
      "20455/20455 [==============================] - 18s 863us/step - loss: 1.7177 - acc: 0.5758 - val_loss: 1.4909 - val_acc: 0.5757\n",
      "Epoch 4/10\n",
      "20455/20455 [==============================] - 18s 868us/step - loss: 1.2945 - acc: 0.6566 - val_loss: 1.1779 - val_acc: 0.6516\n",
      "Epoch 5/10\n",
      "20455/20455 [==============================] - 18s 881us/step - loss: 1.0402 - acc: 0.7148 - val_loss: 0.9521 - val_acc: 0.7240\n",
      "Epoch 6/10\n",
      "20455/20455 [==============================] - 18s 880us/step - loss: 0.8635 - acc: 0.7541 - val_loss: 0.8301 - val_acc: 0.7504\n",
      "Epoch 7/10\n",
      "20455/20455 [==============================] - 18s 880us/step - loss: 0.7372 - acc: 0.7868 - val_loss: 0.7353 - val_acc: 0.7687\n",
      "Epoch 8/10\n",
      "20455/20455 [==============================] - 18s 885us/step - loss: 0.6336 - acc: 0.8211 - val_loss: 0.6090 - val_acc: 0.8313\n",
      "Epoch 9/10\n",
      "20455/20455 [==============================] - 18s 890us/step - loss: 0.5526 - acc: 0.8413 - val_loss: 0.5310 - val_acc: 0.8504\n",
      "Epoch 10/10\n",
      "20455/20455 [==============================] - 18s 890us/step - loss: 0.4831 - acc: 0.8653 - val_loss: 0.4732 - val_acc: 0.8623\n"
     ]
    },
    {
     "data": {
      "text/plain": [
       "<keras.callbacks.History at 0x238e8e3898>"
      ]
     },
     "execution_count": 39,
     "metadata": {},
     "output_type": "execute_result"
    }
   ],
   "source": [
    "model.fit(X, Y, epochs=10, batch_size=100,validation_data=(X_test, Y_test))"
   ]
  },
  {
   "cell_type": "code",
   "execution_count": 12,
   "metadata": {
    "collapsed": false
   },
   "outputs": [
    {
     "name": "stdout",
     "output_type": "stream",
     "text": [
      "Saved model to disk\n"
     ]
    }
   ],
   "source": [
    "model_json = model.to_json()\n",
    "with open(\"model.json\", \"w\") as json_file:\n",
    "      json_file.write(model_json)\n",
    "# serialize weights to HDF5\n",
    "model.save_weights(\"model.h5\")\n",
    "print(\"Saved model to disk\")"
   ]
  },
  {
   "cell_type": "code",
   "execution_count": 13,
   "metadata": {
    "collapsed": false
   },
   "outputs": [
    {
     "name": "stdout",
     "output_type": "stream",
     "text": [
      "Loaded model from disk\n"
     ]
    }
   ],
   "source": [
    "json_file = open('model.json', 'r')\n",
    "model_json = json_file.read()\n",
    "json_file.close()\n",
    "model = model_from_json(model_json)\n",
    "# load weights into new model\n",
    "model.load_weights( \"model.h5\")\n",
    "print(\"Loaded model from disk\")"
   ]
  },
  {
   "cell_type": "code",
   "execution_count": 15,
   "metadata": {
    "collapsed": false
   },
   "outputs": [
    {
     "name": "stdout",
     "output_type": "stream",
     "text": [
      "L\n"
     ]
    }
   ],
   "source": [
    "import cv2\n",
    "img = cv2.imread('test/L.png')\n",
    "gray_image = cv2.cvtColor(img, cv2.COLOR_BGR2GRAY)\n",
    "gray_image = cv2.resize(gray_image, dsize=(28, 28), interpolation=cv2.INTER_CUBIC)\n",
    "X_pred=gray_image.reshape(1,28,28,1)\n",
    "X_pred = X_pred/255\n",
    "result = chr(np.argmax(model.predict(X_pred))+65)\n",
    "print(result)"
   ]
  },
  {
   "cell_type": "code",
   "execution_count": null,
   "metadata": {
    "collapsed": true
   },
   "outputs": [],
   "source": []
  }
 ],
 "metadata": {
  "anaconda-cloud": {},
  "kernelspec": {
   "display_name": "Python [conda env:Anaconda3]",
   "language": "python",
   "name": "conda-env-Anaconda3-py"
  },
  "language_info": {
   "codemirror_mode": {
    "name": "ipython",
    "version": 3
   },
   "file_extension": ".py",
   "mimetype": "text/x-python",
   "name": "python",
   "nbconvert_exporter": "python",
   "pygments_lexer": "ipython3",
   "version": "3.5.4"
  }
 },
 "nbformat": 4,
 "nbformat_minor": 1
}
