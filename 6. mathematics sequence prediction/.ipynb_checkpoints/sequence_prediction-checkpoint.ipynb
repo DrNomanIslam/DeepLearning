{
 "cells": [
  {
   "cell_type": "code",
   "execution_count": 1,
   "metadata": {},
   "outputs": [],
   "source": [
    "import numpy as np\n",
    "n = np.arange(1,100)\n",
    "data = [2*i**2 for i in n]"
   ]
  },
  {
   "cell_type": "code",
   "execution_count": 167,
   "metadata": {},
   "outputs": [],
   "source": [
    "def data_generator(data):\n",
    "    size = len(data) - 5 - 1\n",
    "    X = np.zeros((size,5),dtype='float')\n",
    "    Y = []\n",
    "    for i in range(size):\n",
    "        X[i,:] = data[i: i+5]\n",
    "        Y.append(data[i+5])\n",
    "    return X,np.array(Y)"
   ]
  },
  {
   "cell_type": "code",
   "execution_count": 112,
   "metadata": {},
   "outputs": [],
   "source": [
    "X,Y = data_generator(data)"
   ]
  },
  {
   "cell_type": "code",
   "execution_count": 113,
   "metadata": {},
   "outputs": [],
   "source": [
    "X = np.expand_dims(X,axis=1)"
   ]
  },
  {
   "cell_type": "code",
   "execution_count": 151,
   "metadata": {},
   "outputs": [],
   "source": [
    "from sklearn.model_selection import train_test_split\n",
    "X_train, X_test, Y_train, Y_test = train_test_split(X,Y, random_state=1,shuffle=True)"
   ]
  },
  {
   "cell_type": "code",
   "execution_count": 152,
   "metadata": {},
   "outputs": [],
   "source": [
    "meanX = X_train.mean(axis=0)\n",
    "stdX = X_train.std(axis=0)\n",
    "X_train = (X_train - meanX) / stdX\n",
    "X_test = (X_test - meanX) / stdX"
   ]
  },
  {
   "cell_type": "code",
   "execution_count": 153,
   "metadata": {},
   "outputs": [],
   "source": [
    "meanY = Y_train.mean(axis=0)\n",
    "stdY = Y_train.std(axis=0)\n",
    "Y_train = (Y_train - meanY) / stdY\n",
    "Y_test = (Y_test - meanY) / stdY"
   ]
  },
  {
   "cell_type": "code",
   "execution_count": 154,
   "metadata": {},
   "outputs": [],
   "source": [
    "from tensorflow.keras import Sequential\n",
    "from tensorflow.keras.layers import Dense, Input,LayerNormalization,LSTM,Flatten"
   ]
  },
  {
   "cell_type": "code",
   "execution_count": 159,
   "metadata": {},
   "outputs": [],
   "source": [
    "model = Sequential([\n",
    "    LSTM(16,activation='relu'),\n",
    "    Dense(16, activation='relu'),\n",
    "    Flatten(),\n",
    "    Dense(1)\n",
    "])\n",
    "model.compile(optimizer='rmsprop',loss='mse',metrics='mae')"
   ]
  },
  {
   "cell_type": "code",
   "execution_count": 156,
   "metadata": {},
   "outputs": [
    {
     "data": {
      "text/plain": [
       "(93, 1, 5)"
      ]
     },
     "execution_count": 156,
     "metadata": {},
     "output_type": "execute_result"
    }
   ],
   "source": [
    "X.shape"
   ]
  },
  {
   "cell_type": "code",
   "execution_count": 160,
   "metadata": {},
   "outputs": [
    {
     "name": "stdout",
     "output_type": "stream",
     "text": [
      "Epoch 1/100\n",
      "3/3 [==============================] - 2s 158ms/step - loss: 20872784.0000 - mae: 3545.8550 - val_loss: 203387504.0000 - val_mae: 14012.3643\n",
      "Epoch 2/100\n",
      "3/3 [==============================] - 0s 20ms/step - loss: 20226894.0000 - mae: 3489.0938 - val_loss: 198740704.0000 - val_mae: 13851.5566\n",
      "Epoch 3/100\n",
      "3/3 [==============================] - 0s 21ms/step - loss: 19768350.0000 - mae: 3449.1511 - val_loss: 193808992.0000 - val_mae: 13679.0029\n",
      "Epoch 4/100\n",
      "3/3 [==============================] - 0s 20ms/step - loss: 18855330.0000 - mae: 3360.9214 - val_loss: 178150992.0000 - val_mae: 13113.1865\n",
      "Epoch 5/100\n",
      "3/3 [==============================] - 0s 19ms/step - loss: 17498802.0000 - mae: 3206.7012 - val_loss: 173304576.0000 - val_mae: 12933.7324\n",
      "Epoch 6/100\n",
      "3/3 [==============================] - 0s 19ms/step - loss: 15608153.0000 - mae: 2929.2927 - val_loss: 71517872.0000 - val_mae: 8315.4443\n",
      "Epoch 7/100\n",
      "3/3 [==============================] - 0s 19ms/step - loss: 7359409.0000 - mae: 2132.1833 - val_loss: 62972736.0000 - val_mae: 7803.5420\n",
      "Epoch 8/100\n",
      "3/3 [==============================] - 0s 19ms/step - loss: 6514806.5000 - mae: 2010.4779 - val_loss: 55456940.0000 - val_mae: 7324.0244\n",
      "Epoch 9/100\n",
      "3/3 [==============================] - 0s 18ms/step - loss: 5779763.0000 - mae: 1896.7535 - val_loss: 46608108.0000 - val_mae: 6715.6084\n",
      "Epoch 10/100\n",
      "3/3 [==============================] - 0s 18ms/step - loss: 4940116.0000 - mae: 1758.1919 - val_loss: 44149084.0000 - val_mae: 6536.4595\n",
      "Epoch 11/100\n",
      "3/3 [==============================] - 0s 19ms/step - loss: 4682100.0000 - mae: 1713.9724 - val_loss: 37717508.0000 - val_mae: 6042.7705\n",
      "Epoch 12/100\n",
      "3/3 [==============================] - 0s 20ms/step - loss: 4048733.0000 - mae: 1598.9242 - val_loss: 31907776.0000 - val_mae: 5559.1431\n",
      "Epoch 13/100\n",
      "3/3 [==============================] - 0s 19ms/step - loss: 3477327.0000 - mae: 1484.6421 - val_loss: 29994308.0000 - val_mae: 5390.3359\n",
      "Epoch 14/100\n",
      "3/3 [==============================] - 0s 20ms/step - loss: 3282486.2500 - mae: 1443.9849 - val_loss: 27859222.0000 - val_mae: 5195.4878\n",
      "Epoch 15/100\n",
      "3/3 [==============================] - 0s 21ms/step - loss: 3049537.7500 - mae: 1394.0372 - val_loss: 21942940.0000 - val_mae: 4612.5557\n",
      "Epoch 16/100\n",
      "3/3 [==============================] - 0s 19ms/step - loss: 2437385.5000 - mae: 1253.6753 - val_loss: 16420543.0000 - val_mae: 3991.9849\n",
      "Epoch 17/100\n",
      "3/3 [==============================] - 0s 20ms/step - loss: 1882606.8750 - mae: 1107.3705 - val_loss: 14492083.0000 - val_mae: 3751.1184\n",
      "Epoch 18/100\n",
      "3/3 [==============================] - 0s 21ms/step - loss: 1675069.1250 - mae: 1049.4303 - val_loss: 10477251.0000 - val_mae: 3191.5862\n",
      "Epoch 19/100\n",
      "3/3 [==============================] - 0s 20ms/step - loss: 1266148.3750 - mae: 919.7612 - val_loss: 8933271.0000 - val_mae: 2948.1157\n",
      "Epoch 20/100\n",
      "3/3 [==============================] - 0s 20ms/step - loss: 1094134.5000 - mae: 859.7437 - val_loss: 5619083.5000 - val_mae: 2340.9370\n",
      "Epoch 21/100\n",
      "3/3 [==============================] - 0s 19ms/step - loss: 743341.5625 - mae: 717.2142 - val_loss: 4433985.5000 - val_mae: 2080.9272\n",
      "Epoch 22/100\n",
      "3/3 [==============================] - 0s 18ms/step - loss: 610179.3750 - mae: 654.9509 - val_loss: 3442358.5000 - val_mae: 1835.0251\n",
      "Epoch 23/100\n",
      "3/3 [==============================] - ETA: 0s - loss: 414229.0625 - mae: 527.73 - 0s 18ms/step - loss: 497740.9375 - mae: 597.4268 - val_loss: 2552982.5000 - val_mae: 1581.9685\n",
      "Epoch 24/100\n",
      "3/3 [==============================] - 0s 17ms/step - loss: 392969.5625 - mae: 534.8586 - val_loss: 1792667.7500 - val_mae: 1327.4728\n",
      "Epoch 25/100\n",
      "3/3 [==============================] - ETA: 0s - loss: 313423.9375 - mae: 484.84 - 0s 21ms/step - loss: 298751.4688 - mae: 474.1653 - val_loss: 508581.4375 - val_mae: 711.1016\n",
      "Epoch 26/100\n",
      "3/3 [==============================] - 0s 23ms/step - loss: 135208.6406 - mae: 333.4426 - val_loss: 81633.6484 - val_mae: 284.1408\n",
      "Epoch 27/100\n",
      "3/3 [==============================] - 0s 18ms/step - loss: 61672.7422 - mae: 235.2157 - val_loss: 7403.8896 - val_mae: 74.2589\n",
      "Epoch 28/100\n",
      "3/3 [==============================] - 0s 19ms/step - loss: 30984.2344 - mae: 169.6568 - val_loss: 43349.8477 - val_mae: 171.5842\n",
      "Epoch 29/100\n",
      "3/3 [==============================] - 0s 20ms/step - loss: 19865.2754 - mae: 132.0335 - val_loss: 87475.3594 - val_mae: 262.2466\n",
      "Epoch 30/100\n",
      "3/3 [==============================] - 0s 20ms/step - loss: 15957.3389 - mae: 115.5081 - val_loss: 96025.6094 - val_mae: 276.6676\n",
      "Epoch 31/100\n",
      "3/3 [==============================] - 0s 20ms/step - loss: 15375.4697 - mae: 112.6487 - val_loss: 161332.7812 - val_mae: 369.4012\n",
      "Epoch 32/100\n",
      "3/3 [==============================] - 0s 23ms/step - loss: 13243.8350 - mae: 105.4888 - val_loss: 199229.4688 - val_mae: 414.1469\n",
      "Epoch 33/100\n",
      "3/3 [==============================] - 0s 20ms/step - loss: 12760.8359 - mae: 103.8388 - val_loss: 277208.9375 - val_mae: 494.0162\n",
      "Epoch 34/100\n",
      "3/3 [==============================] - 0s 20ms/step - loss: 12558.8760 - mae: 102.8188 - val_loss: 82988.8203 - val_mae: 254.3966\n",
      "Epoch 35/100\n",
      "3/3 [==============================] - 0s 21ms/step - loss: 15792.3887 - mae: 115.8902 - val_loss: 160318.6406 - val_mae: 368.1524\n",
      "Epoch 36/100\n",
      "3/3 [==============================] - 0s 21ms/step - loss: 13281.1328 - mae: 104.9449 - val_loss: 12261.6309 - val_mae: 89.6037\n",
      "Epoch 37/100\n",
      "3/3 [==============================] - 0s 18ms/step - loss: 23610.9336 - mae: 145.6099 - val_loss: 230807.9688 - val_mae: 448.1723\n",
      "Epoch 38/100\n",
      "3/3 [==============================] - 0s 17ms/step - loss: 12545.5977 - mae: 102.5135 - val_loss: 328516.5312 - val_mae: 540.3724\n",
      "Epoch 39/100\n",
      "3/3 [==============================] - 0s 17ms/step - loss: 12906.3682 - mae: 103.9420 - val_loss: 373477.7188 - val_mae: 578.0167\n",
      "Epoch 40/100\n",
      "3/3 [==============================] - 0s 18ms/step - loss: 13171.0684 - mae: 103.6269 - val_loss: 321298.2188 - val_mae: 534.1102\n",
      "Epoch 41/100\n",
      "3/3 [==============================] - 0s 19ms/step - loss: 12705.9814 - mae: 103.0049 - val_loss: 319291.4375 - val_mae: 532.3632\n",
      "Epoch 42/100\n",
      "3/3 [==============================] - 0s 17ms/step - loss: 12668.1367 - mae: 103.2337 - val_loss: 478315.6562 - val_mae: 657.6874\n",
      "Epoch 43/100\n",
      "3/3 [==============================] - 0s 18ms/step - loss: 13938.9355 - mae: 106.0341 - val_loss: 318172.6562 - val_mae: 531.4088\n",
      "Epoch 44/100\n",
      "3/3 [==============================] - 0s 21ms/step - loss: 13089.6191 - mae: 103.0033 - val_loss: 200107.3594 - val_mae: 415.2431\n",
      "Epoch 45/100\n",
      "3/3 [==============================] - 0s 16ms/step - loss: 13810.5020 - mae: 106.2015 - val_loss: 567492.2500 - val_mae: 718.6989\n",
      "Epoch 46/100\n",
      "3/3 [==============================] - 0s 15ms/step - loss: 16835.9922 - mae: 115.6748 - val_loss: 531817.4375 - val_mae: 694.9498\n",
      "Epoch 47/100\n",
      "3/3 [==============================] - 0s 17ms/step - loss: 16458.3574 - mae: 112.7488 - val_loss: 655487.6875 - val_mae: 774.2969\n",
      "Epoch 48/100\n",
      "3/3 [==============================] - 0s 16ms/step - loss: 15355.5908 - mae: 106.3442 - val_loss: 7316.8774 - val_mae: 73.9483\n",
      "Epoch 49/100\n",
      "3/3 [==============================] - 0s 17ms/step - loss: 23606.4629 - mae: 141.1779 - val_loss: 380413.1562 - val_mae: 583.7419\n",
      "Epoch 50/100\n",
      "3/3 [==============================] - 0s 17ms/step - loss: 12945.1709 - mae: 104.2973 - val_loss: 592923.0625 - val_mae: 735.2433\n",
      "Epoch 51/100\n",
      "3/3 [==============================] - 0s 17ms/step - loss: 19102.7363 - mae: 118.3585 - val_loss: 626005.0625 - val_mae: 756.1676\n",
      "Epoch 52/100\n",
      "3/3 [==============================] - 0s 16ms/step - loss: 15290.5078 - mae: 106.5289 - val_loss: 305480.3438 - val_mae: 520.2486\n",
      "Epoch 53/100\n",
      "3/3 [==============================] - 0s 16ms/step - loss: 12417.5732 - mae: 101.2769 - val_loss: 533946.8125 - val_mae: 696.4702\n",
      "Epoch 54/100\n",
      "3/3 [==============================] - 0s 16ms/step - loss: 17639.1602 - mae: 118.7328 - val_loss: 646902.3125 - val_mae: 769.1289\n",
      "Epoch 55/100\n",
      "3/3 [==============================] - 0s 18ms/step - loss: 14559.9316 - mae: 104.8062 - val_loss: 36309.8086 - val_mae: 154.6133\n",
      "Epoch 56/100\n"
     ]
    },
    {
     "name": "stdout",
     "output_type": "stream",
     "text": [
      "3/3 [==============================] - 0s 17ms/step - loss: 18870.6973 - mae: 127.6515 - val_loss: 9869.5957 - val_mae: 83.8859\n",
      "Epoch 57/100\n",
      "3/3 [==============================] - 0s 17ms/step - loss: 26589.6699 - mae: 149.2807 - val_loss: 437885.2188 - val_mae: 628.3365\n",
      "Epoch 58/100\n",
      "3/3 [==============================] - 0s 17ms/step - loss: 13957.5420 - mae: 104.0793 - val_loss: 18457.3125 - val_mae: 121.5377\n",
      "Epoch 59/100\n",
      "3/3 [==============================] - 0s 16ms/step - loss: 29111.2832 - mae: 156.9474 - val_loss: 388931.5625 - val_mae: 590.6686\n",
      "Epoch 60/100\n",
      "3/3 [==============================] - 0s 17ms/step - loss: 12962.7324 - mae: 104.4448 - val_loss: 268680.7812 - val_mae: 486.2300\n",
      "Epoch 61/100\n",
      "3/3 [==============================] - 0s 17ms/step - loss: 12613.3232 - mae: 101.8520 - val_loss: 439340.0625 - val_mae: 629.4724\n",
      "Epoch 62/100\n",
      "3/3 [==============================] - 0s 21ms/step - loss: 13223.6885 - mae: 103.6002 - val_loss: 465267.6562 - val_mae: 648.5527\n",
      "Epoch 63/100\n",
      "3/3 [==============================] - 0s 17ms/step - loss: 14853.5479 - mae: 109.6948 - val_loss: 51585.2578 - val_mae: 223.4674\n",
      "Epoch 64/100\n",
      "3/3 [==============================] - 0s 18ms/step - loss: 40529.3359 - mae: 188.5504 - val_loss: 226661.0156 - val_mae: 444.2357\n",
      "Epoch 65/100\n",
      "3/3 [==============================] - 0s 18ms/step - loss: 12622.6396 - mae: 103.2270 - val_loss: 205865.4062 - val_mae: 421.9386\n",
      "Epoch 66/100\n",
      "3/3 [==============================] - 0s 18ms/step - loss: 12183.6475 - mae: 101.3633 - val_loss: 328739.7812 - val_mae: 540.9222\n",
      "Epoch 67/100\n",
      "3/3 [==============================] - 0s 18ms/step - loss: 12377.1035 - mae: 101.8660 - val_loss: 9156.0225 - val_mae: 80.9472\n",
      "Epoch 68/100\n",
      "3/3 [==============================] - 0s 22ms/step - loss: 26932.0332 - mae: 153.0503 - val_loss: 269684.0312 - val_mae: 487.2849\n",
      "Epoch 69/100\n",
      "3/3 [==============================] - 0s 21ms/step - loss: 12174.9307 - mae: 101.1410 - val_loss: 343705.4688 - val_mae: 553.7508\n",
      "Epoch 70/100\n",
      "3/3 [==============================] - 0s 19ms/step - loss: 13521.2295 - mae: 105.8245 - val_loss: 264234.9688 - val_mae: 482.0654\n",
      "Epoch 71/100\n",
      "3/3 [==============================] - 0s 20ms/step - loss: 12160.9658 - mae: 101.0101 - val_loss: 252874.4531 - val_mae: 470.9703\n",
      "Epoch 72/100\n",
      "3/3 [==============================] - 0s 20ms/step - loss: 12072.6104 - mae: 100.8842 - val_loss: 628793.6875 - val_mae: 758.1349\n",
      "Epoch 73/100\n",
      "3/3 [==============================] - 0s 21ms/step - loss: 16086.7656 - mae: 108.8576 - val_loss: 434437.7812 - val_mae: 625.9401\n",
      "Epoch 74/100\n",
      "3/3 [==============================] - 0s 19ms/step - loss: 13392.5635 - mae: 101.2381 - val_loss: 464083.6562 - val_mae: 647.8226\n",
      "Epoch 75/100\n",
      "3/3 [==============================] - 0s 18ms/step - loss: 14719.6113 - mae: 110.2333 - val_loss: 256265.1406 - val_mae: 474.3753\n",
      "Epoch 76/100\n",
      "3/3 [==============================] - 0s 19ms/step - loss: 12033.9209 - mae: 100.2683 - val_loss: 621139.3125 - val_mae: 753.4105\n",
      "Epoch 77/100\n",
      "3/3 [==============================] - 0s 17ms/step - loss: 16493.3828 - mae: 108.3688 - val_loss: 755691.0000 - val_mae: 833.4904\n",
      "Epoch 78/100\n",
      "3/3 [==============================] - 0s 18ms/step - loss: 19176.1777 - mae: 114.6042 - val_loss: 540833.4375 - val_mae: 701.4138\n",
      "Epoch 79/100\n",
      "3/3 [==============================] - 0s 17ms/step - loss: 20216.2012 - mae: 123.8080 - val_loss: 524605.1875 - val_mae: 690.4443\n",
      "Epoch 80/100\n",
      "3/3 [==============================] - 0s 17ms/step - loss: 13995.2285 - mae: 104.0469 - val_loss: 221418.8906 - val_mae: 438.9440\n",
      "Epoch 81/100\n",
      "3/3 [==============================] - 0s 19ms/step - loss: 11925.8936 - mae: 100.2390 - val_loss: 632377.3125 - val_mae: 760.4829\n",
      "Epoch 82/100\n",
      "3/3 [==============================] - 0s 17ms/step - loss: 16078.9287 - mae: 109.6381 - val_loss: 189882.7188 - val_mae: 404.2507\n",
      "Epoch 83/100\n",
      "3/3 [==============================] - 0s 19ms/step - loss: 12073.0615 - mae: 101.5083 - val_loss: 47699.6680 - val_mae: 214.4079\n",
      "Epoch 84/100\n",
      "3/3 [==============================] - 0s 19ms/step - loss: 31954.4434 - mae: 159.5917 - val_loss: 148105.2031 - val_mae: 353.2843\n",
      "Epoch 85/100\n",
      "3/3 [==============================] - 0s 18ms/step - loss: 12312.7402 - mae: 101.9763 - val_loss: 419847.7500 - val_mae: 615.0604\n",
      "Epoch 86/100\n",
      "3/3 [==============================] - 0s 16ms/step - loss: 14126.2168 - mae: 108.0576 - val_loss: 31583.1875 - val_mae: 170.5270\n",
      "Epoch 87/100\n",
      "3/3 [==============================] - 0s 19ms/step - loss: 33771.3594 - mae: 167.9597 - val_loss: 390799.4688 - val_mae: 592.5013\n",
      "Epoch 88/100\n",
      "3/3 [==============================] - 0s 20ms/step - loss: 12987.4307 - mae: 102.8798 - val_loss: 326035.1875 - val_mae: 538.8678\n",
      "Epoch 89/100\n",
      "3/3 [==============================] - 0s 17ms/step - loss: 14221.4648 - mae: 108.4298 - val_loss: 504080.5625 - val_mae: 676.4167\n",
      "Epoch 90/100\n",
      "3/3 [==============================] - 0s 17ms/step - loss: 14214.7188 - mae: 104.0676 - val_loss: 225486.7344 - val_mae: 443.3532\n",
      "Epoch 91/100\n",
      "3/3 [==============================] - 0s 18ms/step - loss: 11831.1152 - mae: 99.9820 - val_loss: 244904.9219 - val_mae: 463.3019\n",
      "Epoch 92/100\n",
      "3/3 [==============================] - 0s 18ms/step - loss: 11849.6572 - mae: 99.9305 - val_loss: 378845.7500 - val_mae: 583.0190\n",
      "Epoch 93/100\n",
      "3/3 [==============================] - 0s 20ms/step - loss: 12215.5625 - mae: 100.0679 - val_loss: 219935.0781 - val_mae: 437.5486\n",
      "Epoch 94/100\n",
      "3/3 [==============================] - 0s 18ms/step - loss: 11797.9336 - mae: 99.5861 - val_loss: 315139.0000 - val_mae: 529.4099\n",
      "Epoch 95/100\n",
      "3/3 [==============================] - 0s 19ms/step - loss: 16040.3652 - mae: 117.7447 - val_loss: 474359.2812 - val_mae: 655.5040\n",
      "Epoch 96/100\n",
      "3/3 [==============================] - 0s 16ms/step - loss: 17695.8809 - mae: 119.6652 - val_loss: 775766.6875 - val_mae: 845.0191\n",
      "Epoch 97/100\n",
      "3/3 [==============================] - 0s 18ms/step - loss: 18633.2930 - mae: 110.3633 - val_loss: 615539.4375 - val_mae: 750.1597\n",
      "Epoch 98/100\n",
      "3/3 [==============================] - 0s 20ms/step - loss: 20021.1113 - mae: 121.6807 - val_loss: 647527.5000 - val_mae: 770.0297\n",
      "Epoch 99/100\n",
      "3/3 [==============================] - 0s 19ms/step - loss: 17142.0508 - mae: 110.1570 - val_loss: 475261.7188 - val_mae: 656.2174\n",
      "Epoch 100/100\n",
      "3/3 [==============================] - 0s 19ms/step - loss: 13221.1289 - mae: 102.3866 - val_loss: 645259.1250 - val_mae: 768.6688\n"
     ]
    }
   ],
   "source": [
    "history = model.fit(X,Y, epochs=100, validation_split=0.3)"
   ]
  },
  {
   "cell_type": "code",
   "execution_count": 134,
   "metadata": {},
   "outputs": [],
   "source": [
    "import matplotlib.pyplot as plt"
   ]
  },
  {
   "cell_type": "code",
   "execution_count": 135,
   "metadata": {},
   "outputs": [],
   "source": [
    "%matplotlib inline"
   ]
  },
  {
   "cell_type": "code",
   "execution_count": 161,
   "metadata": {},
   "outputs": [
    {
     "data": {
      "text/plain": [
       "<matplotlib.legend.Legend at 0x24b984ffeb8>"
      ]
     },
     "execution_count": 161,
     "metadata": {},
     "output_type": "execute_result"
    },
    {
     "data": {
      "image/png": "[encoded data removed]",
      "text/plain": [
       "<Figure size 432x288 with 1 Axes>"
      ]
     },
     "metadata": {
      "needs_background": "light"
     },
     "output_type": "display_data"
    }
   ],
   "source": [
    "plt.plot(np.arange(100),history.history['val_mae'],label='validation loss')\n",
    "plt.plot(np.arange(100),history.history['mae'], label='training loss')\n",
    "plt.legend()"
   ]
  },
  {
   "cell_type": "code",
   "execution_count": 165,
   "metadata": {},
   "outputs": [
    {
     "data": {
      "text/plain": [
       "array([[20393.666]], dtype=float32)"
      ]
     },
     "execution_count": 165,
     "metadata": {},
     "output_type": "execute_result"
    }
   ],
   "source": [
    "model.predict([[[17298., 17672., 18050., 18432., 18818.]]])"
   ]
  },
  {
   "cell_type": "code",
   "execution_count": 166,
   "metadata": {},
   "outputs": [
    {
     "data": {
      "text/plain": [
       "19208"
      ]
     },
     "execution_count": 166,
     "metadata": {},
     "output_type": "execute_result"
    }
   ],
   "source": [
    "Y[-1]"
   ]
  },
  {
   "cell_type": "code",
   "execution_count": null,
   "metadata": {},
   "outputs": [],
   "source": []
  }
 ],
 "metadata": {
  "kernelspec": {
   "display_name": "Python 3",
   "language": "python",
   "name": "python3"
  },
  "language_info": {
   "codemirror_mode": {
    "name": "ipython",
    "version": 3
   },
   "file_extension": ".py",
   "mimetype": "text/x-python",
   "name": "python",
   "nbconvert_exporter": "python",
   "pygments_lexer": "ipython3",
   "version": "3.7.3"
  }
 },
 "nbformat": 4,
 "nbformat_minor": 2
}
