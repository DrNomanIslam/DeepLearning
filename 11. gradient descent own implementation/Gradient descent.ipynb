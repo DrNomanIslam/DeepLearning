{
 "cells": [
  {
   "cell_type": "code",
   "execution_count": 3,
   "metadata": {},
   "outputs": [],
   "source": [
    "import tensorflow as tf\n",
    "class NaiveDense:\n",
    " def __init__(self, input_size, output_size, activation):\n",
    "  self.activation = activation\n",
    "  w_shape = (input_size, output_size)\n",
    "  w_initial_value = tf.random.uniform(w_shape, minval=0, maxval=1e-1)\n",
    "  self.W = tf.Variable(w_initial_value)\n",
    "  b_shape = (output_size,)\n",
    "  b_initial_value = tf.zeros(b_shape)\n",
    "  self.b = tf.Variable(b_initial_value)\n",
    " \n",
    " def __call__(self, inputs):\n",
    "  return self.activation(tf.matmul(inputs, self.W) + self.b)\n",
    " \n",
    " @property\n",
    " def weights(self):\n",
    "  return [self.W, self.b]"
   ]
  },
  {
   "cell_type": "code",
   "execution_count": 13,
   "metadata": {},
   "outputs": [],
   "source": [
    "class NaiveSequential:\n",
    " def __init__(self, layers):\n",
    "  self.layers = layers\n",
    " \n",
    " def __call__(self, inputs):\n",
    "  x = inputs\n",
    "  for layer in self.layers:\n",
    "   x = layer(x)\n",
    "  return x\n",
    " \n",
    " @property\n",
    " def weights(self):\n",
    "  weights = []\n",
    "  for layer in self.layers:\n",
    "   weights += layer.weights\n",
    "  return weights"
   ]
  },
  {
   "cell_type": "code",
   "execution_count": 5,
   "metadata": {},
   "outputs": [],
   "source": [
    "import math\n",
    "class BatchGenerator:\n",
    " def __init__(self, images, labels, batch_size=128):\n",
    "  assert len(images) == len(labels)\n",
    "  self.index = 0\n",
    "  self.images = images\n",
    "  self.labels = labels\n",
    "  self.batch_size = batch_size\n",
    "  self.num_batches = math.ceil(len(images) / batch_size)\n",
    " \n",
    " def next(self):\n",
    "  images = self.images[self.index : self.index + self.batch_size]\n",
    "  labels = self.labels[self.index : self.index + self.batch_size]\n",
    "  self.index += self.batch_size\n",
    "  return images, labels"
   ]
  },
  {
   "cell_type": "code",
   "execution_count": 6,
   "metadata": {},
   "outputs": [],
   "source": [
    "def one_training_step(model, images_batch, labels_batch):\n",
    " with tf.GradientTape() as tape:\n",
    "  predictions = model(images_batch)\n",
    "  per_sample_losses = tf.keras.losses.sparse_categorical_crossentropy(labels_batch, predictions)\n",
    "  average_loss = tf.reduce_mean(per_sample_losses)\n",
    "  gradients = tape.gradient(average_loss, model.weights)\n",
    "  update_weights(gradients, model.weights)\n",
    "  return average_loss"
   ]
  },
  {
   "cell_type": "code",
   "execution_count": 7,
   "metadata": {},
   "outputs": [],
   "source": [
    "learning_rate = 1e-3\n",
    "def update_weights(gradients, weights):\n",
    " for g, w in zip(gradients, weights):\n",
    "  w.assign_sub(g * learning_rate)"
   ]
  },
  {
   "cell_type": "code",
   "execution_count": 8,
   "metadata": {},
   "outputs": [],
   "source": [
    "def fit(model, images, labels, epochs, batch_size=128):\n",
    " for epoch_counter in range(epochs):\n",
    "  print(f\"Epoch {epoch_counter}\")\n",
    "  batch_generator = BatchGenerator(images, labels)\n",
    "  for batch_counter in range(batch_generator.num_batches):\n",
    "   images_batch, labels_batch = batch_generator.next()\n",
    "   loss = one_training_step(model, images_batch, labels_batch)\n",
    "   if batch_counter % 100 == 0:\n",
    "    print(f\"loss at batch {batch_counter}: {loss:.2f}\")"
   ]
  },
  {
   "cell_type": "code",
   "execution_count": 14,
   "metadata": {},
   "outputs": [],
   "source": [
    "model = NaiveSequential([\n",
    " NaiveDense(input_size=28 * 28, output_size=512, activation=tf.nn.relu),\n",
    " NaiveDense(input_size=512, output_size=10, activation=tf.nn.softmax)\n",
    "])\n",
    "assert len(model.weights) == 4"
   ]
  },
  {
   "cell_type": "code",
   "execution_count": 15,
   "metadata": {},
   "outputs": [],
   "source": [
    "from tensorflow.keras.datasets import mnist\n",
    "(train_images, train_labels), (test_images, test_labels) = mnist.load_data()\n",
    "train_images = train_images.reshape((60000, 28 * 28))\n",
    "train_images = train_images.astype(\"float32\") / 255\n",
    "test_images = test_images.reshape((10000, 28 * 28))\n",
    "test_images = test_images.astype(\"float32\") / 255"
   ]
  },
  {
   "cell_type": "code",
   "execution_count": 16,
   "metadata": {},
   "outputs": [
    {
     "name": "stdout",
     "output_type": "stream",
     "text": [
      "Epoch 0\n",
      "loss at batch 0: 9.55\n",
      "loss at batch 100: 2.25\n",
      "loss at batch 200: 2.24\n",
      "loss at batch 300: 2.11\n",
      "loss at batch 400: 2.20\n",
      "Epoch 1\n",
      "loss at batch 0: 1.90\n",
      "loss at batch 100: 1.89\n",
      "loss at batch 200: 1.85\n",
      "loss at batch 300: 1.71\n",
      "loss at batch 400: 1.81\n",
      "Epoch 2\n",
      "loss at batch 0: 1.57\n",
      "loss at batch 100: 1.58\n",
      "loss at batch 200: 1.52\n",
      "loss at batch 300: 1.42\n",
      "loss at batch 400: 1.48\n",
      "Epoch 3\n",
      "loss at batch 0: 1.31\n",
      "loss at batch 100: 1.34\n",
      "loss at batch 200: 1.24\n",
      "loss at batch 300: 1.21\n",
      "loss at batch 400: 1.25\n",
      "Epoch 4\n",
      "loss at batch 0: 1.11\n",
      "loss at batch 100: 1.15\n",
      "loss at batch 200: 1.04\n",
      "loss at batch 300: 1.05\n",
      "loss at batch 400: 1.09\n",
      "Epoch 5\n",
      "loss at batch 0: 0.97\n",
      "loss at batch 100: 1.01\n",
      "loss at batch 200: 0.90\n",
      "loss at batch 300: 0.93\n",
      "loss at batch 400: 0.97\n",
      "Epoch 6\n",
      "loss at batch 0: 0.86\n",
      "loss at batch 100: 0.90\n",
      "loss at batch 200: 0.80\n",
      "loss at batch 300: 0.84\n",
      "loss at batch 400: 0.88\n",
      "Epoch 7\n",
      "loss at batch 0: 0.78\n",
      "loss at batch 100: 0.81\n",
      "loss at batch 200: 0.72\n",
      "loss at batch 300: 0.77\n",
      "loss at batch 400: 0.82\n",
      "Epoch 8\n",
      "loss at batch 0: 0.72\n",
      "loss at batch 100: 0.75\n",
      "loss at batch 200: 0.65\n",
      "loss at batch 300: 0.71\n",
      "loss at batch 400: 0.76\n",
      "Epoch 9\n",
      "loss at batch 0: 0.67\n",
      "loss at batch 100: 0.69\n",
      "loss at batch 200: 0.60\n",
      "loss at batch 300: 0.67\n",
      "loss at batch 400: 0.73\n"
     ]
    }
   ],
   "source": [
    "fit(model, train_images, train_labels, epochs=10, batch_size=128)"
   ]
  },
  {
   "cell_type": "code",
   "execution_count": null,
   "metadata": {},
   "outputs": [],
   "source": []
  }
 ],
 "metadata": {
  "kernelspec": {
   "display_name": "Python 3",
   "language": "python",
   "name": "python3"
  },
  "language_info": {
   "codemirror_mode": {
    "name": "ipython",
    "version": 3
   },
   "file_extension": ".py",
   "mimetype": "text/x-python",
   "name": "python",
   "nbconvert_exporter": "python",
   "pygments_lexer": "ipython3",
   "version": "3.7.3"
  }
 },
 "nbformat": 4,
 "nbformat_minor": 2
}
