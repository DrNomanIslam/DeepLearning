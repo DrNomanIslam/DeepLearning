{
 "cells": [
  {
   "cell_type": "code",
   "execution_count": 1,
   "id": "835a9c4b",
   "metadata": {},
   "outputs": [],
   "source": [
    "import pandas as pd"
   ]
  },
  {
   "cell_type": "code",
   "execution_count": 2,
   "id": "eae1b1c3",
   "metadata": {},
   "outputs": [],
   "source": [
    "from sklearn.preprocessing import LabelEncoder\n",
    "data = pd.read_csv('train.csv')\n",
    "X = data['Message']\n",
    "y = LabelEncoder().fit_transform(data['Category'])"
   ]
  },
  {
   "cell_type": "code",
   "execution_count": 3,
   "id": "8416e850",
   "metadata": {},
   "outputs": [],
   "source": [
    "from sklearn.model_selection import train_test_split"
   ]
  },
  {
   "cell_type": "code",
   "execution_count": 4,
   "id": "88efc6cd",
   "metadata": {},
   "outputs": [],
   "source": [
    "import tensorflow as tf"
   ]
  },
  {
   "cell_type": "code",
   "execution_count": 5,
   "id": "0945a9ea",
   "metadata": {},
   "outputs": [],
   "source": [
    "text_vectorizer = tf.keras.layers.TextVectorization(\n",
    "     output_mode='int', pad_to_max_tokens=True,max_tokens=2500 , standardize='lower_and_strip_punctuation')\n",
    "text_vectorizer.adapt(X)"
   ]
  },
  {
   "cell_type": "code",
   "execution_count": 6,
   "id": "40e8eb30",
   "metadata": {},
   "outputs": [],
   "source": [
    "length = len(text_vectorizer.get_vocabulary())"
   ]
  },
  {
   "cell_type": "code",
   "execution_count": 7,
   "id": "afc1ff04",
   "metadata": {},
   "outputs": [],
   "source": [
    "X_train, X_test,y_train, y_test = train_test_split(X,y, test_size=0.3, random_state=5)"
   ]
  },
  {
   "cell_type": "code",
   "execution_count": 8,
   "id": "ff9dac6b",
   "metadata": {},
   "outputs": [],
   "source": [
    "from tensorflow.keras.models import Sequential\n",
    "from tensorflow.keras.layers import LSTM, Dense, Input,Embedding"
   ]
  },
  {
   "cell_type": "code",
   "execution_count": 9,
   "id": "dd9a8c5e",
   "metadata": {},
   "outputs": [],
   "source": [
    "model = Sequential([\n",
    "    Input((1,),dtype=tf.string),\n",
    "    text_vectorizer,\n",
    "    Embedding(2500,8),\n",
    "    LSTM(64, activation='relu'),\n",
    "    Dense(1,activation='sigmoid')\n",
    "]\n",
    ")"
   ]
  },
  {
   "cell_type": "code",
   "execution_count": 10,
   "id": "9b4e0a04",
   "metadata": {},
   "outputs": [],
   "source": [
    "model.compile(optimizer='rmsprop',loss='binary_crossentropy', metrics='accuracy')"
   ]
  },
  {
   "cell_type": "code",
   "execution_count": 11,
   "id": "e102b1fc",
   "metadata": {},
   "outputs": [
    {
     "name": "stdout",
     "output_type": "stream",
     "text": [
      "Epoch 1/10\n",
      "122/122 [==============================] - 4s 20ms/step - loss: 6380270.0000 - accuracy: 0.8590 - val_loss: 0.5567 - val_accuracy: 0.8666\n",
      "Epoch 2/10\n",
      "122/122 [==============================] - 2s 18ms/step - loss: 0.5324 - accuracy: 0.8656 - val_loss: 0.5083 - val_accuracy: 0.8666\n",
      "Epoch 3/10\n",
      "122/122 [==============================] - 2s 18ms/step - loss: 21165.1680 - accuracy: 0.8656 - val_loss: 0.5224 - val_accuracy: 0.8666\n",
      "Epoch 4/10\n",
      "122/122 [==============================] - 2s 18ms/step - loss: 0.4850 - accuracy: 0.8815 - val_loss: 11283527680.0000 - val_accuracy: 0.9438\n",
      "Epoch 5/10\n",
      "122/122 [==============================] - 2s 19ms/step - loss: nan - accuracy: 0.8767 - val_loss: nan - val_accuracy: 0.8666\n",
      "Epoch 6/10\n",
      "122/122 [==============================] - 2s 19ms/step - loss: nan - accuracy: 0.8656 - val_loss: nan - val_accuracy: 0.8666\n",
      "Epoch 7/10\n",
      "122/122 [==============================] - 2s 18ms/step - loss: nan - accuracy: 0.8656 - val_loss: nan - val_accuracy: 0.8666\n",
      "Epoch 8/10\n",
      "122/122 [==============================] - 2s 18ms/step - loss: nan - accuracy: 0.8656 - val_loss: nan - val_accuracy: 0.8666\n",
      "Epoch 9/10\n",
      "122/122 [==============================] - 2s 18ms/step - loss: nan - accuracy: 0.8656 - val_loss: nan - val_accuracy: 0.8666\n",
      "Epoch 10/10\n",
      "122/122 [==============================] - 2s 18ms/step - loss: nan - accuracy: 0.8656 - val_loss: nan - val_accuracy: 0.8666\n"
     ]
    },
    {
     "data": {
      "text/plain": [
       "<keras.callbacks.History at 0x183a79c8fa0>"
      ]
     },
     "execution_count": 11,
     "metadata": {},
     "output_type": "execute_result"
    }
   ],
   "source": [
    "model.fit(X_train, y_train, epochs=10, validation_data=(X_test,y_test))"
   ]
  },
  {
   "cell_type": "code",
   "execution_count": null,
   "id": "ba7fe5c3",
   "metadata": {},
   "outputs": [],
   "source": []
  }
 ],
 "metadata": {
  "kernelspec": {
   "display_name": "Python 3 (ipykernel)",
   "language": "python",
   "name": "python3"
  },
  "language_info": {
   "codemirror_mode": {
    "name": "ipython",
    "version": 3
   },
   "file_extension": ".py",
   "mimetype": "text/x-python",
   "name": "python",
   "nbconvert_exporter": "python",
   "pygments_lexer": "ipython3",
   "version": "3.9.7"
  }
 },
 "nbformat": 4,
 "nbformat_minor": 5
}
