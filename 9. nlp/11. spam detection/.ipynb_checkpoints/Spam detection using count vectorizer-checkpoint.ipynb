{
 "cells": [
  {
   "cell_type": "code",
   "execution_count": 1,
   "id": "caf27b1d",
   "metadata": {},
   "outputs": [],
   "source": [
    "import pandas as pd\n",
    "import string"
   ]
  },
  {
   "cell_type": "code",
   "execution_count": 2,
   "id": "f1be0446",
   "metadata": {},
   "outputs": [],
   "source": [
    "data = pd.read_csv('train.csv')"
   ]
  },
  {
   "cell_type": "code",
   "execution_count": 3,
   "id": "fc2c54e5",
   "metadata": {},
   "outputs": [],
   "source": [
    "import re\n",
    "def preprocess(text):\n",
    "    #remove urls\n",
    "    text = re.sub(r'https?://\\S+|www.\\S+','',text)\n",
    "    \n",
    "    #remove tags\n",
    "    text = re.sub(r'<.*?>', '',text)\n",
    "    \n",
    "    #remove all the characters except letters\n",
    "    \n",
    "    text = re.sub(r'[^A-Za-z]',' ',text)\n",
    "    \n",
    "    translator = str.maketrans(\"\",\"\",string.punctuation)\n",
    "    \n",
    "    text = text.translate(translator)\n",
    "    return text"
   ]
  },
  {
   "cell_type": "code",
   "execution_count": 4,
   "id": "86908591",
   "metadata": {},
   "outputs": [],
   "source": [
    "data['Message'] = data['Message'].map(preprocess)"
   ]
  },
  {
   "cell_type": "code",
   "execution_count": 5,
   "id": "db4326d0",
   "metadata": {},
   "outputs": [
    {
     "data": {
      "text/plain": [
       "Index(['Category', 'Message'], dtype='object')"
      ]
     },
     "execution_count": 5,
     "metadata": {},
     "output_type": "execute_result"
    }
   ],
   "source": [
    "data.columns"
   ]
  },
  {
   "cell_type": "code",
   "execution_count": 6,
   "id": "81962747",
   "metadata": {},
   "outputs": [],
   "source": [
    "ham = data[data['Category'] =='ham'] ['Message'].str.cat(sep=' ')"
   ]
  },
  {
   "cell_type": "code",
   "execution_count": 7,
   "id": "88b45c22",
   "metadata": {},
   "outputs": [],
   "source": [
    "spam = data[data['Category'] =='spam'] ['Message'].str.cat(sep=' ')"
   ]
  },
  {
   "cell_type": "code",
   "execution_count": 9,
   "id": "5dd300a9",
   "metadata": {},
   "outputs": [],
   "source": [
    "#vectorization"
   ]
  },
  {
   "cell_type": "code",
   "execution_count": 13,
   "id": "6db84310",
   "metadata": {},
   "outputs": [],
   "source": [
    "import numpy as np"
   ]
  },
  {
   "cell_type": "code",
   "execution_count": 16,
   "id": "a852c9c6",
   "metadata": {},
   "outputs": [],
   "source": [
    "from sklearn.feature_extraction.text import CountVectorizer"
   ]
  },
  {
   "cell_type": "code",
   "execution_count": 17,
   "id": "366b9e9c",
   "metadata": {},
   "outputs": [],
   "source": [
    "c = CountVectorizer()"
   ]
  },
  {
   "cell_type": "code",
   "execution_count": 19,
   "id": "830bd2ed",
   "metadata": {},
   "outputs": [],
   "source": [
    "X = c.fit_transform(data['Message']).toarray()"
   ]
  },
  {
   "cell_type": "code",
   "execution_count": 25,
   "id": "e08ae624",
   "metadata": {},
   "outputs": [],
   "source": [
    "from sklearn.preprocessing import LabelEncoder\n",
    "y = LabelEncoder().fit_transform(data['Category'])"
   ]
  },
  {
   "cell_type": "code",
   "execution_count": 24,
   "id": "c2c386ef",
   "metadata": {},
   "outputs": [],
   "source": [
    "from sklearn.model_selection import train_test_split"
   ]
  },
  {
   "cell_type": "code",
   "execution_count": 27,
   "id": "9ae41463",
   "metadata": {},
   "outputs": [],
   "source": [
    "X_train, X_test, y_train, y_test = train_test_split(X,y, test_size=0.3, random_state=9, shuffle = True)"
   ]
  },
  {
   "cell_type": "code",
   "execution_count": 29,
   "id": "a1ec03ac",
   "metadata": {},
   "outputs": [],
   "source": [
    "from tensorflow.keras.models import Sequential\n",
    "from tensorflow.keras.layers import LSTM, Dense"
   ]
  },
  {
   "cell_type": "code",
   "execution_count": 37,
   "id": "99e2d316",
   "metadata": {},
   "outputs": [],
   "source": [
    "model = Sequential(\n",
    "[\n",
    "    Dense(64,activation='relu'),\n",
    "    Dense(64,activation='relu'),\n",
    "    Dense(1,activation='sigmoid')\n",
    "    \n",
    "]\n",
    ")"
   ]
  },
  {
   "cell_type": "code",
   "execution_count": 38,
   "id": "ed771a5e",
   "metadata": {},
   "outputs": [],
   "source": [
    "model.compile(optimizer='rmsprop',loss='binary_crossentropy', metrics='accuracy')"
   ]
  },
  {
   "cell_type": "code",
   "execution_count": 39,
   "id": "811f2b4c",
   "metadata": {},
   "outputs": [
    {
     "name": "stdout",
     "output_type": "stream",
     "text": [
      "Epoch 1/10\n",
      "122/122 [==============================] - 3s 14ms/step - loss: 0.2198 - accuracy: 0.9405 - val_loss: 0.0876 - val_accuracy: 0.9785\n",
      "Epoch 2/10\n",
      "122/122 [==============================] - 1s 12ms/step - loss: 0.0486 - accuracy: 0.9874 - val_loss: 0.0904 - val_accuracy: 0.9815\n",
      "Epoch 3/10\n",
      "122/122 [==============================] - 1s 12ms/step - loss: 0.0296 - accuracy: 0.9915 - val_loss: 0.0924 - val_accuracy: 0.9785\n",
      "Epoch 4/10\n",
      "122/122 [==============================] - 1s 11ms/step - loss: 0.0209 - accuracy: 0.9931 - val_loss: 0.1012 - val_accuracy: 0.9785\n",
      "Epoch 5/10\n",
      "122/122 [==============================] - 1s 12ms/step - loss: 0.0136 - accuracy: 0.9944 - val_loss: 0.1255 - val_accuracy: 0.9821\n",
      "Epoch 6/10\n",
      "122/122 [==============================] - 1s 12ms/step - loss: 0.0101 - accuracy: 0.9959 - val_loss: 0.1391 - val_accuracy: 0.9785\n",
      "Epoch 7/10\n",
      "122/122 [==============================] - 1s 11ms/step - loss: 0.0076 - accuracy: 0.9972 - val_loss: 0.1431 - val_accuracy: 0.9773\n",
      "Epoch 8/10\n",
      "122/122 [==============================] - 1s 12ms/step - loss: 0.0050 - accuracy: 0.9979 - val_loss: 0.2045 - val_accuracy: 0.9815\n",
      "Epoch 9/10\n",
      "122/122 [==============================] - 1s 11ms/step - loss: 0.0048 - accuracy: 0.9979 - val_loss: 0.2017 - val_accuracy: 0.9791\n",
      "Epoch 10/10\n",
      "122/122 [==============================] - 1s 12ms/step - loss: 0.0029 - accuracy: 0.9992 - val_loss: 0.2089 - val_accuracy: 0.9803\n"
     ]
    },
    {
     "data": {
      "text/plain": [
       "<keras.callbacks.History at 0x24dd05cbf10>"
      ]
     },
     "execution_count": 39,
     "metadata": {},
     "output_type": "execute_result"
    }
   ],
   "source": [
    "model.fit(X_train,y_train, epochs=10, validation_data=(X_test,y_test))"
   ]
  },
  {
   "cell_type": "code",
   "execution_count": 41,
   "id": "b4840527",
   "metadata": {},
   "outputs": [],
   "source": [
    "preds = model.predict(X_test)"
   ]
  },
  {
   "cell_type": "code",
   "execution_count": 43,
   "id": "fe1f7aac",
   "metadata": {},
   "outputs": [],
   "source": [
    "from tensorflow.math import confusion_matrix"
   ]
  },
  {
   "cell_type": "code",
   "execution_count": 44,
   "id": "059a93fb",
   "metadata": {},
   "outputs": [
    {
     "data": {
      "text/plain": [
       "<tf.Tensor: shape=(2, 2), dtype=int32, numpy=\n",
       "array([[1438,    0],\n",
       "       [  68,  166]])>"
      ]
     },
     "execution_count": 44,
     "metadata": {},
     "output_type": "execute_result"
    }
   ],
   "source": [
    "confusion_matrix(y_test, preds)"
   ]
  },
  {
   "cell_type": "code",
   "execution_count": 53,
   "id": "b2d5327a",
   "metadata": {},
   "outputs": [],
   "source": [
    "from sklearn.metrics import roc_curve,plot_roc_curve"
   ]
  },
  {
   "cell_type": "code",
   "execution_count": 54,
   "id": "e18e172a",
   "metadata": {},
   "outputs": [],
   "source": [
    "fpr , tpr , thresholds = roc_curve ( y_test , preds)"
   ]
  },
  {
   "cell_type": "code",
   "execution_count": 56,
   "id": "18ada29d",
   "metadata": {},
   "outputs": [
    {
     "data": {
      "image/png": "[encoded data removed]",
      "text/plain": [
       "<Figure size 432x288 with 1 Axes>"
      ]
     },
     "metadata": {
      "needs_background": "light"
     },
     "output_type": "display_data"
    }
   ],
   "source": [
    "%matplotlib inline\n",
    "import matplotlib.pyplot as plt\n",
    "def plot_roc_curve(fpr,tpr): \n",
    "  plt.plot(fpr,tpr) \n",
    "  plt.axis([0,1,0,1]) \n",
    "  plt.xlabel('False Positive Rate') \n",
    "  plt.ylabel('True Positive Rate') \n",
    "  plt.show()    \n",
    "  \n",
    "plot_roc_curve (fpr,tpr) "
   ]
  },
  {
   "cell_type": "code",
   "execution_count": null,
   "id": "41eae486",
   "metadata": {},
   "outputs": [],
   "source": []
  }
 ],
 "metadata": {
  "kernelspec": {
   "display_name": "Python 3 (ipykernel)",
   "language": "python",
   "name": "python3"
  },
  "language_info": {
   "codemirror_mode": {
    "name": "ipython",
    "version": 3
   },
   "file_extension": ".py",
   "mimetype": "text/x-python",
   "name": "python",
   "nbconvert_exporter": "python",
   "pygments_lexer": "ipython3",
   "version": "3.9.7"
  }
 },
 "nbformat": 4,
 "nbformat_minor": 5
}
