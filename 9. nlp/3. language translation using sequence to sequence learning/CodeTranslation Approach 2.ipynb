{
 "cells": [
  {
   "cell_type": "code",
   "execution_count": 8,
   "metadata": {
    "collapsed": false
   },
   "outputs": [
    {
     "name": "stderr",
     "output_type": "stream",
     "text": [
      "Using TensorFlow backend.\n"
     ]
    }
   ],
   "source": [
    "from keras.models import Model\n",
    "from keras.layers import Input, LSTM, Dense\n",
    "import numpy as np"
   ]
  },
  {
   "cell_type": "code",
   "execution_count": 20,
   "metadata": {
    "collapsed": true
   },
   "outputs": [],
   "source": [
    "batch_size = 64  # Batch size for training.\n",
    "epochs = 10  # Number of epochs to train for.\n",
    "latent_dim = 256  # Latent dimensionality of the encoding space.\n",
    "num_samples = 10000  # Number of samples to train on.\n",
    "# Path to the data txt file on disk.\n",
    "data_path = 'fra.txt'"
   ]
  },
  {
   "cell_type": "code",
   "execution_count": 10,
   "metadata": {
    "collapsed": true
   },
   "outputs": [],
   "source": [
    "import re\n",
    "import string\n",
    "from unicodedata import normalize\n",
    "def clean(lines):\n",
    "    cleaned = list()\n",
    "    # prepare regex for char filtering\n",
    "    re_print = re.compile('[^%s]' % re.escape(string.printable))\n",
    "    # prepare translation table for removing punctuation\n",
    "    table = str.maketrans('', '', string.punctuation)\n",
    "    for line in lines:\n",
    "        # normalize unicode characters\n",
    "        line = normalize('NFD', line).encode('ascii', 'ignore')\n",
    "        line = line.decode('UTF-8')\n",
    "        # tokenize on white space\n",
    "        line = line.split()\n",
    "        # convert to lowercase\n",
    "        line = [word.lower() for word in line]\n",
    "        # remove punctuation from each token\n",
    "        line = [word.translate(table) for word in line]\n",
    "        # remove non-printable chars form each token\n",
    "        line = [re_print.sub('', w) for w in line]\n",
    "        # remove tokens with numbers in them\n",
    "        line = [word for word in line if word.isalpha()]\n",
    "        # store as string\n",
    "        cleaned.append(line)\n",
    "    return cleaned"
   ]
  },
  {
   "cell_type": "code",
   "execution_count": 11,
   "metadata": {
    "collapsed": false
   },
   "outputs": [],
   "source": [
    "import glob\n",
    "input_texts=[]\n",
    "target_texts=[]\n",
    "with open('fra.txt',encoding=\"utf8\") as f:\n",
    "    for line in f:\n",
    "        data=line.split(\"\\t\")\n",
    "        input_texts.append(data[0])\n",
    "        target_texts.append(data[1])\n",
    "target_texts=clean(target_texts)\n",
    "input_texts=clean(input_texts)"
   ]
  },
  {
   "cell_type": "code",
   "execution_count": 12,
   "metadata": {
    "collapsed": false
   },
   "outputs": [],
   "source": [
    "# Vectorize the data.\n",
    "input_words = set()\n",
    "target_words = set()\n",
    "\n",
    "for d in input_texts:\n",
    "    for word in d:\n",
    "        if word not in input_words:\n",
    "            input_words.add(word)\n",
    "for d in target_texts:\n",
    "    for word in d:\n",
    "        if word not in target_words:\n",
    "            target_words.add(word)\n"
   ]
  },
  {
   "cell_type": "code",
   "execution_count": 13,
   "metadata": {
    "collapsed": false
   },
   "outputs": [
    {
     "name": "stdout",
     "output_type": "stream",
     "text": [
      "Number of samples: 320\n",
      "Number of unique input tokens: 320\n",
      "Number of unique output tokens: 683\n",
      "Max sequence length for inputs: 9\n",
      "Max sequence length for outputs: 13\n",
      "['a', 'above', 'after', 'agree', 'ahead', 'aim', 'alive', 'alone', 'am', 'angry', 'answer', 'armed', 'ask', 'attack', 'awake', 'away', 'awesome', 'awful', 'back', 'bad', 'bald', 'bark', 'be', 'beat', 'beats', 'bed', 'beg', 'below', 'birds', 'bless', 'blind', 'broke', 'busy', 'call', 'calm', 'came', 'can', 'care', 'catch', 'cheer', 'cheers', 'clean', 'cold', 'come', 'cook', 'cool', 'cop', 'course', 'crazy', 'cried', 'cringed', 'cry', 'cuff', 'cured', 'cute', 'dark', 'dead', 'deaf', 'deep', 'did', 'die', 'died', 'do', 'dogs', 'done', 'dont', 'down', 'drive', 'drop', 'drunk', 'dying', 'early', 'excuse', 'failed', 'fair', 'fantastic', 'far', 'fast', 'fat', 'feel', 'fell', 'find', 'fine', 'fire', 'first', 'fit', 'fly', 'follow', 'food', 'for', 'forget', 'forgot', 'free', 'full', 'fun', 'fussy', 'get', 'give', 'glad', 'go', 'going', 'good', 'goodbye', 'got', 'grab', 'guys', 'had', 'hands', 'hang', 'hard', 'hate', 'have', 'he', 'hello', 'help', 'helps', 'here', 'heres', 'hers', 'hes', 'hi', 'him', 'his', 'hit', 'hold', 'home', 'hop', 'hope', 'hot', 'how', 'hows', 'hug', 'humor', 'hurry', 'hurts', 'i', 'id', 'ill', 'im', 'in', 'inside', 'is', 'it', 'its', 'ive', 'job', 'join', 'jump', 'keep', 'kind', 'kiss', 'knew', 'know', 'late', 'lazy', 'leave', 'left', 'let', 'lets', 'lie', 'lied', 'lies', 'like', 'listen', 'live', 'long', 'look', 'loosen', 'lost', 'love', 'loyal', 'luck', 'lucky', 'lying', 'man', 'marry', 'may', 'me', 'mean', 'mine', 'move', 'must', 'need', 'new', 'nice', 'no', 'noticed', 'now', 'obey', 'odd', 'of', 'off', 'oh', 'ok', 'okay', 'old', 'on', 'one', 'open', 'ours', 'out', 'over', 'pack', 'paid', 'pardon', 'pass', 'pay', 'perfect', 'phoned', 'please', 'promise', 'quiet', 'quit', 'read', 'ready', 'real', 'really', 'refuse', 'relaxed', 'rich', 'right', 'run', 'runs', 'sad', 'safe', 'said', 'sand', 'save', 'saw', 'say', 'seated', 'see', 'seriously', 'she', 'shes', 'shot', 'shouted', 'show', 'shut', 'shy', 'sick', 'sign', 'sing', 'sit', 'ski', 'slow', 'snowed', 'so', 'sober', 'some', 'soon', 'sorry', 'speak', 'stay', 'stayed', 'step', 'still', 'stinks', 'stop', 'stuck', 'sure', 'swim', 'take', 'talk', 'tall', 'tell', 'terrific', 'thank', 'thanks', 'that', 'thats', 'them', 'they', 'thin', 'this', 'tidy', 'time', 'timid', 'tired', 'to', 'tom', 'too', 'tough', 'tried', 'tries', 'tripped', 'true', 'trust', 'try', 'ugly', 'up', 'us', 'use', 'wait', 'wake', 'walk', 'walks', 'want', 'warn', 'was', 'wash', 'watch', 'way', 'we', 'weak', 'well', 'wet', 'what', 'who', 'whos', 'will', 'win', 'woke', 'won', 'work', 'worked', 'works', 'write', 'you', 'yours']\n"
     ]
    }
   ],
   "source": [
    "input_words = sorted(list(input_words))\n",
    "target_words = sorted(list(target_words))\n",
    "num_encoder_tokens = len(input_words)\n",
    "num_decoder_tokens = len(target_words)\n",
    "max_encoder_seq_length = max([len(txt) for txt in input_words])\n",
    "max_decoder_seq_length = max([len(txt) for txt in target_words])\n",
    "\n",
    "print('Number of samples:', len(input_words))\n",
    "print('Number of unique input tokens:', num_encoder_tokens)\n",
    "print('Number of unique output tokens:', num_decoder_tokens)\n",
    "print('Max sequence length for inputs:', max_encoder_seq_length)\n",
    "print('Max sequence length for outputs:', max_decoder_seq_length)\n",
    "print(input_words)"
   ]
  },
  {
   "cell_type": "code",
   "execution_count": 14,
   "metadata": {
    "collapsed": false
   },
   "outputs": [],
   "source": [
    "input_token_index = dict(\n",
    "    [(word, i) for i, word in enumerate(input_words)])\n",
    "target_token_index = dict(\n",
    "    [(word, i) for i, word in enumerate(target_words)])\n",
    "\n",
    "encoder_input_data = np.zeros(\n",
    "    (len(input_texts), max_encoder_seq_length, num_encoder_tokens),\n",
    "    dtype='float32')\n",
    "decoder_input_data = np.zeros(\n",
    "    (len(input_texts), max_decoder_seq_length, num_decoder_tokens),\n",
    "    dtype='float32')\n",
    "decoder_target_data = np.zeros(\n",
    "    (len(input_texts), max_decoder_seq_length, num_decoder_tokens),\n",
    "    dtype='float32')"
   ]
  },
  {
   "cell_type": "code",
   "execution_count": 15,
   "metadata": {
    "collapsed": false
   },
   "outputs": [],
   "source": [
    "for i, (input_text, target_text) in enumerate(zip(input_texts, target_texts)):\n",
    "    for t, word in enumerate(input_text):\n",
    "        if(input_token_index[word]):\n",
    "            encoder_input_data[i, t, input_token_index[word]] = 1.\n",
    "    for t, word in enumerate(target_text):\n",
    "        # decoder_target_data is ahead of decoder_input_data by one timestep\n",
    "        if(target_token_index[word]):\n",
    "            decoder_input_data[i, t, target_token_index[word]] = 1.\n",
    "            if t > 0:\n",
    "                # decoder_target_data will be ahead by one timestep\n",
    "                # and will not include the start character.\n",
    "                decoder_target_data[i, t - 1, target_token_index[word]] = 1."
   ]
  },
  {
   "cell_type": "code",
   "execution_count": 16,
   "metadata": {
    "collapsed": false
   },
   "outputs": [
    {
     "name": "stdout",
     "output_type": "stream",
     "text": [
      "(840, 9, 320)\n"
     ]
    }
   ],
   "source": [
    "print(encoder_input_data.shape)"
   ]
  },
  {
   "cell_type": "code",
   "execution_count": 17,
   "metadata": {
    "collapsed": false
   },
   "outputs": [
    {
     "name": "stdout",
     "output_type": "stream",
     "text": [
      "(840, 13, 683)\n"
     ]
    }
   ],
   "source": [
    "print(decoder_input_data.shape)"
   ]
  },
  {
   "cell_type": "code",
   "execution_count": 18,
   "metadata": {
    "collapsed": true
   },
   "outputs": [],
   "source": [
    "# Define an input sequence and process it.\n",
    "encoder_inputs = Input(shape=(None, num_encoder_tokens))\n",
    "encoder = LSTM(latent_dim, return_state=True)\n",
    "encoder_outputs, state_h, state_c = encoder(encoder_inputs)\n",
    "# We discard `encoder_outputs` and only keep the states.\n",
    "encoder_states = [state_h, state_c]"
   ]
  },
  {
   "cell_type": "code",
   "execution_count": 26,
   "metadata": {
    "collapsed": false
   },
   "outputs": [],
   "source": [
    "# Set up the decoder, using `encoder_states` as initial state.\n",
    "decoder_inputs = Input(shape=(None, num_decoder_tokens))\n",
    "# We set up our decoder to return full output sequences,\n",
    "# and to return internal states as well. We don't use the\n",
    "# return states in the training model, but we will use them in inference.\n",
    "decoder_lstm = LSTM(latent_dim, return_sequences=True, return_state=True)\n",
    "decoder_outputs, _, _ = decoder_lstm(decoder_inputs,\n",
    "                                     initial_state=encoder_states)\n",
    "decoder_dense = Dense(num_decoder_tokens, activation='softmax')\n",
    "decoder_outputs = decoder_dense(decoder_outputs)\n",
    "\n",
    "# Define the model that will turn\n",
    "# `encoder_input_data` & `decoder_input_data` into `decoder_target_data`\n",
    "model = Model([encoder_inputs, decoder_inputs], decoder_outputs)\n",
    "\n",
    "# Run training\n",
    "model.compile(optimizer='rmsprop', loss='categorical_crossentropy')"
   ]
  },
  {
   "cell_type": "code",
   "execution_count": 22,
   "metadata": {
    "collapsed": true
   },
   "outputs": [],
   "source": [
    "# Define sampling models\n",
    "encoder_model = Model(encoder_inputs, encoder_states)\n",
    "decoder_state_input_h = Input(shape=(latent_dim,))\n",
    "decoder_state_input_c = Input(shape=(latent_dim,))\n",
    "decoder_states_inputs = [decoder_state_input_h, decoder_state_input_c]\n",
    "decoder_outputs, state_h, state_c = decoder_lstm(\n",
    "    decoder_inputs, initial_state=decoder_states_inputs)\n",
    "decoder_states = [state_h, state_c]\n",
    "decoder_outputs = decoder_dense(decoder_outputs)\n",
    "decoder_model = Model(\n",
    "    [decoder_inputs] + decoder_states_inputs,\n",
    "    [decoder_outputs] + decoder_states)\n"
   ]
  },
  {
   "cell_type": "code",
   "execution_count": 27,
   "metadata": {
    "collapsed": false
   },
   "outputs": [
    {
     "name": "stdout",
     "output_type": "stream",
     "text": [
      "Train on 672 samples, validate on 168 samples\n",
      "Epoch 1/10\n",
      "672/672 [==============================] - 6s 9ms/step - loss: 0.5809 - val_loss: 0.6733\n",
      "Epoch 2/10\n",
      "672/672 [==============================] - 4s 6ms/step - loss: 0.5139 - val_loss: 0.6993\n",
      "Epoch 3/10\n",
      "672/672 [==============================] - 5s 7ms/step - loss: 0.4921 - val_loss: 0.7107\n",
      "Epoch 4/10\n",
      "672/672 [==============================] - 4s 6ms/step - loss: 0.4762 - val_loss: 0.7308\n",
      "Epoch 5/10\n",
      "672/672 [==============================] - 5s 7ms/step - loss: 0.4658 - val_loss: 0.7540\n",
      "Epoch 6/10\n",
      "672/672 [==============================] - 5s 8ms/step - loss: 0.4493 - val_loss: 0.7662\n",
      "Epoch 7/10\n",
      "672/672 [==============================] - 5s 7ms/step - loss: 0.4419 - val_loss: 0.7851\n",
      "Epoch 8/10\n",
      "672/672 [==============================] - 5s 7ms/step - loss: 0.4336 - val_loss: 0.7763\n",
      "Epoch 9/10\n",
      "672/672 [==============================] - 5s 7ms/step - loss: 0.4247 - val_loss: 0.8236\n",
      "Epoch 10/10\n",
      "672/672 [==============================] - 5s 7ms/step - loss: 0.4124 - val_loss: 0.8269\n"
     ]
    },
    {
     "data": {
      "text/plain": [
       "<keras.callbacks.History at 0x1fe5ae1ba8>"
      ]
     },
     "execution_count": 27,
     "metadata": {},
     "output_type": "execute_result"
    }
   ],
   "source": [
    "model.fit([encoder_input_data, decoder_input_data], decoder_target_data,\n",
    "          batch_size=batch_size,\n",
    "          epochs=epochs,\n",
    "          validation_split=0.2)"
   ]
  },
  {
   "cell_type": "code",
   "execution_count": 28,
   "metadata": {
    "collapsed": true
   },
   "outputs": [],
   "source": [
    "# Reverse-lookup token index to decode sequences back to\n",
    "# something readable.\n",
    "reverse_input_word_index = dict(\n",
    "    (i, word) for word, i in input_token_index.items())\n",
    "reverse_target_word_index = dict(\n",
    "    (i, word) for word, i in target_token_index.items())"
   ]
  },
  {
   "cell_type": "code",
   "execution_count": 29,
   "metadata": {
    "collapsed": true
   },
   "outputs": [],
   "source": [
    "def decode_sequence(input_seq):\n",
    "    # Encode the input as state vectors.\n",
    "    states_value = encoder_model.predict(input_seq)\n",
    "\n",
    "    # Generate empty target sequence of length 1.\n",
    "    target_seq = np.zeros((1, 1, num_decoder_tokens))\n",
    "    # Populate the first character of target sequence with the start character.\n",
    "    \n",
    "    #target_seq[0, 0, target_token_index['\\t']] = 1.\n",
    "\n",
    "    # Sampling loop for a batch of sequences\n",
    "    # (to simplify, here we assume a batch of size 1).\n",
    "    stop_condition = False\n",
    "    decoded_sentence = ''\n",
    "    while not stop_condition:\n",
    "        output_tokens, h, c = decoder_model.predict(\n",
    "            [target_seq] + states_value)\n",
    "\n",
    "        # Sample a token\n",
    "        sampled_token_index = np.argmax(output_tokens[0, -1, :])\n",
    "        sampled_word = reverse_target_word_index[sampled_token_index]\n",
    "        decoded_sentence += sampled_word\n",
    "\n",
    "        # Exit condition: either hit max length\n",
    "        # or find stop character.\n",
    "        if (sampled_word == '\\n' or\n",
    "           len(decoded_sentence) > max_decoder_seq_length):\n",
    "            stop_condition = True\n",
    "\n",
    "        # Update the target sequence (of length 1).\n",
    "        target_seq = np.zeros((1, 1, num_decoder_tokens))\n",
    "        target_seq[0, 0, sampled_token_index] = 1.\n",
    "\n",
    "        # Update states\n",
    "        states_value = [h, c]\n",
    "\n",
    "    return decoded_sentence"
   ]
  },
  {
   "cell_type": "code",
   "execution_count": 31,
   "metadata": {
    "collapsed": false
   },
   "outputs": [
    {
     "name": "stdout",
     "output_type": "stream",
     "text": [
      "-\n",
      "Input sentence: go\n",
      "Decoded sentence: tomvualleraller\n",
      "-\n",
      "Input sentence: run\n",
      "Decoded sentence: tompasalleraller\n",
      "-\n",
      "Input sentence: run\n",
      "Decoded sentence: tompasalleraller\n",
      "-\n",
      "Input sentence: fire\n",
      "Decoded sentence: tompasalleraller\n",
      "-\n",
      "Input sentence: help\n",
      "Decoded sentence: cavualleraller\n",
      "-\n",
      "Input sentence: jump\n",
      "Decoded sentence: cavualleraller\n",
      "-\n",
      "Input sentence: stop\n",
      "Decoded sentence: cavualleraller\n",
      "-\n",
      "Input sentence: stop\n",
      "Decoded sentence: cavualleraller\n",
      "-\n",
      "Input sentence: stop\n",
      "Decoded sentence: cavualleraller\n",
      "-\n",
      "Input sentence: wait\n",
      "Decoded sentence: cavualleraller\n"
     ]
    }
   ],
   "source": [
    "for seq_index in range(10):\n",
    "    # Take one sequence (part of the training set)\n",
    "    # for trying out decoding.\n",
    "    input_seq = encoder_input_data[seq_index: seq_index + 1]\n",
    "    decoded_sentence = decode_sequence(input_seq)\n",
    "    print('-')\n",
    "    print('Input sentence:', \" \".join(input_texts[seq_index]))\n",
    "    print('Decoded sentence:', decoded_sentence)"
   ]
  },
  {
   "cell_type": "code",
   "execution_count": null,
   "metadata": {
    "collapsed": true
   },
   "outputs": [],
   "source": []
  }
 ],
 "metadata": {
  "anaconda-cloud": {},
  "kernelspec": {
   "display_name": "Python [conda env:Anaconda3]",
   "language": "python",
   "name": "conda-env-Anaconda3-py"
  },
  "language_info": {
   "codemirror_mode": {
    "name": "ipython",
    "version": 3
   },
   "file_extension": ".py",
   "mimetype": "text/x-python",
   "name": "python",
   "nbconvert_exporter": "python",
   "pygments_lexer": "ipython3",
   "version": "3.5.4"
  }
 },
 "nbformat": 4,
 "nbformat_minor": 1
}
