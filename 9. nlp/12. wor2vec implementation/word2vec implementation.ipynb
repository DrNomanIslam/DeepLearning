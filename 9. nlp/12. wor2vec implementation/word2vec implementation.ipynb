{
 "cells": [
  {
   "cell_type": "code",
   "execution_count": 1,
   "id": "8d8f3588",
   "metadata": {},
   "outputs": [],
   "source": [
    "text = \"natural language processing and machine learning is fun and exciting\""
   ]
  },
  {
   "cell_type": "code",
   "execution_count": 2,
   "id": "89ed01c1",
   "metadata": {},
   "outputs": [],
   "source": [
    "corpus = [[word.lower() for word in text.split()]]"
   ]
  },
  {
   "cell_type": "code",
   "execution_count": 3,
   "id": "7feb958f",
   "metadata": {},
   "outputs": [
    {
     "data": {
      "text/plain": [
       "[['natural',\n",
       "  'language',\n",
       "  'processing',\n",
       "  'and',\n",
       "  'machine',\n",
       "  'learning',\n",
       "  'is',\n",
       "  'fun',\n",
       "  'and',\n",
       "  'exciting']]"
      ]
     },
     "execution_count": 3,
     "metadata": {},
     "output_type": "execute_result"
    }
   ],
   "source": [
    "corpus"
   ]
  },
  {
   "cell_type": "code",
   "execution_count": 6,
   "id": "27188312",
   "metadata": {},
   "outputs": [],
   "source": [
    "settings = {\n",
    "    'window_size': 2,\n",
    "    'n': 10,\n",
    "    'epochs': 50,\n",
    "    'learning_rate': 0.01\n",
    "}"
   ]
  },
  {
   "cell_type": "code",
   "execution_count": 28,
   "id": "a3552e48",
   "metadata": {},
   "outputs": [],
   "source": [
    "getW1 = [[0.236, -0.962, 0.686, 0.785, -0.454, -0.833, -0.744, 0.677, -0.427, -0.066],\n",
    "\t\t[-0.907, 0.894, 0.225, 0.673, -0.579, -0.428, 0.685, 0.973, -0.070, -0.811],\n",
    "\t\t[-0.576, 0.658, -0.582, -0.112, 0.662, 0.051, -0.401, -0.921, -0.158, 0.529],\n",
    "\t\t[0.517, 0.436, 0.092, -0.835, -0.444, -0.905, 0.879, 0.303, 0.332, -0.275],\n",
    "\t\t[0.859, -0.890, 0.651, 0.185, -0.511, -0.456, 0.377, -0.274, 0.182, -0.237],\n",
    "\t\t[0.368, -0.867, -0.301, -0.222, 0.630, 0.808, 0.088, -0.902, -0.450, -0.408],\n",
    "\t\t[0.728, 0.277, 0.439, 0.138, -0.943, -0.409, 0.687, -0.215, -0.807, 0.612],\n",
    "\t\t[0.593, -0.699, 0.020, 0.142, -0.638, -0.633, 0.344, 0.868, 0.913, 0.429],\n",
    "\t\t[0.447, -0.810, -0.061, -0.495, 0.794, -0.064, -0.817, -0.408, -0.286, 0.149]]\n",
    "\n",
    "getW2 = [[-0.868, -0.406, -0.288, -0.016, -0.560, 0.179, 0.099, 0.438, -0.551],\n",
    "\t\t[-0.395, 0.890, 0.685, -0.329, 0.218, -0.852, -0.919, 0.665, 0.968],\n",
    "\t\t[-0.128, 0.685, -0.828, 0.709, -0.420, 0.057, -0.212, 0.728, -0.690],\n",
    "\t\t[0.881, 0.238, 0.018, 0.622, 0.936, -0.442, 0.936, 0.586, -0.020],\n",
    "\t\t[-0.478, 0.240, 0.820, -0.731, 0.260, -0.989, -0.626, 0.796, -0.599],\n",
    "\t\t[0.679, 0.721, -0.111, 0.083, -0.738, 0.227, 0.560, 0.929, 0.017],\n",
    "\t\t[-0.690, 0.907, 0.464, -0.022, -0.005, -0.004, -0.425, 0.299, 0.757],\n",
    "\t\t[-0.054, 0.397, -0.017, -0.563, -0.551, 0.465, -0.596, -0.413, -0.395],\n",
    "\t\t[-0.838, 0.053, -0.160, -0.164, -0.671, 0.140, -0.149, 0.708, 0.425],\n",
    "\t\t[0.096, -0.995, -0.313, 0.881, -0.402, -0.631, -0.660, 0.184, 0.487]]\n",
    "\n",
    "from collections import defaultdict\n",
    "import numpy as np\n",
    "class word2vec():\n",
    "  def __init__(self):\n",
    "    self.n = settings['n']\n",
    "    self.lr = settings['learning_rate']\n",
    "    self.epochs = settings['epochs']\n",
    "    self.window = settings['window_size']\n",
    "    \n",
    " \n",
    "    \n",
    "  def word_vec(self, word):\n",
    "    w_index = self.word_index[word]\n",
    "    v_w = self.w1[w_index]\n",
    "    return v_w    \n",
    "\n",
    "  def generate_training_data(self, settings, corpus):\n",
    "    # Find unique word counts using dictonary\n",
    "    word_counts = defaultdict(int)\n",
    "    for row in corpus:\n",
    "      for word in row:\n",
    "        word_counts[word] += 1\n",
    "    ## How many unique words in vocab? 9\n",
    "    self.v_count = len(word_counts.keys())\n",
    "    # Generate Lookup Dictionaries (vocab)\n",
    "    self.words_list = list(word_counts.keys())\n",
    "    # Generate word:index\n",
    "    self.word_index = dict((word, i) for i, word in enumerate(self.words_list))\n",
    "    # Generate index:word\n",
    "    self.index_word = dict((i, word) for i, word in enumerate(self.words_list))\n",
    "\n",
    "    training_data = []\n",
    "    # Cycle through each sentence in corpus\n",
    "    for sentence in corpus:\n",
    "      sent_len = len(sentence)\n",
    "      for i, word in enumerate(sentence):\n",
    "        w_target = self.word2onehot(sentence[i])\n",
    "        w_context = []\n",
    "        for j in range(i - self.window, i + self.window+1):\n",
    "          if j != i and j <= sent_len-1 and j >= 0:\n",
    "            w_context.append(self.word2onehot(sentence[j]))\n",
    "        training_data.append([w_target, w_context])\n",
    "    return np.array(training_data)\n",
    "\n",
    "  def word2onehot(self, word):\n",
    "    word_vec = [0 for i in range(0, self.v_count)] # Alternative - np.zeros(self.v_count)\n",
    "    word_index = self.word_index[word]\n",
    "    word_vec[word_index] = 1\n",
    "    return word_vec\n",
    "\n",
    "\n",
    "  def train(self, training_data):\n",
    "   \n",
    "    self.w1 = np.array(getW1)\n",
    "    self.w2 = np.array(getW2)\n",
    "\n",
    "    # Cycle through each epoch\n",
    "    for i in range(self.epochs):\n",
    "      # Intialise loss to 0\n",
    "      self.loss = 0\n",
    "\n",
    "      for w_t, w_c in training_data:\n",
    "        y_pred, h, u = self.forward_pass(w_t)\n",
    "        \n",
    "        EI = np.sum([np.subtract(y_pred, word) for word in w_c], axis=0)\n",
    "\n",
    "        self.backprop(EI, h, w_t)\n",
    "\n",
    "        self.loss += -np.sum([u[word.index(1)] for word in w_c]) + len(w_c) * np.log(np.sum(np.exp(u)))\n",
    "    print('Epoch:', i, \"Loss:\", self.loss)        \n",
    "\n",
    "  def backprop(self, e, h, x):\n",
    "    dl_dw2 = np.outer(h, e)\n",
    "    dl_dw1 = np.outer(x, np.dot(self.w2, e.T))\n",
    "    self.w1 = self.w1 - (self.lr * dl_dw1)\n",
    "    self.w2 = self.w2 - (self.lr * dl_dw2)    \n",
    "    \n",
    "  def forward_pass(self, x):\n",
    "    h = np.dot(self.w1.T, x)\n",
    "    u = np.dot(self.w2.T, h)\n",
    "    y_c = self.softmax(u)\n",
    "    return y_c, h, u\n",
    "\n",
    "  def softmax(self, x):\n",
    "    e_x = np.exp(x - np.max(x))\n",
    "    return e_x / e_x.sum(axis=0)\n",
    "\n",
    "  def vec_sim(self, word, top_n):\n",
    "    v_w1 = self.word_vec(word)\n",
    "    word_sim = {}\n",
    "\n",
    "    for i in range(self.v_count):\n",
    "      # Find the similary score for each word in vocab\n",
    "      v_w2 = self.w1[i]\n",
    "      theta_sum = np.dot(v_w1, v_w2)\n",
    "      theta_den = np.linalg.norm(v_w1) * np.linalg.norm(v_w2)\n",
    "      theta = theta_sum / theta_den\n",
    "\n",
    "      word = self.index_word[i]\n",
    "      word_sim[word] = theta\n",
    "\n",
    "    words_sorted = sorted(word_sim.items(), key=lambda kv: kv[1], reverse=True)\n",
    "\n",
    "    for word, sim in words_sorted[:top_n]:\n",
    "      print(word, sim)"
   ]
  },
  {
   "cell_type": "code",
   "execution_count": 29,
   "id": "9988bfe6",
   "metadata": {},
   "outputs": [
    {
     "name": "stdout",
     "output_type": "stream",
     "text": [
      "Epoch: 49 Loss: 56.94574199875216\n"
     ]
    },
    {
     "name": "stderr",
     "output_type": "stream",
     "text": [
      "C:\\Users\\COMPUT~1\\AppData\\Local\\Temp/ipykernel_6692/495509832.py:64: VisibleDeprecationWarning: Creating an ndarray from ragged nested sequences (which is a list-or-tuple of lists-or-tuples-or ndarrays with different lengths or shapes) is deprecated. If you meant to do this, you must specify 'dtype=object' when creating the ndarray.\n",
      "  return np.array(training_data)\n"
     ]
    }
   ],
   "source": [
    "w2v = word2vec()\n",
    "training_data = w2v.generate_training_data(settings, corpus)\n",
    "w2v.train(training_data)"
   ]
  },
  {
   "cell_type": "code",
   "execution_count": 30,
   "id": "c654bc66",
   "metadata": {},
   "outputs": [],
   "source": [
    "vec = w2v.word_vec(\"machine\")"
   ]
  },
  {
   "cell_type": "code",
   "execution_count": 31,
   "id": "c201bd66",
   "metadata": {},
   "outputs": [
    {
     "name": "stdout",
     "output_type": "stream",
     "text": [
      "[ 0.76702922 -0.95673743  0.49207258  0.16240808 -0.4538815  -0.74678226\n",
      "  0.42072706 -0.04147312  0.08947326 -0.24245257]\n"
     ]
    }
   ],
   "source": [
    "print(vec)"
   ]
  },
  {
   "cell_type": "code",
   "execution_count": 32,
   "id": "d3a955d9",
   "metadata": {},
   "outputs": [
    {
     "name": "stdout",
     "output_type": "stream",
     "text": [
      "machine 0.9999999999999999\n",
      "fun 0.6223490454018771\n",
      "and 0.5190154215400249\n"
     ]
    }
   ],
   "source": [
    "w2v.vec_sim(\"machine\", 3)"
   ]
  },
  {
   "cell_type": "code",
   "execution_count": null,
   "id": "56bc16b5",
   "metadata": {},
   "outputs": [],
   "source": []
  }
 ],
 "metadata": {
  "kernelspec": {
   "display_name": "Python 3 (ipykernel)",
   "language": "python",
   "name": "python3"
  },
  "language_info": {
   "codemirror_mode": {
    "name": "ipython",
    "version": 3
   },
   "file_extension": ".py",
   "mimetype": "text/x-python",
   "name": "python",
   "nbconvert_exporter": "python",
   "pygments_lexer": "ipython3",
   "version": "3.9.7"
  }
 },
 "nbformat": 4,
 "nbformat_minor": 5
}
