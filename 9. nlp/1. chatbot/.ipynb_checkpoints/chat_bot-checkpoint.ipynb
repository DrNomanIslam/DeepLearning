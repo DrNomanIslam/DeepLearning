{
 "cells": [
  {
   "cell_type": "code",
   "execution_count": 1,
   "metadata": {},
   "outputs": [],
   "source": [
    "import pandas as pd"
   ]
  },
  {
   "cell_type": "code",
   "execution_count": 3,
   "metadata": {},
   "outputs": [],
   "source": [
    "import json"
   ]
  },
  {
   "cell_type": "code",
   "execution_count": 26,
   "metadata": {},
   "outputs": [],
   "source": [
    "with open('intents.json') as f :\n",
    "    obj = json.load(f)\n",
    "    data = pd.DataFrame({'patterns':[],'tag':[]})\n",
    "    for intent in obj['intents']:\n",
    "        df = pd.DataFrame(intent['patterns'],columns=['patterns'])\n",
    "        df['tag'] = intent['tag']\n",
    "        data = pd.concat([data,df],axis=0)"
   ]
  },
  {
   "cell_type": "code",
   "execution_count": 47,
   "metadata": {},
   "outputs": [
    {
     "data": {
      "text/plain": [
       "9"
      ]
     },
     "execution_count": 47,
     "metadata": {},
     "output_type": "execute_result"
    }
   ],
   "source": [
    "len(data['tag'].unique())"
   ]
  },
  {
   "cell_type": "code",
   "execution_count": 38,
   "metadata": {},
   "outputs": [],
   "source": [
    "from sklearn.preprocessing import LabelEncoder\n",
    "from tensorflow.keras.utils import to_categorical\n",
    "Y=to_categorical(LabelEncoder().fit_transform(data['tag']))"
   ]
  },
  {
   "cell_type": "code",
   "execution_count": 28,
   "metadata": {},
   "outputs": [],
   "source": [
    "from tensorflow.keras.models import Sequential"
   ]
  },
  {
   "cell_type": "code",
   "execution_count": 61,
   "metadata": {},
   "outputs": [],
   "source": [
    "from tensorflow.keras.layers import LSTM, Dense, TextVectorization,Input,Flatten,Embedding\n",
    "import tensorflow as tf"
   ]
  },
  {
   "cell_type": "code",
   "execution_count": 69,
   "metadata": {},
   "outputs": [
    {
     "name": "stdout",
     "output_type": "stream",
     "text": [
      "WARNING:tensorflow:5 out of the last 9 calls to <function PreprocessingLayer.make_adapt_function.<locals>.adapt_step at 0x00000246D3F36F28> triggered tf.function retracing. Tracing is expensive and the excessive number of tracings could be due to (1) creating @tf.function repeatedly in a loop, (2) passing tensors with different shapes, (3) passing Python objects instead of tensors. For (1), please define your @tf.function outside of the loop. For (2), @tf.function has experimental_relax_shapes=True option that relaxes argument shapes that can avoid unnecessary retracing. For (3), please refer to https://www.tensorflow.org/guide/function#controlling_retracing and https://www.tensorflow.org/api_docs/python/tf/function for  more details.\n"
     ]
    }
   ],
   "source": [
    "vectorize_layer = TextVectorization(\n",
    " max_tokens=1000,\n",
    " output_mode='int',\n",
    " output_sequence_length=10)\n",
    "\n",
    "vectorize_layer.adapt(data['patterns'])"
   ]
  },
  {
   "cell_type": "code",
   "execution_count": 77,
   "metadata": {},
   "outputs": [],
   "source": [
    "model = Sequential(\n",
    "[\n",
    "    Input(shape=(1,), dtype=tf.string),\n",
    "    vectorize_layer,\n",
    "    Embedding(1000,32),\n",
    "    Dense(16,activation='relu'),\n",
    "    Flatten(),\n",
    "    Dense(9,activation='softmax')\n",
    "    \n",
    "]\n",
    ")"
   ]
  },
  {
   "cell_type": "code",
   "execution_count": 78,
   "metadata": {},
   "outputs": [],
   "source": [
    "model.compile(optimizer=tf.keras.optimizers.Adam(learning_rate=0.01),loss='categorical_crossentropy', metrics='accuracy')"
   ]
  },
  {
   "cell_type": "code",
   "execution_count": 79,
   "metadata": {},
   "outputs": [
    {
     "name": "stdout",
     "output_type": "stream",
     "text": [
      "Epoch 1/15\n",
      "2/2 [==============================] - 1s 5ms/step - loss: 2.1976 - accuracy: 0.1064\n",
      "Epoch 2/15\n",
      "2/2 [==============================] - 0s 7ms/step - loss: 2.1167 - accuracy: 0.2979\n",
      "Epoch 3/15\n",
      "2/2 [==============================] - 0s 5ms/step - loss: 2.0257 - accuracy: 0.3617\n",
      "Epoch 4/15\n",
      "2/2 [==============================] - 0s 6ms/step - loss: 1.9084 - accuracy: 0.4255\n",
      "Epoch 5/15\n",
      "2/2 [==============================] - 0s 6ms/step - loss: 1.7540 - accuracy: 0.4681\n",
      "Epoch 6/15\n",
      "2/2 [==============================] - 0s 6ms/step - loss: 1.5583 - accuracy: 0.6170\n",
      "Epoch 7/15\n",
      "2/2 [==============================] - 0s 5ms/step - loss: 1.3478 - accuracy: 0.7872\n",
      "Epoch 8/15\n",
      "2/2 [==============================] - 0s 7ms/step - loss: 1.1025 - accuracy: 0.8298\n",
      "Epoch 9/15\n",
      "2/2 [==============================] - 0s 6ms/step - loss: 0.8730 - accuracy: 0.8723\n",
      "Epoch 10/15\n",
      "2/2 [==============================] - 0s 5ms/step - loss: 0.6659 - accuracy: 0.9149\n",
      "Epoch 11/15\n",
      "2/2 [==============================] - 0s 6ms/step - loss: 0.4788 - accuracy: 0.9362\n",
      "Epoch 12/15\n",
      "2/2 [==============================] - 0s 6ms/step - loss: 0.3429 - accuracy: 0.9787\n",
      "Epoch 13/15\n",
      "2/2 [==============================] - 0s 8ms/step - loss: 0.2342 - accuracy: 0.9787\n",
      "Epoch 14/15\n",
      "2/2 [==============================] - 0s 4ms/step - loss: 0.1589 - accuracy: 0.9787\n",
      "Epoch 15/15\n",
      "2/2 [==============================] - 0s 6ms/step - loss: 0.0989 - accuracy: 1.0000\n"
     ]
    },
    {
     "data": {
      "text/plain": [
       "<keras.callbacks.History at 0x246d894ee10>"
      ]
     },
     "execution_count": 79,
     "metadata": {},
     "output_type": "execute_result"
    }
   ],
   "source": [
    "model.fit(data['patterns'],Y, epochs=15)"
   ]
  },
  {
   "cell_type": "code",
   "execution_count": null,
   "metadata": {},
   "outputs": [],
   "source": []
  }
 ],
 "metadata": {
  "kernelspec": {
   "display_name": "Python 3",
   "language": "python",
   "name": "python3"
  },
  "language_info": {
   "codemirror_mode": {
    "name": "ipython",
    "version": 3
   },
   "file_extension": ".py",
   "mimetype": "text/x-python",
   "name": "python",
   "nbconvert_exporter": "python",
   "pygments_lexer": "ipython3",
   "version": "3.7.3"
  }
 },
 "nbformat": 4,
 "nbformat_minor": 2
}
