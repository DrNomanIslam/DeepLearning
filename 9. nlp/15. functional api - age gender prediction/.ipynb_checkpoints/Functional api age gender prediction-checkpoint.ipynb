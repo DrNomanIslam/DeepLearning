{
 "cells": [
  {
   "cell_type": "code",
   "execution_count": 72,
   "metadata": {},
   "outputs": [],
   "source": [
    "import pandas as pan"
   ]
  },
  {
   "cell_type": "code",
   "execution_count": 73,
   "metadata": {},
   "outputs": [],
   "source": [
    "pd = pan.read_csv('data.csv')"
   ]
  },
  {
   "cell_type": "code",
   "execution_count": 54,
   "metadata": {},
   "outputs": [],
   "source": [
    "pd['gender'].replace({'male':0,'female':1},inplace=True)"
   ]
  },
  {
   "cell_type": "code",
   "execution_count": 55,
   "metadata": {},
   "outputs": [],
   "source": [
    "killpunctuation = str.maketrans('', '', r\"-+()\\\"#/@;:<>{}-=~|.?,\")"
   ]
  },
  {
   "cell_type": "code",
   "execution_count": 56,
   "metadata": {},
   "outputs": [],
   "source": [
    "pd['text'] = pd['text'].apply(lambda text: text.translate(killpunctuation))"
   ]
  },
  {
   "cell_type": "code",
   "execution_count": 57,
   "metadata": {},
   "outputs": [],
   "source": [
    "from sklearn.feature_extraction.text import CountVectorizer"
   ]
  },
  {
   "cell_type": "code",
   "execution_count": 58,
   "metadata": {},
   "outputs": [],
   "source": [
    "cv = CountVectorizer()"
   ]
  },
  {
   "cell_type": "code",
   "execution_count": 59,
   "metadata": {},
   "outputs": [],
   "source": [
    "text = cv.fit_transform(pd['text']).toarray()"
   ]
  },
  {
   "cell_type": "code",
   "execution_count": 60,
   "metadata": {},
   "outputs": [
    {
     "data": {
      "text/plain": [
       "(10000, 65505)"
      ]
     },
     "execution_count": 60,
     "metadata": {},
     "output_type": "execute_result"
    }
   ],
   "source": [
    "text.shape"
   ]
  },
  {
   "cell_type": "code",
   "execution_count": 27,
   "metadata": {},
   "outputs": [],
   "source": [
    "from tensorflow.keras.models import Model"
   ]
  },
  {
   "cell_type": "code",
   "execution_count": 28,
   "metadata": {},
   "outputs": [],
   "source": [
    "from tensorflow.keras.layers import Dense, Input"
   ]
  },
  {
   "cell_type": "code",
   "execution_count": 61,
   "metadata": {},
   "outputs": [],
   "source": [
    "text_input = Input(shape=(65505,))"
   ]
  },
  {
   "cell_type": "code",
   "execution_count": 62,
   "metadata": {},
   "outputs": [],
   "source": [
    "x = Dense(64,activation='relu')(text_input)\n",
    "x = Dense(32, activation='relu')(x)"
   ]
  },
  {
   "cell_type": "code",
   "execution_count": 63,
   "metadata": {},
   "outputs": [],
   "source": [
    "age = Dense(1, name='age')(x)\n",
    "gender = Dense(1,activation='sigmoid', name='gender')(x)"
   ]
  },
  {
   "cell_type": "code",
   "execution_count": 64,
   "metadata": {},
   "outputs": [],
   "source": [
    "model = Model(text_input,[age, gender])"
   ]
  },
  {
   "cell_type": "code",
   "execution_count": 65,
   "metadata": {},
   "outputs": [],
   "source": [
    "model.compile(optimizer='rmsprop',metrics={'age':'mae','gender':'accuracy'}, loss={'age':'mse', 'gender':'binary_crossentropy'},\n",
    "              loss_weights={'age':0.25, 'gender':10.})"
   ]
  },
  {
   "cell_type": "code",
   "execution_count": 66,
   "metadata": {},
   "outputs": [
    {
     "name": "stdout",
     "output_type": "stream",
     "text": [
      "Epoch 1/10\n",
      "219/219 [==============================] - 27s 119ms/step - loss: 158.6552 - age_loss: 611.7222 - gender_loss: 0.5725 - age_mae: 21.4871 - gender_accuracy: 0.7376 - val_loss: 99.7317 - val_age_loss: 374.8665 - val_gender_loss: 0.6015 - val_age_mae: 14.2750 - val_gender_accuracy: 0.6970 age_loss: 825.5863 - gender_loss: 0.6532 - age_mae: 25.0609 - gender_accu - ETA: 14s - loss: 208.0700 - age_loss: 806.3038 -  - ETA: 12s - loss: 187.3770 - age_loss: 724.3285 - gender_loss: 0.6295 - age_mae: 23. - ETA: 1s - loss: 163.2423 - age_loss: 629.9431 - gender_loss: 0.5757 - age_mae: 21.8346 - gend\n",
      "Epoch 2/10\n",
      "219/219 [==============================] - 31s 137ms/step - loss: 55.2939 - age_loss: 206.0852 - gender_loss: 0.3773 - age_mae: 11.5590 - gender_accuracy: 0.8491 - val_loss: 39.0441 - val_age_loss: 127.6751 - val_gender_loss: 0.7125 - val_age_mae: 8.2840 - val_gender_accuracy: 0.6597\n",
      "Epoch 3/10\n",
      "219/219 [==============================] - 22s 99ms/step - loss: 16.7122 - age_loss: 55.5026 - gender_loss: 0.2837 - age_mae: 5.7800 - gender_accuracy: 0.8860 - val_loss: 30.4448 - val_age_loss: 92.0756 - val_gender_loss: 0.7426 - val_age_mae: 7.1633 - val_gender_accuracy: 0.6700\n",
      "Epoch 4/10\n",
      "219/219 [==============================] - 30s 137ms/step - loss: 9.5106 - age_loss: 29.3596 - gender_loss: 0.2171 - age_mae: 4.1271 - gender_accuracy: 0.9143 - val_loss: 29.6524 - val_age_loss: 84.2781 - val_gender_loss: 0.8583 - val_age_mae: 6.9893 - val_gender_accuracy: 0.6623\n",
      "Epoch 5/10\n",
      "219/219 [==============================] - 29s 135ms/step - loss: 6.9751 - age_loss: 21.3529 - gender_loss: 0.1637 - age_mae: 3.4225 - gender_accuracy: 0.9371 - val_loss: 29.1805 - val_age_loss: 79.9334 - val_gender_loss: 0.9197 - val_age_mae: 6.8930 - val_gender_accuracy: 0.6773\n",
      "Epoch 6/10\n",
      "219/219 [==============================] - 31s 141ms/step - loss: 5.7658 - age_loss: 18.0808 - gender_loss: 0.1246 - age_mae: 3.0448 - gender_accuracy: 0.9537 - val_loss: 30.9114 - val_age_loss: 81.8417 - val_gender_loss: 1.0451 - val_age_mae: 6.8797 - val_gender_accuracy: 0.67000.9 - ETA\n",
      "Epoch 7/10\n",
      "219/219 [==============================] - 31s 140ms/step - loss: 5.0675 - age_loss: 16.3899 - gender_loss: 0.0970 - age_mae: 2.8137 - gender_accuracy: 0.9663 - val_loss: 32.0112 - val_age_loss: 80.1126 - val_gender_loss: 1.1983 - val_age_mae: 6.8284 - val_gender_accuracy: 0.6623\n",
      "Epoch 8/10\n",
      "219/219 [==============================] - 25s 112ms/step - loss: 4.2617 - age_loss: 13.8420 - gender_loss: 0.0801 - age_mae: 2.6039 - gender_accuracy: 0.9719 - val_loss: 33.0128 - val_age_loss: 79.4816 - val_gender_loss: 1.3142 - val_age_mae: 6.8376 - val_gender_accuracy: 0.6613\n",
      "Epoch 9/10\n",
      "219/219 [==============================] - 21s 98ms/step - loss: 3.8470 - age_loss: 12.8442 - gender_loss: 0.0636 - age_mae: 2.4596 - gender_accuracy: 0.9767 - val_loss: 38.2237 - val_age_loss: 95.5379 - val_gender_loss: 1.4339 - val_age_mae: 7.1530 - val_gender_accuracy: 0.6693\n",
      "Epoch 10/10\n",
      "219/219 [==============================] - 21s 94ms/step - loss: 3.3974 - age_loss: 11.3529 - gender_loss: 0.0559 - age_mae: 2.3096 - gender_accuracy: 0.9810 - val_loss: 37.0511 - val_age_loss: 79.6417 - val_gender_loss: 1.7141 - val_age_mae: 6.8741 - val_gender_accuracy: 0.6380\n"
     ]
    },
    {
     "data": {
      "text/plain": [
       "<keras.callbacks.History at 0x2ac2d5419e8>"
      ]
     },
     "execution_count": 66,
     "metadata": {},
     "output_type": "execute_result"
    }
   ],
   "source": [
    "model.fit(text,[pd['age'], pd['gender']],epochs=10,validation_split=0.3)"
   ]
  },
  {
   "cell_type": "code",
   "execution_count": 67,
   "metadata": {},
   "outputs": [],
   "source": [
    "sample = cv.transform(['World is like a universal theatre upon which drama of life is enaceted']).toarray()"
   ]
  },
  {
   "cell_type": "code",
   "execution_count": 68,
   "metadata": {},
   "outputs": [
    {
     "data": {
      "text/plain": [
       "[array([[31.152729]], dtype=float32), array([[0.12949261]], dtype=float32)]"
      ]
     },
     "execution_count": 68,
     "metadata": {},
     "output_type": "execute_result"
    }
   ],
   "source": [
    "model.predict([sample])"
   ]
  },
  {
   "cell_type": "code",
   "execution_count": null,
   "metadata": {},
   "outputs": [],
   "source": []
  }
 ],
 "metadata": {
  "kernelspec": {
   "display_name": "Python 3",
   "language": "python",
   "name": "python3"
  },
  "language_info": {
   "codemirror_mode": {
    "name": "ipython",
    "version": 3
   },
   "file_extension": ".py",
   "mimetype": "text/x-python",
   "name": "python",
   "nbconvert_exporter": "python",
   "pygments_lexer": "ipython3",
   "version": "3.7.3"
  }
 },
 "nbformat": 4,
 "nbformat_minor": 2
}
