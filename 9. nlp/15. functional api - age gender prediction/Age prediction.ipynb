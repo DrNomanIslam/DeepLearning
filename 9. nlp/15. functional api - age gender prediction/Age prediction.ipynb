{
 "cells": [
  {
   "cell_type": "code",
   "execution_count": 1,
   "metadata": {},
   "outputs": [
    {
     "name": "stderr",
     "output_type": "stream",
     "text": [
      "D:\\Anaconda3\\lib\\site-packages\\pandas\\compat\\_optional.py:138: UserWarning: Pandas requires version '2.7.0' or newer of 'numexpr' (version '2.6.9' currently installed).\n",
      "  warnings.warn(msg, UserWarning)\n"
     ]
    }
   ],
   "source": [
    "import pandas as pd"
   ]
  },
  {
   "cell_type": "code",
   "execution_count": 2,
   "metadata": {},
   "outputs": [],
   "source": [
    "pd = pd.read_csv('blogtext.csv')"
   ]
  },
  {
   "cell_type": "code",
   "execution_count": 4,
   "metadata": {},
   "outputs": [],
   "source": [
    "pd = pd.head(1000)"
   ]
  },
  {
   "cell_type": "code",
   "execution_count": 5,
   "metadata": {},
   "outputs": [
    {
     "data": {
      "text/html": [
       "<div>\n",
       "<style scoped>\n",
       "    .dataframe tbody tr th:only-of-type {\n",
       "        vertical-align: middle;\n",
       "    }\n",
       "\n",
       "    .dataframe tbody tr th {\n",
       "        vertical-align: top;\n",
       "    }\n",
       "\n",
       "    .dataframe thead th {\n",
       "        text-align: right;\n",
       "    }\n",
       "</style>\n",
       "<table border=\"1\" class=\"dataframe\">\n",
       "  <thead>\n",
       "    <tr style=\"text-align: right;\">\n",
       "      <th></th>\n",
       "      <th>id</th>\n",
       "      <th>gender</th>\n",
       "      <th>age</th>\n",
       "      <th>topic</th>\n",
       "      <th>sign</th>\n",
       "      <th>date</th>\n",
       "      <th>text</th>\n",
       "    </tr>\n",
       "  </thead>\n",
       "  <tbody>\n",
       "    <tr>\n",
       "      <th>0</th>\n",
       "      <td>2059027</td>\n",
       "      <td>male</td>\n",
       "      <td>15</td>\n",
       "      <td>Student</td>\n",
       "      <td>Leo</td>\n",
       "      <td>14,May,2004</td>\n",
       "      <td>Info has been found (+/- 100 pages,...</td>\n",
       "    </tr>\n",
       "    <tr>\n",
       "      <th>1</th>\n",
       "      <td>2059027</td>\n",
       "      <td>male</td>\n",
       "      <td>15</td>\n",
       "      <td>Student</td>\n",
       "      <td>Leo</td>\n",
       "      <td>13,May,2004</td>\n",
       "      <td>These are the team members:   Drewe...</td>\n",
       "    </tr>\n",
       "    <tr>\n",
       "      <th>2</th>\n",
       "      <td>2059027</td>\n",
       "      <td>male</td>\n",
       "      <td>15</td>\n",
       "      <td>Student</td>\n",
       "      <td>Leo</td>\n",
       "      <td>12,May,2004</td>\n",
       "      <td>In het kader van kernfusie op aarde...</td>\n",
       "    </tr>\n",
       "    <tr>\n",
       "      <th>3</th>\n",
       "      <td>2059027</td>\n",
       "      <td>male</td>\n",
       "      <td>15</td>\n",
       "      <td>Student</td>\n",
       "      <td>Leo</td>\n",
       "      <td>12,May,2004</td>\n",
       "      <td>testing!!!  testing!!!</td>\n",
       "    </tr>\n",
       "    <tr>\n",
       "      <th>4</th>\n",
       "      <td>3581210</td>\n",
       "      <td>male</td>\n",
       "      <td>33</td>\n",
       "      <td>InvestmentBanking</td>\n",
       "      <td>Aquarius</td>\n",
       "      <td>11,June,2004</td>\n",
       "      <td>Thanks to Yahoo!'s Toolbar I can ...</td>\n",
       "    </tr>\n",
       "    <tr>\n",
       "      <th>...</th>\n",
       "      <td>...</td>\n",
       "      <td>...</td>\n",
       "      <td>...</td>\n",
       "      <td>...</td>\n",
       "      <td>...</td>\n",
       "      <td>...</td>\n",
       "      <td>...</td>\n",
       "    </tr>\n",
       "    <tr>\n",
       "      <th>995</th>\n",
       "      <td>4313749</td>\n",
       "      <td>female</td>\n",
       "      <td>25</td>\n",
       "      <td>indUnk</td>\n",
       "      <td>Taurus</td>\n",
       "      <td>22,August,2004</td>\n",
       "      <td>urlLink    Me. A doggy bed. Need I...</td>\n",
       "    </tr>\n",
       "    <tr>\n",
       "      <th>996</th>\n",
       "      <td>4313749</td>\n",
       "      <td>female</td>\n",
       "      <td>25</td>\n",
       "      <td>indUnk</td>\n",
       "      <td>Taurus</td>\n",
       "      <td>22,August,2004</td>\n",
       "      <td>Ah yes, the summer Olympics are no...</td>\n",
       "    </tr>\n",
       "    <tr>\n",
       "      <th>997</th>\n",
       "      <td>3827097</td>\n",
       "      <td>female</td>\n",
       "      <td>15</td>\n",
       "      <td>Arts</td>\n",
       "      <td>Pisces</td>\n",
       "      <td>06,July,2004</td>\n",
       "      <td>Current Music:  Could It Be Magic - Do...</td>\n",
       "    </tr>\n",
       "    <tr>\n",
       "      <th>998</th>\n",
       "      <td>3827097</td>\n",
       "      <td>female</td>\n",
       "      <td>15</td>\n",
       "      <td>Arts</td>\n",
       "      <td>Pisces</td>\n",
       "      <td>02,July,2004</td>\n",
       "      <td>Hey. This one of the many things I have...</td>\n",
       "    </tr>\n",
       "    <tr>\n",
       "      <th>999</th>\n",
       "      <td>3369668</td>\n",
       "      <td>male</td>\n",
       "      <td>44</td>\n",
       "      <td>indUnk</td>\n",
       "      <td>Taurus</td>\n",
       "      <td>26,May,2004</td>\n",
       "      <td>Well, today is going okay. I have applied f...</td>\n",
       "    </tr>\n",
       "  </tbody>\n",
       "</table>\n",
       "<p>1000 rows × 7 columns</p>\n",
       "</div>"
      ],
      "text/plain": [
       "          id  gender  age              topic      sign            date  \\\n",
       "0    2059027    male   15            Student       Leo     14,May,2004   \n",
       "1    2059027    male   15            Student       Leo     13,May,2004   \n",
       "2    2059027    male   15            Student       Leo     12,May,2004   \n",
       "3    2059027    male   15            Student       Leo     12,May,2004   \n",
       "4    3581210    male   33  InvestmentBanking  Aquarius    11,June,2004   \n",
       "..       ...     ...  ...                ...       ...             ...   \n",
       "995  4313749  female   25             indUnk    Taurus  22,August,2004   \n",
       "996  4313749  female   25             indUnk    Taurus  22,August,2004   \n",
       "997  3827097  female   15               Arts    Pisces    06,July,2004   \n",
       "998  3827097  female   15               Arts    Pisces    02,July,2004   \n",
       "999  3369668    male   44             indUnk    Taurus     26,May,2004   \n",
       "\n",
       "                                                  text  \n",
       "0               Info has been found (+/- 100 pages,...  \n",
       "1               These are the team members:   Drewe...  \n",
       "2               In het kader van kernfusie op aarde...  \n",
       "3                     testing!!!  testing!!!            \n",
       "4                 Thanks to Yahoo!'s Toolbar I can ...  \n",
       "..                                                 ...  \n",
       "995              urlLink    Me. A doggy bed. Need I...  \n",
       "996              Ah yes, the summer Olympics are no...  \n",
       "997          Current Music:  Could It Be Magic - Do...  \n",
       "998         Hey. This one of the many things I have...  \n",
       "999     Well, today is going okay. I have applied f...  \n",
       "\n",
       "[1000 rows x 7 columns]"
      ]
     },
     "execution_count": 5,
     "metadata": {},
     "output_type": "execute_result"
    }
   ],
   "source": [
    "pd"
   ]
  },
  {
   "cell_type": "code",
   "execution_count": 9,
   "metadata": {},
   "outputs": [],
   "source": [
    "killpunctuation = str.maketrans('', '', r\"-+()\\\"#/@;:<>{}-=~|.?,\")"
   ]
  },
  {
   "cell_type": "code",
   "execution_count": 12,
   "metadata": {},
   "outputs": [],
   "source": [
    "pd['text'] = pd['text'].apply(lambda text: text.translate(killpunctuation))"
   ]
  },
  {
   "cell_type": "code",
   "execution_count": 14,
   "metadata": {},
   "outputs": [],
   "source": [
    "from sklearn.feature_extraction.text import CountVectorizer"
   ]
  },
  {
   "cell_type": "code",
   "execution_count": 15,
   "metadata": {},
   "outputs": [],
   "source": [
    "cv = CountVectorizer()"
   ]
  },
  {
   "cell_type": "code",
   "execution_count": 16,
   "metadata": {},
   "outputs": [],
   "source": [
    "text = cv.fit_transform(pd['text']).toarray()"
   ]
  },
  {
   "cell_type": "code",
   "execution_count": 18,
   "metadata": {},
   "outputs": [],
   "source": [
    "from tensorflow.keras.models import Sequential"
   ]
  },
  {
   "cell_type": "code",
   "execution_count": 19,
   "metadata": {},
   "outputs": [],
   "source": [
    "from tensorflow.keras.layers import Dense"
   ]
  },
  {
   "cell_type": "code",
   "execution_count": 20,
   "metadata": {},
   "outputs": [],
   "source": [
    "model = Sequential([\n",
    "    Dense(32, activation='relu'),\n",
    "    Dense(16, activation='relu'),\n",
    "    Dense(1)\n",
    "])"
   ]
  },
  {
   "cell_type": "code",
   "execution_count": 21,
   "metadata": {},
   "outputs": [],
   "source": [
    "model.compile(optimizer='rmsprop',metrics='mae', loss='mse')"
   ]
  },
  {
   "cell_type": "code",
   "execution_count": 24,
   "metadata": {},
   "outputs": [
    {
     "name": "stdout",
     "output_type": "stream",
     "text": [
      "Epoch 1/10\n",
      "22/22 [==============================] - 1s 33ms/step - loss: 24.5607 - mae: 3.1801 - val_loss: 22.7791 - val_mae: 3.0239\n",
      "Epoch 2/10\n",
      "22/22 [==============================] - 0s 20ms/step - loss: 19.7395 - mae: 2.7616 - val_loss: 20.5152 - val_mae: 2.8817\n",
      "Epoch 3/10\n",
      "22/22 [==============================] - 0s 21ms/step - loss: 15.9920 - mae: 2.5210 - val_loss: 19.0766 - val_mae: 2.8847\n",
      "Epoch 4/10\n",
      "22/22 [==============================] - 0s 20ms/step - loss: 13.8049 - mae: 2.3609 - val_loss: 18.1568 - val_mae: 2.9145\n",
      "Epoch 5/10\n",
      "22/22 [==============================] - 0s 21ms/step - loss: 11.7662 - mae: 2.2352 - val_loss: 20.0955 - val_mae: 3.3034\n",
      "Epoch 6/10\n",
      "22/22 [==============================] - 0s 22ms/step - loss: 10.2598 - mae: 2.0355 - val_loss: 17.9665 - val_mae: 3.0103\n",
      "Epoch 7/10\n",
      "22/22 [==============================] - 0s 20ms/step - loss: 9.4559 - mae: 1.9759 - val_loss: 16.8700 - val_mae: 2.9491\n",
      "Epoch 8/10\n",
      "22/22 [==============================] - 0s 21ms/step - loss: 7.3761 - mae: 1.7308 - val_loss: 16.3791 - val_mae: 2.8679\n",
      "Epoch 9/10\n",
      "22/22 [==============================] - 0s 21ms/step - loss: 6.9458 - mae: 1.7287 - val_loss: 18.1125 - val_mae: 3.1065\n",
      "Epoch 10/10\n",
      "22/22 [==============================] - 0s 20ms/step - loss: 6.1487 - mae: 1.6100 - val_loss: 23.8824 - val_mae: 3.8783\n"
     ]
    },
    {
     "data": {
      "text/plain": [
       "<keras.callbacks.History at 0x2273c51f748>"
      ]
     },
     "execution_count": 24,
     "metadata": {},
     "output_type": "execute_result"
    }
   ],
   "source": [
    "model.fit(text,pd['age'],epochs=10,validation_split=0.3)"
   ]
  },
  {
   "cell_type": "code",
   "execution_count": null,
   "metadata": {},
   "outputs": [],
   "source": []
  }
 ],
 "metadata": {
  "kernelspec": {
   "display_name": "Python 3",
   "language": "python",
   "name": "python3"
  },
  "language_info": {
   "codemirror_mode": {
    "name": "ipython",
    "version": 3
   },
   "file_extension": ".py",
   "mimetype": "text/x-python",
   "name": "python",
   "nbconvert_exporter": "python",
   "pygments_lexer": "ipython3",
   "version": "3.7.3"
  }
 },
 "nbformat": 4,
 "nbformat_minor": 2
}
