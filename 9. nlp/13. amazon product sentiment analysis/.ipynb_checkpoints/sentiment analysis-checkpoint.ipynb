{
 "cells": [
  {
   "cell_type": "code",
   "execution_count": 1,
   "metadata": {},
   "outputs": [
    {
     "name": "stderr",
     "output_type": "stream",
     "text": [
      "D:\\Anaconda3\\lib\\site-packages\\pandas\\compat\\_optional.py:138: UserWarning: Pandas requires version '2.7.0' or newer of 'numexpr' (version '2.6.9' currently installed).\n",
      "  warnings.warn(msg, UserWarning)\n"
     ]
    }
   ],
   "source": [
    "import pandas as pd"
   ]
  },
  {
   "cell_type": "code",
   "execution_count": 2,
   "metadata": {},
   "outputs": [],
   "source": [
    "df = pd.read_csv('data.csv')"
   ]
  },
  {
   "cell_type": "code",
   "execution_count": 3,
   "metadata": {},
   "outputs": [],
   "source": [
    "df = df[['reviews.text', 'reviews.rating']]"
   ]
  },
  {
   "cell_type": "code",
   "execution_count": 4,
   "metadata": {},
   "outputs": [],
   "source": [
    "df['reviews.rating'].replace({1:0,2:0,3:0,4:1,5:1}, inplace=True)"
   ]
  },
  {
   "cell_type": "code",
   "execution_count": 5,
   "metadata": {},
   "outputs": [],
   "source": [
    "#Removing stopwords"
   ]
  },
  {
   "cell_type": "code",
   "execution_count": 6,
   "metadata": {},
   "outputs": [],
   "source": [
    "from nltk.corpus import stopwords\n",
    "from nltk.tokenize import word_tokenize"
   ]
  },
  {
   "cell_type": "code",
   "execution_count": 7,
   "metadata": {},
   "outputs": [],
   "source": [
    "stop_words = set(stopwords.words('english'))"
   ]
  },
  {
   "cell_type": "code",
   "execution_count": 8,
   "metadata": {},
   "outputs": [],
   "source": [
    "def preprocess(text):\n",
    "    word_tokens = word_tokenize(text)\n",
    "    processed = [w for w in word_tokens if not w.lower() in stop_words]\n",
    "    return ' '.join(processed)"
   ]
  },
  {
   "cell_type": "code",
   "execution_count": 9,
   "metadata": {},
   "outputs": [],
   "source": [
    "df['filtered'] = df['reviews.text'].map(preprocess)"
   ]
  },
  {
   "cell_type": "code",
   "execution_count": 10,
   "metadata": {},
   "outputs": [
    {
     "data": {
      "text/plain": [
       "0       thought would big small paper turn like palm ....\n",
       "1            kindle light easy use especially beach ! ! !\n",
       "2       Didnt know much 'd use kindle went lower end ....\n",
       "3       100 happy purchase . caught sale really good p...\n",
       "4       Solid entry level Kindle . Great kids . Gifted...\n",
       "                              ...                        \n",
       "4995                 great tablet price . Amazon good job\n",
       "4996    tablet perfect size easy use . Read , play gam...\n",
       "4997    Purchased son . room upgrade memory allow book...\n",
       "4998    thoughts getting 5 year old , get screen prote...\n",
       "4999                 steal , 8 gb model well.This punch..\n",
       "Name: filtered, Length: 5000, dtype: object"
      ]
     },
     "execution_count": 10,
     "metadata": {},
     "output_type": "execute_result"
    }
   ],
   "source": [
    "df['filtered']"
   ]
  },
  {
   "cell_type": "code",
   "execution_count": 11,
   "metadata": {},
   "outputs": [],
   "source": [
    "#Using simple feed forward neural network"
   ]
  },
  {
   "cell_type": "code",
   "execution_count": 12,
   "metadata": {},
   "outputs": [],
   "source": [
    "from sklearn.feature_extraction.text import CountVectorizer"
   ]
  },
  {
   "cell_type": "code",
   "execution_count": 13,
   "metadata": {},
   "outputs": [],
   "source": [
    "cv = CountVectorizer()"
   ]
  },
  {
   "cell_type": "code",
   "execution_count": 14,
   "metadata": {},
   "outputs": [],
   "source": [
    "text = cv.fit_transform(df['filtered']).toarray()"
   ]
  },
  {
   "cell_type": "code",
   "execution_count": 15,
   "metadata": {},
   "outputs": [],
   "source": [
    "from sklearn.model_selection import train_test_split"
   ]
  },
  {
   "cell_type": "code",
   "execution_count": 16,
   "metadata": {},
   "outputs": [],
   "source": [
    "X_train, X_test, Y_train, Y_test = train_test_split(text,df['reviews.rating'], shuffle=True, test_size=0.2, random_state=8)"
   ]
  },
  {
   "cell_type": "code",
   "execution_count": 17,
   "metadata": {},
   "outputs": [],
   "source": [
    "from tensorflow.keras import Sequential\n",
    "from tensorflow.keras.layers import Dense"
   ]
  },
  {
   "cell_type": "code",
   "execution_count": 18,
   "metadata": {},
   "outputs": [],
   "source": [
    "model = Sequential(\n",
    "[\n",
    "    Dense(32, activation='relu'),\n",
    "    Dense(16, activation='relu'),\n",
    "    Dense(1, activation='sigmoid')\n",
    "]\n",
    "    \n",
    ")"
   ]
  },
  {
   "cell_type": "code",
   "execution_count": 19,
   "metadata": {},
   "outputs": [],
   "source": [
    "model.compile(optimizer='adam', metrics='accuracy', loss='binary_crossentropy')"
   ]
  },
  {
   "cell_type": "code",
   "execution_count": 20,
   "metadata": {},
   "outputs": [
    {
     "name": "stdout",
     "output_type": "stream",
     "text": [
      "Epoch 1/10\n",
      "125/125 [==============================] - 1s 6ms/step - loss: 0.3393 - accuracy: 0.9293 - val_loss: 0.2424 - val_accuracy: 0.9390\n",
      "Epoch 2/10\n",
      "125/125 [==============================] - 1s 4ms/step - loss: 0.1697 - accuracy: 0.9367 - val_loss: 0.1954 - val_accuracy: 0.9430\n",
      "Epoch 3/10\n",
      "125/125 [==============================] - 1s 4ms/step - loss: 0.1097 - accuracy: 0.9555 - val_loss: 0.1892 - val_accuracy: 0.9540\n",
      "Epoch 4/10\n",
      "125/125 [==============================] - 1s 4ms/step - loss: 0.0649 - accuracy: 0.9803 - val_loss: 0.2337 - val_accuracy: 0.9520\n",
      "Epoch 5/10\n",
      "125/125 [==============================] - 1s 4ms/step - loss: 0.0358 - accuracy: 0.9908 - val_loss: 0.2577 - val_accuracy: 0.9470\n",
      "Epoch 6/10\n",
      "125/125 [==============================] - 1s 4ms/step - loss: 0.0213 - accuracy: 0.9955 - val_loss: 0.2974 - val_accuracy: 0.9460\n",
      "Epoch 7/10\n",
      "125/125 [==============================] - 1s 4ms/step - loss: 0.0134 - accuracy: 0.9975 - val_loss: 0.3283 - val_accuracy: 0.9490\n",
      "Epoch 8/10\n",
      "125/125 [==============================] - 1s 5ms/step - loss: 0.0087 - accuracy: 0.9985 - val_loss: 0.3551 - val_accuracy: 0.9490\n",
      "Epoch 9/10\n",
      "125/125 [==============================] - 1s 4ms/step - loss: 0.0058 - accuracy: 0.9992 - val_loss: 0.3809 - val_accuracy: 0.9490\n",
      "Epoch 10/10\n",
      "125/125 [==============================] - 1s 4ms/step - loss: 0.0041 - accuracy: 0.9995 - val_loss: 0.4106 - val_accuracy: 0.9490\n"
     ]
    },
    {
     "data": {
      "text/plain": [
       "<keras.callbacks.History at 0x1eb135b78d0>"
      ]
     },
     "execution_count": 20,
     "metadata": {},
     "output_type": "execute_result"
    }
   ],
   "source": [
    "model.fit(X_train, Y_train, epochs=10, validation_data=(X_test,Y_test))"
   ]
  },
  {
   "cell_type": "code",
   "execution_count": 21,
   "metadata": {},
   "outputs": [],
   "source": [
    "#Using LSTM"
   ]
  },
  {
   "cell_type": "code",
   "execution_count": 22,
   "metadata": {},
   "outputs": [],
   "source": [
    "from tensorflow.keras.preprocessing.text import Tokenizer"
   ]
  },
  {
   "cell_type": "code",
   "execution_count": 23,
   "metadata": {},
   "outputs": [],
   "source": [
    "tokenizer=Tokenizer(num_words=500)"
   ]
  },
  {
   "cell_type": "code",
   "execution_count": 24,
   "metadata": {},
   "outputs": [],
   "source": [
    "tokenizer.fit_on_texts(df['filtered'])"
   ]
  },
  {
   "cell_type": "code",
   "execution_count": 25,
   "metadata": {},
   "outputs": [],
   "source": [
    "text = tokenizer.texts_to_sequences(df['filtered'])"
   ]
  },
  {
   "cell_type": "code",
   "execution_count": 26,
   "metadata": {},
   "outputs": [],
   "source": [
    "vocab_size = len(tokenizer.word_index) + 1"
   ]
  },
  {
   "cell_type": "code",
   "execution_count": 27,
   "metadata": {},
   "outputs": [],
   "source": [
    "from keras.preprocessing.sequence import pad_sequences\n",
    "maxlen=100\n",
    "text = pad_sequences(text, padding='post', maxlen=maxlen)"
   ]
  },
  {
   "cell_type": "code",
   "execution_count": 28,
   "metadata": {},
   "outputs": [],
   "source": [
    "X_train, X_test, Y_train, Y_test = train_test_split(text,df['reviews.rating'], shuffle=True, test_size=0.2, random_state=8)"
   ]
  },
  {
   "cell_type": "code",
   "execution_count": 29,
   "metadata": {},
   "outputs": [],
   "source": [
    "from tensorflow.keras.layers import LSTM,Embedding, Flatten\n",
    "embedding_dim = 50\n",
    "model = Sequential(\n",
    "[\n",
    "    Embedding(input_dim=vocab_size, output_dim=embedding_dim, input_length=maxlen),\n",
    "    LSTM(8, activation='relu'),\n",
    "    Flatten(),\n",
    "    Dense(16, activation='relu'),\n",
    "    Dense(1, activation='sigmoid')\n",
    "]\n",
    "    \n",
    ")\n",
    "model.compile(optimizer='adam', metrics='accuracy', loss='binary_crossentropy')"
   ]
  },
  {
   "cell_type": "code",
   "execution_count": 30,
   "metadata": {},
   "outputs": [
    {
     "name": "stdout",
     "output_type": "stream",
     "text": [
      "Epoch 1/10\n",
      "125/125 [==============================] - 6s 38ms/step - loss: 0.3790 - accuracy: 0.9367 - val_loss: 0.2314 - val_accuracy: 0.9390\n",
      "Epoch 2/10\n",
      "125/125 [==============================] - 4s 35ms/step - loss: 0.2376 - accuracy: 0.9367 - val_loss: 0.2304 - val_accuracy: 0.9390\n",
      "Epoch 3/10\n",
      "125/125 [==============================] - 4s 34ms/step - loss: 0.2370 - accuracy: 0.9367 - val_loss: 0.2302 - val_accuracy: 0.9390\n",
      "Epoch 4/10\n",
      "125/125 [==============================] - 4s 34ms/step - loss: 0.2370 - accuracy: 0.9367 - val_loss: 0.2329 - val_accuracy: 0.9390\n",
      "Epoch 5/10\n",
      "125/125 [==============================] - 4s 35ms/step - loss: 0.2376 - accuracy: 0.9367 - val_loss: 0.2300 - val_accuracy: 0.9390\n",
      "Epoch 6/10\n",
      "125/125 [==============================] - 4s 34ms/step - loss: 0.2356 - accuracy: 0.9367 - val_loss: 0.5783 - val_accuracy: 0.9390\n",
      "Epoch 7/10\n",
      "125/125 [==============================] - 4s 34ms/step - loss: 0.2558 - accuracy: 0.9367 - val_loss: 0.2299 - val_accuracy: 0.9390\n",
      "Epoch 8/10\n",
      "125/125 [==============================] - 4s 34ms/step - loss: 0.2364 - accuracy: 0.9367 - val_loss: 0.2313 - val_accuracy: 0.9390\n",
      "Epoch 9/10\n",
      "125/125 [==============================] - 4s 35ms/step - loss: 0.2367 - accuracy: 0.9367 - val_loss: 0.2303 - val_accuracy: 0.9390\n",
      "Epoch 10/10\n",
      "125/125 [==============================] - 4s 34ms/step - loss: 0.2369 - accuracy: 0.9367 - val_loss: 0.2353 - val_accuracy: 0.9390\n"
     ]
    },
    {
     "data": {
      "text/plain": [
       "<keras.callbacks.History at 0x1eb148a9fd0>"
      ]
     },
     "execution_count": 30,
     "metadata": {},
     "output_type": "execute_result"
    }
   ],
   "source": [
    "model.fit(X_train, Y_train, epochs=10, validation_data=(X_test,Y_test))"
   ]
  },
  {
   "cell_type": "code",
   "execution_count": 31,
   "metadata": {},
   "outputs": [],
   "source": [
    "#Using CNN"
   ]
  },
  {
   "cell_type": "code",
   "execution_count": 32,
   "metadata": {},
   "outputs": [],
   "source": [
    "from tensorflow.keras.layers import Conv1D\n",
    "embedding_dim = 50\n",
    "model = Sequential(\n",
    "[\n",
    "    Embedding(input_dim=vocab_size, output_dim=embedding_dim, input_length=maxlen),\n",
    "    Conv1D(8, 5, activation='relu'),\n",
    "    Flatten(),\n",
    "    Dense(16, activation='relu'),\n",
    "    Dense(1, activation='sigmoid')\n",
    "]\n",
    "    \n",
    ")\n",
    "model.compile(optimizer='adam', metrics='accuracy', loss='binary_crossentropy')"
   ]
  },
  {
   "cell_type": "code",
   "execution_count": 33,
   "metadata": {},
   "outputs": [
    {
     "name": "stdout",
     "output_type": "stream",
     "text": [
      "Epoch 1/10\n",
      "125/125 [==============================] - 2s 13ms/step - loss: 0.2676 - accuracy: 0.9298 - val_loss: 0.2331 - val_accuracy: 0.9390\n",
      "Epoch 2/10\n",
      "125/125 [==============================] - 2s 12ms/step - loss: 0.2044 - accuracy: 0.9367 - val_loss: 0.1840 - val_accuracy: 0.9390\n",
      "Epoch 3/10\n",
      "125/125 [==============================] - 2s 12ms/step - loss: 0.1475 - accuracy: 0.9367 - val_loss: 0.1927 - val_accuracy: 0.9390\n",
      "Epoch 4/10\n",
      "125/125 [==============================] - 2s 12ms/step - loss: 0.1183 - accuracy: 0.9448 - val_loss: 0.1809 - val_accuracy: 0.9450\n",
      "Epoch 5/10\n",
      "125/125 [==============================] - 2s 12ms/step - loss: 0.0945 - accuracy: 0.9588 - val_loss: 0.1961 - val_accuracy: 0.9430\n",
      "Epoch 6/10\n",
      "125/125 [==============================] - 2s 12ms/step - loss: 0.0678 - accuracy: 0.9750 - val_loss: 0.2149 - val_accuracy: 0.9440\n",
      "Epoch 7/10\n",
      "125/125 [==============================] - 2s 12ms/step - loss: 0.0423 - accuracy: 0.9883 - val_loss: 0.2766 - val_accuracy: 0.9460\n",
      "Epoch 8/10\n",
      "125/125 [==============================] - 2s 13ms/step - loss: 0.0295 - accuracy: 0.9918 - val_loss: 0.3034 - val_accuracy: 0.9470\n",
      "Epoch 9/10\n",
      "125/125 [==============================] - 2s 14ms/step - loss: 0.0176 - accuracy: 0.9962 - val_loss: 0.3474 - val_accuracy: 0.9420\n",
      "Epoch 10/10\n",
      "125/125 [==============================] - 2s 13ms/step - loss: 0.0111 - accuracy: 0.9973 - val_loss: 0.4050 - val_accuracy: 0.9440\n"
     ]
    },
    {
     "data": {
      "text/plain": [
       "<keras.callbacks.History at 0x1eb0155ddd8>"
      ]
     },
     "execution_count": 33,
     "metadata": {},
     "output_type": "execute_result"
    }
   ],
   "source": [
    "model.fit(X_train, Y_train, epochs=10, validation_data=(X_test,Y_test))"
   ]
  },
  {
   "cell_type": "code",
   "execution_count": null,
   "metadata": {},
   "outputs": [],
   "source": []
  }
 ],
 "metadata": {
  "kernelspec": {
   "display_name": "Python 3",
   "language": "python",
   "name": "python3"
  },
  "language_info": {
   "codemirror_mode": {
    "name": "ipython",
    "version": 3
   },
   "file_extension": ".py",
   "mimetype": "text/x-python",
   "name": "python",
   "nbconvert_exporter": "python",
   "pygments_lexer": "ipython3",
   "version": "3.7.3"
  }
 },
 "nbformat": 4,
 "nbformat_minor": 2
}
