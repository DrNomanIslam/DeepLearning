{
 "cells": [
  {
   "cell_type": "code",
   "execution_count": 1,
   "id": "b9a9f407",
   "metadata": {},
   "outputs": [],
   "source": [
    "import pandas as pd"
   ]
  },
  {
   "cell_type": "code",
   "execution_count": 2,
   "id": "a2f70466",
   "metadata": {},
   "outputs": [],
   "source": [
    "data = pd.read_csv('data.csv')"
   ]
  },
  {
   "cell_type": "code",
   "execution_count": 3,
   "id": "804d6d9f",
   "metadata": {},
   "outputs": [],
   "source": [
    "from transformers import BertTokenizer\n",
    "bert_name = 'bert-base-cased'\n",
    "tokenizer = BertTokenizer.from_pretrained(bert_name,\n",
    " add_special_tokens=True,\n",
    " do_lower_case=False,\n",
    " max_length=150,\n",
    " pad_to_max_length=True,\n",
    " return_attention_mask=True,\n",
    " return_token_type_ids=True                                         \n",
    " )"
   ]
  },
  {
   "cell_type": "code",
   "execution_count": 4,
   "id": "d99af19c",
   "metadata": {},
   "outputs": [],
   "source": [
    "data['label']=data['label'].replace({'FAKE':1, 'REAL': 0})"
   ]
  },
  {
   "cell_type": "code",
   "execution_count": 10,
   "id": "7766c09c",
   "metadata": {},
   "outputs": [],
   "source": [
    "def bert_encoder(txt):\n",
    " encoded = tokenizer.encode_plus(txt, add_special_tokens=True, max_length=150, pad_to_max_length=True, return_attention_mask=True, return_token_type_ids=True)\n",
    " return encoded['input_ids'], encoded['token_type_ids'], encoded['attention_mask']"
   ]
  },
  {
   "cell_type": "code",
   "execution_count": null,
   "id": "6fcac756",
   "metadata": {},
   "outputs": [],
   "source": [
    "import tensorflow as tf\n",
    "bert_train = [bert_encoder(text) for text in data['text']]"
   ]
  },
  {
   "cell_type": "code",
   "execution_count": 13,
   "id": "815b0959",
   "metadata": {},
   "outputs": [],
   "source": [
    "import numpy as np\n",
    "bert_lbl = data['label']\n",
    "bert_train = np.array(bert_train)\n",
    "bert_lbl = tf.keras.utils.to_categorical(bert_lbl, num_classes=2)"
   ]
  },
  {
   "cell_type": "code",
   "execution_count": 15,
   "id": "8b5ba211",
   "metadata": {},
   "outputs": [
    {
     "name": "stdout",
     "output_type": "stream",
     "text": [
      "(5068, 3, 150) (5068, 2)\n"
     ]
    }
   ],
   "source": [
    "from sklearn.model_selection import train_test_split\n",
    "x_train, x_val, y_train, y_val = train_test_split(bert_train, bert_lbl, test_size=0.2, random_state=42)\n",
    "print(x_train.shape, y_train.shape)"
   ]
  },
  {
   "cell_type": "code",
   "execution_count": 16,
   "id": "902d57fd",
   "metadata": {},
   "outputs": [],
   "source": [
    "tr_reviews, tr_segments, tr_masks = np.split(x_train, 3, axis=1)\n",
    "val_reviews, val_segments, val_masks = np.split(x_val, 3, axis=1)"
   ]
  },
  {
   "cell_type": "code",
   "execution_count": 17,
   "id": "36ed5f5e",
   "metadata": {},
   "outputs": [],
   "source": [
    "tr_reviews = tr_reviews.squeeze()\n",
    "tr_segments = tr_segments.squeeze()\n",
    "tr_masks = tr_masks.squeeze()\n",
    "val_reviews = val_reviews.squeeze()\n",
    "val_segments = val_segments.squeeze()\n",
    "val_masks = val_masks.squeeze()"
   ]
  },
  {
   "cell_type": "code",
   "execution_count": 18,
   "id": "332f75f5",
   "metadata": {},
   "outputs": [],
   "source": [
    "def example_to_features(input_ids,attention_masks,token_type_ids,y):\n",
    " return {\"input_ids\": input_ids,\n",
    " \"attention_mask\": attention_masks,\n",
    " \"token_type_ids\": token_type_ids},y"
   ]
  },
  {
   "cell_type": "code",
   "execution_count": 19,
   "id": "41ea0da3",
   "metadata": {},
   "outputs": [],
   "source": [
    "import tensorflow as tf\n",
    "train_ds = tf.data.Dataset.from_tensor_slices((tr_reviews,tr_masks, tr_segments, y_train)).map(example_to_features).shuffle(100).batch(16)\n",
    "valid_ds = tf.data.Dataset.from_tensor_slices((val_reviews,val_masks, val_segments, y_val)).map(example_to_features).shuffle(100).batch(16)"
   ]
  },
  {
   "cell_type": "code",
   "execution_count": 20,
   "id": "d2bf2c20",
   "metadata": {},
   "outputs": [
    {
     "name": "stderr",
     "output_type": "stream",
     "text": [
      "All model checkpoint layers were used when initializing TFBertForSequenceClassification.\n",
      "\n",
      "Some layers of TFBertForSequenceClassification were not initialized from the model checkpoint at bert-base-cased and are newly initialized: ['classifier']\n",
      "You should probably TRAIN this model on a down-stream task to be able to use it for predictions and inference.\n"
     ]
    }
   ],
   "source": [
    "from transformers import TFBertForSequenceClassification\n",
    "bert_model = TFBertForSequenceClassification.from_pretrained(bert_name)"
   ]
  },
  {
   "cell_type": "code",
   "execution_count": 21,
   "id": "637c5c50",
   "metadata": {},
   "outputs": [],
   "source": [
    "import numpy as np"
   ]
  },
  {
   "cell_type": "code",
   "execution_count": 22,
   "id": "7aed2413",
   "metadata": {},
   "outputs": [],
   "source": [
    "bert_model.compile(optimizer='adam', loss='binary_crossentropy', metrics=['accuracy'])"
   ]
  },
  {
   "cell_type": "code",
   "execution_count": null,
   "id": "84c3d07f",
   "metadata": {},
   "outputs": [
    {
     "name": "stdout",
     "output_type": "stream",
     "text": [
      "Epoch 1/5\n",
      "  3/317 [..............................] - ETA: 54:00 - loss: 6.2760 - accuracy: 0.3750 "
     ]
    }
   ],
   "source": [
    "bert_history = bert_model.fit(train_ds, epochs=5,validation_data=valid_ds)"
   ]
  },
  {
   "cell_type": "code",
   "execution_count": null,
   "id": "72c190ce",
   "metadata": {},
   "outputs": [],
   "source": []
  }
 ],
 "metadata": {
  "kernelspec": {
   "display_name": "Python 3 (ipykernel)",
   "language": "python",
   "name": "python3"
  },
  "language_info": {
   "codemirror_mode": {
    "name": "ipython",
    "version": 3
   },
   "file_extension": ".py",
   "mimetype": "text/x-python",
   "name": "python",
   "nbconvert_exporter": "python",
   "pygments_lexer": "ipython3",
   "version": "3.9.7"
  }
 },
 "nbformat": 4,
 "nbformat_minor": 5
}
