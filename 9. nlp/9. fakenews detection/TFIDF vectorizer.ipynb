{
 "cells": [
  {
   "cell_type": "code",
   "execution_count": 1,
   "id": "40726187",
   "metadata": {},
   "outputs": [],
   "source": [
    "import pandas as pd"
   ]
  },
  {
   "cell_type": "code",
   "execution_count": 2,
   "id": "0557efc9",
   "metadata": {},
   "outputs": [],
   "source": [
    "data = pd.read_csv('data.csv')"
   ]
  },
  {
   "cell_type": "code",
   "execution_count": 3,
   "id": "06d3eb55",
   "metadata": {},
   "outputs": [
    {
     "data": {
      "text/html": [
       "<div>\n",
       "<style scoped>\n",
       "    .dataframe tbody tr th:only-of-type {\n",
       "        vertical-align: middle;\n",
       "    }\n",
       "\n",
       "    .dataframe tbody tr th {\n",
       "        vertical-align: top;\n",
       "    }\n",
       "\n",
       "    .dataframe thead th {\n",
       "        text-align: right;\n",
       "    }\n",
       "</style>\n",
       "<table border=\"1\" class=\"dataframe\">\n",
       "  <thead>\n",
       "    <tr style=\"text-align: right;\">\n",
       "      <th></th>\n",
       "      <th>Unnamed: 0</th>\n",
       "      <th>title</th>\n",
       "      <th>text</th>\n",
       "      <th>label</th>\n",
       "    </tr>\n",
       "  </thead>\n",
       "  <tbody>\n",
       "    <tr>\n",
       "      <th>0</th>\n",
       "      <td>8476</td>\n",
       "      <td>You Can Smell Hillary’s Fear</td>\n",
       "      <td>Daniel Greenfield, a Shillman Journalism Fello...</td>\n",
       "      <td>FAKE</td>\n",
       "    </tr>\n",
       "    <tr>\n",
       "      <th>1</th>\n",
       "      <td>10294</td>\n",
       "      <td>Watch The Exact Moment Paul Ryan Committed Pol...</td>\n",
       "      <td>Google Pinterest Digg Linkedin Reddit Stumbleu...</td>\n",
       "      <td>FAKE</td>\n",
       "    </tr>\n",
       "    <tr>\n",
       "      <th>2</th>\n",
       "      <td>3608</td>\n",
       "      <td>Kerry to go to Paris in gesture of sympathy</td>\n",
       "      <td>U.S. Secretary of State John F. Kerry said Mon...</td>\n",
       "      <td>REAL</td>\n",
       "    </tr>\n",
       "    <tr>\n",
       "      <th>3</th>\n",
       "      <td>10142</td>\n",
       "      <td>Bernie supporters on Twitter erupt in anger ag...</td>\n",
       "      <td>— Kaydee King (@KaydeeKing) November 9, 2016 T...</td>\n",
       "      <td>FAKE</td>\n",
       "    </tr>\n",
       "    <tr>\n",
       "      <th>4</th>\n",
       "      <td>875</td>\n",
       "      <td>The Battle of New York: Why This Primary Matters</td>\n",
       "      <td>It's primary day in New York and front-runners...</td>\n",
       "      <td>REAL</td>\n",
       "    </tr>\n",
       "    <tr>\n",
       "      <th>...</th>\n",
       "      <td>...</td>\n",
       "      <td>...</td>\n",
       "      <td>...</td>\n",
       "      <td>...</td>\n",
       "    </tr>\n",
       "    <tr>\n",
       "      <th>6330</th>\n",
       "      <td>4490</td>\n",
       "      <td>State Department says it can't find emails fro...</td>\n",
       "      <td>The State Department told the Republican Natio...</td>\n",
       "      <td>REAL</td>\n",
       "    </tr>\n",
       "    <tr>\n",
       "      <th>6331</th>\n",
       "      <td>8062</td>\n",
       "      <td>The ‘P’ in PBS Should Stand for ‘Plutocratic’ ...</td>\n",
       "      <td>The ‘P’ in PBS Should Stand for ‘Plutocratic’ ...</td>\n",
       "      <td>FAKE</td>\n",
       "    </tr>\n",
       "    <tr>\n",
       "      <th>6332</th>\n",
       "      <td>8622</td>\n",
       "      <td>Anti-Trump Protesters Are Tools of the Oligarc...</td>\n",
       "      <td>Anti-Trump Protesters Are Tools of the Oligar...</td>\n",
       "      <td>FAKE</td>\n",
       "    </tr>\n",
       "    <tr>\n",
       "      <th>6333</th>\n",
       "      <td>4021</td>\n",
       "      <td>In Ethiopia, Obama seeks progress on peace, se...</td>\n",
       "      <td>ADDIS ABABA, Ethiopia —President Obama convene...</td>\n",
       "      <td>REAL</td>\n",
       "    </tr>\n",
       "    <tr>\n",
       "      <th>6334</th>\n",
       "      <td>4330</td>\n",
       "      <td>Jeb Bush Is Suddenly Attacking Trump. Here's W...</td>\n",
       "      <td>Jeb Bush Is Suddenly Attacking Trump. Here's W...</td>\n",
       "      <td>REAL</td>\n",
       "    </tr>\n",
       "  </tbody>\n",
       "</table>\n",
       "<p>6335 rows × 4 columns</p>\n",
       "</div>"
      ],
      "text/plain": [
       "      Unnamed: 0                                              title  \\\n",
       "0           8476                       You Can Smell Hillary’s Fear   \n",
       "1          10294  Watch The Exact Moment Paul Ryan Committed Pol...   \n",
       "2           3608        Kerry to go to Paris in gesture of sympathy   \n",
       "3          10142  Bernie supporters on Twitter erupt in anger ag...   \n",
       "4            875   The Battle of New York: Why This Primary Matters   \n",
       "...          ...                                                ...   \n",
       "6330        4490  State Department says it can't find emails fro...   \n",
       "6331        8062  The ‘P’ in PBS Should Stand for ‘Plutocratic’ ...   \n",
       "6332        8622  Anti-Trump Protesters Are Tools of the Oligarc...   \n",
       "6333        4021  In Ethiopia, Obama seeks progress on peace, se...   \n",
       "6334        4330  Jeb Bush Is Suddenly Attacking Trump. Here's W...   \n",
       "\n",
       "                                                   text label  \n",
       "0     Daniel Greenfield, a Shillman Journalism Fello...  FAKE  \n",
       "1     Google Pinterest Digg Linkedin Reddit Stumbleu...  FAKE  \n",
       "2     U.S. Secretary of State John F. Kerry said Mon...  REAL  \n",
       "3     — Kaydee King (@KaydeeKing) November 9, 2016 T...  FAKE  \n",
       "4     It's primary day in New York and front-runners...  REAL  \n",
       "...                                                 ...   ...  \n",
       "6330  The State Department told the Republican Natio...  REAL  \n",
       "6331  The ‘P’ in PBS Should Stand for ‘Plutocratic’ ...  FAKE  \n",
       "6332   Anti-Trump Protesters Are Tools of the Oligar...  FAKE  \n",
       "6333  ADDIS ABABA, Ethiopia —President Obama convene...  REAL  \n",
       "6334  Jeb Bush Is Suddenly Attacking Trump. Here's W...  REAL  \n",
       "\n",
       "[6335 rows x 4 columns]"
      ]
     },
     "execution_count": 3,
     "metadata": {},
     "output_type": "execute_result"
    }
   ],
   "source": [
    "data"
   ]
  },
  {
   "cell_type": "code",
   "execution_count": 4,
   "id": "fa3a3efa",
   "metadata": {},
   "outputs": [],
   "source": [
    "from sklearn.model_selection import train_test_split"
   ]
  },
  {
   "cell_type": "code",
   "execution_count": 5,
   "id": "ec82e745",
   "metadata": {},
   "outputs": [],
   "source": [
    "trainX, testX,train_y, test_y = train_test_split(data['text'], data['label'],test_size=0.3, random_state=5)"
   ]
  },
  {
   "cell_type": "code",
   "execution_count": 6,
   "id": "1541a14b",
   "metadata": {},
   "outputs": [],
   "source": [
    "from sklearn.feature_extraction.text import TfidfVectorizer"
   ]
  },
  {
   "cell_type": "code",
   "execution_count": 7,
   "id": "f91d6727",
   "metadata": {},
   "outputs": [],
   "source": [
    "vectorizer = TfidfVectorizer(stop_words='english', max_df=0.7)"
   ]
  },
  {
   "cell_type": "code",
   "execution_count": 8,
   "id": "e563aeb3",
   "metadata": {},
   "outputs": [],
   "source": [
    "trainX = vectorizer.fit_transform(trainX)"
   ]
  },
  {
   "cell_type": "code",
   "execution_count": 9,
   "id": "19fb5aad",
   "metadata": {},
   "outputs": [],
   "source": [
    "testX = vectorizer.transform(testX)"
   ]
  },
  {
   "cell_type": "code",
   "execution_count": 10,
   "id": "31a37277",
   "metadata": {},
   "outputs": [],
   "source": [
    "from sklearn.linear_model import PassiveAggressiveClassifier"
   ]
  },
  {
   "cell_type": "code",
   "execution_count": 11,
   "id": "ab96ccd8",
   "metadata": {},
   "outputs": [],
   "source": [
    "pac = PassiveAggressiveClassifier()"
   ]
  },
  {
   "cell_type": "code",
   "execution_count": 12,
   "id": "1606bca4",
   "metadata": {},
   "outputs": [
    {
     "data": {
      "text/plain": [
       "PassiveAggressiveClassifier()"
      ]
     },
     "execution_count": 12,
     "metadata": {},
     "output_type": "execute_result"
    }
   ],
   "source": [
    "pac.fit(trainX,train_y)"
   ]
  },
  {
   "cell_type": "code",
   "execution_count": 13,
   "id": "397bb29d",
   "metadata": {},
   "outputs": [],
   "source": [
    "from sklearn.metrics import accuracy_score"
   ]
  },
  {
   "cell_type": "code",
   "execution_count": 14,
   "id": "f07b68c5",
   "metadata": {},
   "outputs": [],
   "source": [
    "predict_y = pac.predict(testX)"
   ]
  },
  {
   "cell_type": "code",
   "execution_count": 15,
   "id": "6257d58d",
   "metadata": {},
   "outputs": [
    {
     "data": {
      "text/plain": [
       "0.9384534455549711"
      ]
     },
     "execution_count": 15,
     "metadata": {},
     "output_type": "execute_result"
    }
   ],
   "source": [
    "accuracy_score(predict_y,test_y)"
   ]
  },
  {
   "cell_type": "code",
   "execution_count": 16,
   "id": "b637441c",
   "metadata": {},
   "outputs": [],
   "source": [
    "from sklearn.metrics import confusion_matrix"
   ]
  },
  {
   "cell_type": "code",
   "execution_count": 17,
   "id": "65d261c2",
   "metadata": {},
   "outputs": [
    {
     "data": {
      "text/plain": [
       "array([[881,  54],\n",
       "       [ 63, 903]], dtype=int64)"
      ]
     },
     "execution_count": 17,
     "metadata": {},
     "output_type": "execute_result"
    }
   ],
   "source": [
    "confusion_matrix(test_y,predict_y,labels=['FAKE','REAL'])"
   ]
  },
  {
   "cell_type": "code",
   "execution_count": 18,
   "id": "0c345009",
   "metadata": {},
   "outputs": [],
   "source": [
    " from sklearn.metrics import plot_roc_curve"
   ]
  },
  {
   "cell_type": "code",
   "execution_count": 19,
   "id": "2c7354f7",
   "metadata": {},
   "outputs": [
    {
     "data": {
      "text/plain": [
       "<sklearn.metrics._plot.roc_curve.RocCurveDisplay at 0x19543df6e20>"
      ]
     },
     "execution_count": 19,
     "metadata": {},
     "output_type": "execute_result"
    },
    {
     "data": {
      "image/png": "[encoded data removed]",
      "text/plain": [
       "<Figure size 432x288 with 1 Axes>"
      ]
     },
     "metadata": {
      "needs_background": "light"
     },
     "output_type": "display_data"
    }
   ],
   "source": [
    "plot_roc_curve(pac,testX,test_y)"
   ]
  },
  {
   "cell_type": "code",
   "execution_count": 28,
   "id": "55e5412b",
   "metadata": {},
   "outputs": [],
   "source": [
    "data['label'].replace({'REAL':0, 'FAKE': 1}, inplace=True)\n",
    "trainX, testX,train_y, test_y = train_test_split(data['text'], data['label'],test_size=0.3, random_state=5)"
   ]
  },
  {
   "cell_type": "code",
   "execution_count": 21,
   "id": "8678f652",
   "metadata": {},
   "outputs": [],
   "source": [
    "import tensorflow as tf\n",
    "text_vectorizer = tf.keras.layers.TextVectorization(\n",
    "     output_mode='int', pad_to_max_tokens=True,max_tokens=2500 , standardize='lower_and_strip_punctuation')\n",
    "text_vectorizer.adapt(data['text'])"
   ]
  },
  {
   "cell_type": "code",
   "execution_count": 37,
   "id": "15132bd4",
   "metadata": {},
   "outputs": [],
   "source": [
    "from tensorflow.keras.models import Sequential\n",
    "from tensorflow.keras.layers import LSTM, Dense, Input,Embedding, Conv1D, GlobalMaxPooling1D"
   ]
  },
  {
   "cell_type": "code",
   "execution_count": 39,
   "id": "f98045ff",
   "metadata": {},
   "outputs": [],
   "source": [
    "model = Sequential([\n",
    "    Input((1,),dtype=tf.string),\n",
    "    text_vectorizer,\n",
    "    Embedding(2500,8),\n",
    "    Conv1D(16,3),\n",
    "    GlobalMaxPooling1D(),\n",
    "    Dense(1,activation='sigmoid')\n",
    "]\n",
    ")"
   ]
  },
  {
   "cell_type": "code",
   "execution_count": 40,
   "id": "894dc52a",
   "metadata": {},
   "outputs": [],
   "source": [
    "model.compile(optimizer='rmsprop',loss='binary_crossentropy', metrics='accuracy')"
   ]
  },
  {
   "cell_type": "code",
   "execution_count": 43,
   "id": "43b0db67",
   "metadata": {},
   "outputs": [
    {
     "name": "stdout",
     "output_type": "stream",
     "text": [
      "Epoch 1/10\n",
      "139/139 [==============================] - 9s 64ms/step - loss: 0.0781 - accuracy: 0.9761 - val_loss: 0.2242 - val_accuracy: 0.9016\n",
      "Epoch 2/10\n",
      "139/139 [==============================] - 9s 64ms/step - loss: 0.0724 - accuracy: 0.9793 - val_loss: 0.2256 - val_accuracy: 0.8990\n",
      "Epoch 3/10\n",
      "139/139 [==============================] - 9s 64ms/step - loss: 0.0662 - accuracy: 0.9795 - val_loss: 0.2241 - val_accuracy: 0.9053\n",
      "Epoch 4/10\n",
      "139/139 [==============================] - 9s 65ms/step - loss: 0.0612 - accuracy: 0.9813 - val_loss: 0.2254 - val_accuracy: 0.9048\n",
      "Epoch 5/10\n",
      "139/139 [==============================] - 9s 64ms/step - loss: 0.0564 - accuracy: 0.9835 - val_loss: 0.2262 - val_accuracy: 0.9069\n",
      "Epoch 6/10\n",
      "139/139 [==============================] - 9s 64ms/step - loss: 0.0511 - accuracy: 0.9858 - val_loss: 0.2278 - val_accuracy: 0.9053\n",
      "Epoch 7/10\n",
      "139/139 [==============================] - 9s 64ms/step - loss: 0.0472 - accuracy: 0.9851 - val_loss: 0.2283 - val_accuracy: 0.9090\n",
      "Epoch 8/10\n",
      "139/139 [==============================] - 9s 65ms/step - loss: 0.0436 - accuracy: 0.9871 - val_loss: 0.2316 - val_accuracy: 0.9090\n",
      "Epoch 9/10\n",
      "139/139 [==============================] - 9s 64ms/step - loss: 0.0398 - accuracy: 0.9889 - val_loss: 0.2340 - val_accuracy: 0.9085\n",
      "Epoch 10/10\n",
      "139/139 [==============================] - 9s 64ms/step - loss: 0.0367 - accuracy: 0.9899 - val_loss: 0.2371 - val_accuracy: 0.9079\n"
     ]
    },
    {
     "data": {
      "text/plain": [
       "<keras.callbacks.History at 0x19573a6bc70>"
      ]
     },
     "execution_count": 43,
     "metadata": {},
     "output_type": "execute_result"
    }
   ],
   "source": [
    "model.fit(trainX, train_y, epochs=10, validation_data=(testX,test_y))"
   ]
  },
  {
   "cell_type": "code",
   "execution_count": 44,
   "id": "f37a2165",
   "metadata": {},
   "outputs": [],
   "source": [
    "model = Sequential([\n",
    "    Input((1,),dtype=tf.string),\n",
    "    text_vectorizer,\n",
    "    Embedding(2500,8),\n",
    "    LSTM(16,activation='relu'),\n",
    "    Dense(1,activation='sigmoid')\n",
    "]\n",
    ")"
   ]
  },
  {
   "cell_type": "code",
   "execution_count": 45,
   "id": "671ec3c1",
   "metadata": {},
   "outputs": [],
   "source": [
    "model.compile(optimizer='rmsprop',loss='binary_crossentropy', metrics='accuracy')"
   ]
  },
  {
   "cell_type": "code",
   "execution_count": null,
   "id": "f71f26be",
   "metadata": {},
   "outputs": [
    {
     "name": "stdout",
     "output_type": "stream",
     "text": [
      "Epoch 1/10\n",
      "139/139 [==============================] - 547s 4s/step - loss: 0.6930 - accuracy: 0.5153 - val_loss: 0.6930 - val_accuracy: 0.4918\n",
      "Epoch 2/10\n",
      " 34/139 [======>.......................] - ETA: 6:29 - loss: 0.6934 - accuracy: 0.5101"
     ]
    }
   ],
   "source": [
    "model.fit(trainX, train_y, epochs=10, validation_data=(testX,test_y))"
   ]
  },
  {
   "cell_type": "code",
   "execution_count": null,
   "id": "c34205a2",
   "metadata": {},
   "outputs": [],
   "source": []
  }
 ],
 "metadata": {
  "kernelspec": {
   "display_name": "Python 3 (ipykernel)",
   "language": "python",
   "name": "python3"
  },
  "language_info": {
   "codemirror_mode": {
    "name": "ipython",
    "version": 3
   },
   "file_extension": ".py",
   "mimetype": "text/x-python",
   "name": "python",
   "nbconvert_exporter": "python",
   "pygments_lexer": "ipython3",
   "version": "3.9.7"
  }
 },
 "nbformat": 4,
 "nbformat_minor": 5
}
