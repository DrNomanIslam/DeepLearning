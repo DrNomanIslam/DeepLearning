{
  "cells": [
    {
      "cell_type": "code",
      "execution_count": null,
      "id": "835a9c4b",
      "metadata": {
        "id": "835a9c4b"
      },
      "outputs": [],
      "source": [
        "import pandas as pd"
      ]
    },
    {
      "cell_type": "code",
      "source": [
        "from google.colab import drive\n",
        "drive.mount('/content/drive')"
      ],
      "metadata": {
        "colab": {
          "base_uri": "https://localhost:8080/"
        },
        "id": "RLFKwb4aywaG",
        "outputId": "b3fcfe98-df6f-496a-d128-a6a0160285d6"
      },
      "id": "RLFKwb4aywaG",
      "execution_count": null,
      "outputs": [
        {
          "output_type": "stream",
          "name": "stdout",
          "text": [
            "Mounted at /content/drive\n"
          ]
        }
      ]
    },
    {
      "cell_type": "code",
      "execution_count": null,
      "id": "eae1b1c3",
      "metadata": {
        "id": "eae1b1c3"
      },
      "outputs": [],
      "source": [
        "from sklearn.preprocessing import LabelEncoder\n",
        "data = pd.read_csv('/content/drive/MyDrive/data.csv')\n",
        "X = data['text']\n",
        "y = LabelEncoder().fit_transform(data['label'])"
      ]
    },
    {
      "cell_type": "code",
      "execution_count": null,
      "id": "8416e850",
      "metadata": {
        "id": "8416e850"
      },
      "outputs": [],
      "source": [
        "from sklearn.model_selection import train_test_split"
      ]
    },
    {
      "cell_type": "code",
      "execution_count": null,
      "id": "88efc6cd",
      "metadata": {
        "id": "88efc6cd"
      },
      "outputs": [],
      "source": [
        "import tensorflow as tf"
      ]
    },
    {
      "cell_type": "code",
      "execution_count": null,
      "id": "0945a9ea",
      "metadata": {
        "id": "0945a9ea"
      },
      "outputs": [],
      "source": [
        "max_len= 100\n",
        "text_vectorizer = tf.keras.layers.TextVectorization(\n",
        "     output_mode='int', pad_to_max_tokens=True,max_tokens=2500 , output_sequence_length=max_len, standardize='lower_and_strip_punctuation')\n",
        "text_vectorizer.adapt(X)"
      ]
    },
    {
      "cell_type": "code",
      "execution_count": null,
      "id": "40e8eb30",
      "metadata": {
        "id": "40e8eb30"
      },
      "outputs": [],
      "source": [
        "length = len(text_vectorizer.get_vocabulary()) + 1"
      ]
    },
    {
      "cell_type": "code",
      "source": [
        "print(length)"
      ],
      "metadata": {
        "colab": {
          "base_uri": "https://localhost:8080/"
        },
        "id": "k9XxYf6gzqEl",
        "outputId": "de2bdb98-37d9-45b5-80ff-78c7b40faf4a"
      },
      "id": "k9XxYf6gzqEl",
      "execution_count": null,
      "outputs": [
        {
          "output_type": "stream",
          "name": "stdout",
          "text": [
            "2501\n"
          ]
        }
      ]
    },
    {
      "cell_type": "code",
      "execution_count": null,
      "id": "afc1ff04",
      "metadata": {
        "id": "afc1ff04"
      },
      "outputs": [],
      "source": [
        "X_train, X_test,y_train, y_test = train_test_split(X,y, test_size=0.3, shuffle=True, random_state=5)"
      ]
    },
    {
      "cell_type": "code",
      "execution_count": null,
      "id": "ff9dac6b",
      "metadata": {
        "id": "ff9dac6b"
      },
      "outputs": [],
      "source": [
        "from tensorflow.keras.models import Sequential\n",
        "from tensorflow.keras.layers import LSTM, Dense, Input,Embedding, Dropout, GRU\n",
        "import tensorflow as tf"
      ]
    },
    {
      "cell_type": "code",
      "execution_count": null,
      "id": "dd9a8c5e",
      "metadata": {
        "id": "dd9a8c5e"
      },
      "outputs": [],
      "source": [
        "model = Sequential([\n",
        "    Input((1,),dtype=tf.string),\n",
        "    text_vectorizer,\n",
        "    Embedding(2500,8, input_length=max_len),\n",
        "    LSTM(16, activation='tanh'),\n",
        "    Dense(1,activation='sigmoid')\n",
        "]\n",
        ")"
      ]
    },
    {
      "cell_type": "code",
      "execution_count": null,
      "id": "9b4e0a04",
      "metadata": {
        "id": "9b4e0a04"
      },
      "outputs": [],
      "source": [
        "model.compile(optimizer='adam',loss='binary_crossentropy', metrics='accuracy')"
      ]
    },
    {
      "cell_type": "code",
      "execution_count": null,
      "id": "e102b1fc",
      "metadata": {
        "colab": {
          "base_uri": "https://localhost:8080/"
        },
        "id": "e102b1fc",
        "outputId": "e2538ff5-d465-426d-aa87-34da2ca6ffba"
      },
      "outputs": [
        {
          "output_type": "stream",
          "name": "stdout",
          "text": [
            "Epoch 1/20\n",
            "139/139 [==============================] - 13s 81ms/step - loss: 0.6369 - accuracy: 0.5981 - val_loss: 0.4880 - val_accuracy: 0.8064\n",
            "Epoch 2/20\n",
            "139/139 [==============================] - 2s 16ms/step - loss: 0.4961 - accuracy: 0.8065 - val_loss: 0.4225 - val_accuracy: 0.8417\n",
            "Epoch 3/20\n",
            "139/139 [==============================] - 2s 16ms/step - loss: 0.3385 - accuracy: 0.8857 - val_loss: 0.3550 - val_accuracy: 0.8632\n",
            "Epoch 4/20\n",
            "139/139 [==============================] - 2s 16ms/step - loss: 0.2437 - accuracy: 0.9235 - val_loss: 0.3680 - val_accuracy: 0.8606\n",
            "Epoch 5/20\n",
            "139/139 [==============================] - 2s 16ms/step - loss: 0.1850 - accuracy: 0.9398 - val_loss: 0.3522 - val_accuracy: 0.8748\n",
            "Epoch 6/20\n",
            "139/139 [==============================] - 2s 16ms/step - loss: 0.1493 - accuracy: 0.9571 - val_loss: 0.3076 - val_accuracy: 0.8827\n",
            "Epoch 7/20\n",
            "139/139 [==============================] - 2s 16ms/step - loss: 0.1189 - accuracy: 0.9698 - val_loss: 0.4237 - val_accuracy: 0.8738\n",
            "Epoch 8/20\n",
            "139/139 [==============================] - 2s 16ms/step - loss: 0.0967 - accuracy: 0.9768 - val_loss: 0.3748 - val_accuracy: 0.8816\n",
            "Epoch 9/20\n",
            "139/139 [==============================] - 2s 16ms/step - loss: 0.0748 - accuracy: 0.9822 - val_loss: 0.3934 - val_accuracy: 0.8848\n",
            "Epoch 10/20\n",
            "139/139 [==============================] - 2s 17ms/step - loss: 0.0653 - accuracy: 0.9862 - val_loss: 0.4677 - val_accuracy: 0.8816\n",
            "Epoch 11/20\n",
            "139/139 [==============================] - 2s 16ms/step - loss: 0.0554 - accuracy: 0.9889 - val_loss: 0.3964 - val_accuracy: 0.8774\n",
            "Epoch 12/20\n",
            "139/139 [==============================] - 2s 16ms/step - loss: 0.2014 - accuracy: 0.9484 - val_loss: 0.4558 - val_accuracy: 0.8648\n",
            "Epoch 13/20\n",
            "139/139 [==============================] - 2s 16ms/step - loss: 0.1009 - accuracy: 0.9734 - val_loss: 0.3758 - val_accuracy: 0.8816\n",
            "Epoch 14/20\n",
            "139/139 [==============================] - 2s 16ms/step - loss: 0.0653 - accuracy: 0.9838 - val_loss: 0.3575 - val_accuracy: 0.8853\n",
            "Epoch 15/20\n",
            "139/139 [==============================] - 2s 16ms/step - loss: 0.0453 - accuracy: 0.9914 - val_loss: 0.4383 - val_accuracy: 0.8922\n",
            "Epoch 16/20\n",
            "139/139 [==============================] - 2s 16ms/step - loss: 0.0419 - accuracy: 0.9914 - val_loss: 0.4553 - val_accuracy: 0.8922\n",
            "Epoch 17/20\n",
            "139/139 [==============================] - 2s 16ms/step - loss: 0.0697 - accuracy: 0.9797 - val_loss: 0.4452 - val_accuracy: 0.8858\n",
            "Epoch 18/20\n",
            "139/139 [==============================] - 2s 16ms/step - loss: 0.0419 - accuracy: 0.9914 - val_loss: 0.4581 - val_accuracy: 0.8848\n",
            "Epoch 19/20\n",
            "139/139 [==============================] - 2s 17ms/step - loss: 0.0364 - accuracy: 0.9930 - val_loss: 0.4798 - val_accuracy: 0.8927\n",
            "Epoch 20/20\n",
            "139/139 [==============================] - 2s 16ms/step - loss: 0.0332 - accuracy: 0.9937 - val_loss: 0.4514 - val_accuracy: 0.8911\n"
          ]
        }
      ],
      "source": [
        "history = model.fit(X_train, y_train, epochs=20, validation_data=(X_test,y_test))"
      ]
    },
    {
      "cell_type": "code",
      "execution_count": null,
      "id": "ba7fe5c3",
      "metadata": {
        "colab": {
          "base_uri": "https://localhost:8080/",
          "height": 265
        },
        "id": "ba7fe5c3",
        "outputId": "ccbbbd90-d0bb-476c-b85f-e8843e464c2d"
      },
      "outputs": [
        {
          "output_type": "display_data",
          "data": {
            "text/plain": [
              "<Figure size 432x288 with 1 Axes>"
            ],
            "image/png": "[encoded data removed]"
          },
          "metadata": {
            "needs_background": "light"
          }
        }
      ],
      "source": [
        "import matplotlib.pyplot as plt\n",
        "acc = history.history['accuracy']\n",
        "val_acc = history.history['val_accuracy']\n",
        "epochs = len(acc)\n",
        "plt.plot(range(epochs),acc, label='Training accuracy')\n",
        "plt.plot(range(epochs),val_acc,label='Validation accuracy')\n",
        "plt.legend()\n",
        "plt.show()"
      ]
    },
    {
      "cell_type": "code",
      "source": [
        "loss = history.history['loss']\n",
        "val_loss = history.history['val_loss']\n",
        "plt.plot(range(epochs),loss, label='Training loss')\n",
        "plt.plot(range(epochs),val_loss,label='Validation loss')\n",
        "plt.legend()\n",
        "plt.show()"
      ],
      "metadata": {
        "colab": {
          "base_uri": "https://localhost:8080/",
          "height": 265
        },
        "id": "ZND7ZTmnLr3R",
        "outputId": "9541a775-a03c-4696-da48-8092b11b436a"
      },
      "id": "ZND7ZTmnLr3R",
      "execution_count": null,
      "outputs": [
        {
          "output_type": "display_data",
          "data": {
            "text/plain": [
              "<Figure size 432x288 with 1 Axes>"
            ],
            "image/png": "[encoded data removed]"
          },
          "metadata": {
            "needs_background": "light"
          }
        }
      ]
    },
    {
      "cell_type": "code",
      "source": [
        "pred = model.predict(X_test)"
      ],
      "metadata": {
        "id": "Bfeyih9qLvbD"
      },
      "id": "Bfeyih9qLvbD",
      "execution_count": null,
      "outputs": []
    },
    {
      "cell_type": "code",
      "source": [
        "import numpy as np\n",
        "from sklearn.metrics import classification_report\n",
        "print(classification_report(y_test,np.round(pred)))"
      ],
      "metadata": {
        "colab": {
          "base_uri": "https://localhost:8080/"
        },
        "id": "f8e2t9rYL4v-",
        "outputId": "0c345601-7acb-4cee-e9c2-063d0ac7578c"
      },
      "id": "f8e2t9rYL4v-",
      "execution_count": null,
      "outputs": [
        {
          "output_type": "stream",
          "name": "stdout",
          "text": [
            "              precision    recall  f1-score   support\n",
            "\n",
            "           0       0.88      0.90      0.89       935\n",
            "           1       0.90      0.89      0.89       966\n",
            "\n",
            "    accuracy                           0.89      1901\n",
            "   macro avg       0.89      0.89      0.89      1901\n",
            "weighted avg       0.89      0.89      0.89      1901\n",
            "\n"
          ]
        }
      ]
    },
    {
      "cell_type": "code",
      "source": [
        ""
      ],
      "metadata": {
        "id": "Bhl6s1heMLC5"
      },
      "id": "Bhl6s1heMLC5",
      "execution_count": null,
      "outputs": []
    }
  ],
  "metadata": {
    "kernelspec": {
      "display_name": "Python 3 (ipykernel)",
      "language": "python",
      "name": "python3"
    },
    "language_info": {
      "codemirror_mode": {
        "name": "ipython",
        "version": 3
      },
      "file_extension": ".py",
      "mimetype": "text/x-python",
      "name": "python",
      "nbconvert_exporter": "python",
      "pygments_lexer": "ipython3",
      "version": "3.9.7"
    },
    "colab": {
      "name": "LSTM based classification.ipynb",
      "provenance": [],
      "collapsed_sections": []
    },
    "accelerator": "GPU"
  },
  "nbformat": 4,
  "nbformat_minor": 5
}